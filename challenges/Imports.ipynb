{
 "cells": [
  {
   "cell_type": "markdown",
   "id": "c6da632b-0a40-4ccf-b272-33763e35c39d",
   "metadata": {
    "tags": []
   },
   "source": [
    "# Challenge 2 Imports"
   ]
  },
  {
   "cell_type": "code",
   "execution_count": 1,
   "id": "003cbf54-c539-4f96-8b62-b3b1610d1128",
   "metadata": {},
   "outputs": [],
   "source": [
    "import os\n",
    "import sys\n",
    "sys.path.append(\"/expanse/projects/qstore/csd973/MB-Fit_dev\")"
   ]
  },
  {
   "cell_type": "code",
   "execution_count": 2,
   "id": "c8ce0f8e-7e65-410f-b479-a80f4d3af4a7",
   "metadata": {},
   "outputs": [],
   "source": [
    "%load_ext autoreload\n",
    "%autoreload 2"
   ]
  },
  {
   "cell_type": "code",
   "execution_count": 3,
   "id": "4bb65143-8ada-4e77-a8dc-edcd12ea2955",
   "metadata": {},
   "outputs": [],
   "source": [
    "%matplotlib agg"
   ]
  },
  {
   "cell_type": "markdown",
   "id": "96cb8ff0-ca69-483f-846d-9939516113a0",
   "metadata": {},
   "source": [
    "Common python libraries:"
   ]
  },
  {
   "cell_type": "code",
   "execution_count": 4,
   "id": "20e109cc-ba7f-4994-a040-583982e74ccb",
   "metadata": {},
   "outputs": [],
   "source": [
    "# import numpy\n",
    "from IPython.display import HTML\n",
    "import itertools"
   ]
  },
  {
   "cell_type": "markdown",
   "id": "7a5d7c12-12d0-46f8-8b95-5de3052763c1",
   "metadata": {},
   "source": [
    "`mbfit.system` contains the backbone of MB-Fit, the `System` and associated classes:"
   ]
  },
  {
   "cell_type": "code",
   "execution_count": 5,
   "id": "bb2b465c-f0e9-46be-8709-b450e15e11fc",
   "metadata": {},
   "outputs": [],
   "source": [
    "from mbfit.system import BasicCompound\n",
    "from mbfit.system.system_like import BondType\n",
    "from mbfit.system.definition import BasicFragmentDefinition, BasicCompoundDefinition, AtomDefinition, BondDefinition\n",
    "from mbfit.system.initializer import VSEPRInitializer\n",
    "from mbfit.system.descriptor import fragment_definition_to_xyz, compound_definition_to_xyz, compound_to_xyz, compound_to_commented_xyz\n",
    "from mbfit.system.parser import xyz_to_compound_definition, xyz_to_compound_definition, xyz_to_compound_by_definition\n",
    "from mbfit.system.transformer import SystemTransformer\n",
    "from mbfit.system.copier import CompoundCopier\n",
    "from mbfit.system.transformer import make_scan\n",
    "from mbfit.system.region import BasicMutableRegionManager\n",
    "# from mbfit.system.descriptor.energy_decomposition_comment_line_descriptor import EnergyDecompositionCommentLineDescriptor\n",
    "\n",
    "from mbfit.system.io import write_fragment_definition, write_definition, write_system, write_systems, read_fragment_definition, read_definition, read_system, read_systems, write_system_and_energy, write_systems_and_energies, read_system_and_energy, read_systems_and_energies\n",
    "from mbfit.system.io import write_system_and_nmer_energies, write_systems_and_nmer_energies, read_system_and_nmer_energy, read_systems_and_nmer_energies\n",
    "from mbfit.system.io import write_training_set_file"
   ]
  },
  {
   "cell_type": "markdown",
   "id": "a33a78c6-9e21-4406-99ff-b563e9a7dbdb",
   "metadata": {},
   "source": [
    "`mbfit.calculator` contains wrappers for QM software and functions to help us manipulate electronic structure data:"
   ]
  },
  {
   "cell_type": "code",
   "execution_count": 6,
   "id": "02240083-70db-40b6-a202-684272cb5a7f",
   "metadata": {},
   "outputs": [],
   "source": [
    "from mbfit.calculator import QchemCalculator, OrcaCalculator, Psi4Calculator\n",
    "from mbfit.calculator import calculate_energy, calculate_energies, minimize_structures, minimize_structure, calculate_vibrational_modes, write_vibrational_modes, read_vibrational_modes, calculate_nmer_energies, find_clusters\n",
    "from mbfit.calculator import calculate_many_body_energies, calculate_many_body_energy, calculate_binding_energies, calculate_binding_energy\n",
    "from mbfit.calculator import write_multiple_vibrational_modes, read_multiple_vibrational_modes, discard_failed_configurations"
   ]
  },
  {
   "cell_type": "markdown",
   "id": "688a4869-9de2-4e08-991d-03eec7629504",
   "metadata": {},
   "source": [
    "`mbfit.visualization` contains functions to make plots and structure renders:"
   ]
  },
  {
   "cell_type": "code",
   "execution_count": 7,
   "id": "3905465e-bbb6-4dc8-b73c-f53a3195ef2f",
   "metadata": {},
   "outputs": [],
   "source": [
    "from mbfit.visualization import render_system, render_systems, render_overlayed_systems\n",
    "from mbfit.visualization import plot_scan, plot_clusters, plot_correlation"
   ]
  },
  {
   "cell_type": "markdown",
   "id": "d445e1cb-07c4-460d-88ae-71a624ccf072",
   "metadata": {},
   "source": [
    "`mbfit.parametrization` will allow us to parametrize $V_{phys}$ and the PIPs:"
   ]
  },
  {
   "cell_type": "code",
   "execution_count": 8,
   "id": "cd541407-49b4-424c-b9d5-708aac2ba0f1",
   "metadata": {},
   "outputs": [],
   "source": [
    "from mbfit.polynomials_old import generate_polynomial\n",
    "from mbfit.parametrization import calculate_polarizabilities_by_XDM, calculate_radii_by_XDM, calculate_C6_by_XDM, calculate_d6_from_radii, get_ESP_grid_points, calculate_ESP_at_grid_points, fit_charges_to_ESP\n",
    "from mbfit.parametrization import generate_pip_parametizer, parametrize_pip, evaluate_pip, read_parameters, write_parameters"
   ]
  },
  {
   "cell_type": "markdown",
   "id": "4b31af23-8019-4ead-98f4-317d9b60567b",
   "metadata": {},
   "source": [
    "`mbfit.configurations` has tools to generate configurations for our training sets:"
   ]
  },
  {
   "cell_type": "code",
   "execution_count": 9,
   "id": "4b0a5474-9c99-4748-9758-5a6298e572d5",
   "metadata": {},
   "outputs": [],
   "source": [
    "from mbfit.configurations import NormalModesConfigurationGenerator, get_pbmetad_parameters, perform_pbmetad_simulation, RandomDistanceAndRotationConfigurationGenerator"
   ]
  },
  {
   "cell_type": "markdown",
   "id": "3dc8c919-b18b-4a5e-ba70-b9579a496dc2",
   "metadata": {},
   "source": [
    "`mbfit.potential` has the functions to evaluate $V_{phys}$ and other energy contributions."
   ]
  },
  {
   "cell_type": "code",
   "execution_count": 10,
   "id": "070fcfd1-a8ae-4f57-b3e1-8bce7ab089f4",
   "metadata": {},
   "outputs": [],
   "source": [
    "from mbfit.potential import calculate_Vphys_energies, calculate_Vphys_nmer_energies"
   ]
  },
  {
   "cell_type": "markdown",
   "id": "e2ed7b15-362e-46be-85a6-f6f13ae55171",
   "metadata": {},
   "source": [
    "`mbfit.sampling` has the tools we will use to choose the configurations for our training set."
   ]
  },
  {
   "cell_type": "code",
   "execution_count": 11,
   "id": "2d390e20-3534-4047-b502-796e3bdfef94",
   "metadata": {},
   "outputs": [],
   "source": [
    "from mbfit.sampling import perform_fps, split_pool, SplitStrategy, filter_configs_by_cutoff"
   ]
  },
  {
   "cell_type": "markdown",
   "id": "8eb19e28-004a-46d6-83d3-aa2ff304ce56",
   "metadata": {},
   "source": [
    "`mbfit.implementation` will help us generate the C++ code required to evaluate the PEF in MBX."
   ]
  },
  {
   "cell_type": "code",
   "execution_count": 12,
   "id": "a9685878-0ed1-4257-8dcd-ea7de821c885",
   "metadata": {},
   "outputs": [],
   "source": [
    "from mbfit.implementation import initialize_mbx, add_monomer_type_to_MBX, add_excluded_pairs, add_charges_to_MBX, add_polarizability_factors_to_MBX, add_polarizabilities_to_MBX, add_reciprocal_space_C6_to_MBX, add_C6_and_d6_to_MBX, compile_mbx, add_PIP_to_MBX, calculate_MBX_energy, calculate_MBX_nmer_energies"
   ]
  },
  {
   "cell_type": "markdown",
   "id": "c0f92f0d-4647-4046-b1b2-4798df15c794",
   "metadata": {},
   "source": [
    "Finally, `mbfit.utils` contains a few helpful functions."
   ]
  },
  {
   "cell_type": "code",
   "execution_count": 13,
   "id": "4ea9c6e0-4719-471e-a0b8-efe8b70ac6f4",
   "metadata": {
    "tags": []
   },
   "outputs": [],
   "source": [
    "from mbfit.utils.filesystem import Directory\n",
    "# from mbfit.utils.job_manager import SLURMJobManager, JobManager, LocalJobManager\n",
    "# from mbfit.utils import constants"
   ]
  },
  {
   "cell_type": "markdown",
   "id": "b8b92413-f1c7-4601-9f9a-55f2c86f60d0",
   "metadata": {
    "tags": []
   },
   "source": [
    "## Don't look here (this part is intended to be removed before the workshop, so if you see this I forgot.)"
   ]
  },
  {
   "cell_type": "code",
   "execution_count": 17,
   "id": "8491e04e-cf5b-4175-9c18-f8d483db2014",
   "metadata": {},
   "outputs": [],
   "source": [
    "# qchem_job_template=\"\"\"\n",
    "# module load cpu/0.15.4  gcc/10.2.0  mvapich2/2.3.6 qchem/5.4\n",
    "# conda activate p310\n",
    "# cd ~/software/development/MB-Fit_versions/QDMS_2025\n",
    "# export MBFIT_HOME=$PWD\n",
    "# source sourceme.sh\n",
    "# cd -\n",
    "\n",
    "# export QCSCRATCH=/expanse/lustre/scratch/$USER/temp_project/qscratch\n",
    "# export QCLOCALSCR=/scratch/$USER/job_$SLURM_JOB_ID\n",
    "\n",
    "# \"\"\"\n",
    "\n",
    "# def get_qchem_job_manager(job_scratch_directory: Directory) -> JobManager:\n",
    "#     job_scratch_directory.create()\n",
    "#     return LocalJobManager()\n",
    "#     return SLURMJobManager(\n",
    "#             input_path=f\"{job_scratch_directory}/job.in\",\n",
    "#             output_path=f\"{job_scratch_directory}/job.out\",\n",
    "#             log_path=f\"{job_scratch_directory}/job.log\",\n",
    "#             job_path=f\"{job_scratch_directory}/job.job\",\n",
    "#             job_output_path=f\"{job_scratch_directory}/job.stdout\",\n",
    "#             job_error_path=f\"{job_scratch_directory}/job.stderr\",\n",
    "#             max_queue_size=10,\n",
    "#             job_name=\"slurm_job_manager\",\n",
    "#             allocation=\"csd888\",\n",
    "#             reservation=None,\n",
    "#             partition=\"shared\",\n",
    "#             qos=None,\n",
    "#             max_walltime_minutes=60,\n",
    "#             nodes=1,\n",
    "#             tasks=1,\n",
    "#             processors_per_task=32,\n",
    "#             template=qchem_job_template\n",
    "#     )"
   ]
  },
  {
   "cell_type": "code",
   "execution_count": 1,
   "id": "f77d6f16-9956-4318-8c1b-3ce4e76b5957",
   "metadata": {},
   "outputs": [
    {
     "ename": "ModuleNotFoundError",
     "evalue": "No module named 'mbfit'",
     "output_type": "error",
     "traceback": [
      "\u001b[0;31m---------------------------------------------------------------------------\u001b[0m",
      "\u001b[0;31mModuleNotFoundError\u001b[0m                       Traceback (most recent call last)",
      "Cell \u001b[0;32mIn[1], line 11\u001b[0m\n\u001b[1;32m      1\u001b[0m psi4_job_template\u001b[38;5;241m=\u001b[39m\u001b[38;5;124m\"\"\"\u001b[39m\n\u001b[1;32m      2\u001b[0m \u001b[38;5;124msource ~/.bashrc\u001b[39m\n\u001b[1;32m      3\u001b[0m \u001b[38;5;124mconda activate qdms_tutorial_2\u001b[39m\n\u001b[0;32m   (...)\u001b[0m\n\u001b[1;32m      8\u001b[0m \u001b[38;5;124mcd -\u001b[39m\n\u001b[1;32m      9\u001b[0m \u001b[38;5;124m\"\"\"\u001b[39m\n\u001b[0;32m---> 11\u001b[0m \u001b[38;5;28;01mfrom\u001b[39;00m\u001b[38;5;250m \u001b[39m\u001b[38;5;21;01mmbfit\u001b[39;00m\u001b[38;5;21;01m.\u001b[39;00m\u001b[38;5;21;01mutils\u001b[39;00m\u001b[38;5;21;01m.\u001b[39;00m\u001b[38;5;21;01mjob_manager\u001b[39;00m\u001b[38;5;250m \u001b[39m\u001b[38;5;28;01mimport\u001b[39;00m SLURMJobManager\n\u001b[1;32m     13\u001b[0m \u001b[38;5;28;01mdef\u001b[39;00m\u001b[38;5;250m \u001b[39m\u001b[38;5;21mget_psi4_job_manager\u001b[39m(job_scratch_directory: Directory):\n\u001b[1;32m     14\u001b[0m     job_scratch_directory\u001b[38;5;241m.\u001b[39mcreate()\n",
      "\u001b[0;31mModuleNotFoundError\u001b[0m: No module named 'mbfit'"
     ]
    }
   ],
   "source": [
    "psi4_job_template=\"\"\"\n",
    "source ~/.bashrc\n",
    "conda activate qdms_tutorial_2\n",
    "\n",
    "cd /expanse/projects/qstore/csd973/MB-Fit_dev\n",
    "export MBFIT_HOME=$PWD\n",
    "source sourceme.sh\n",
    "cd -\n",
    "\"\"\"\n",
    "\n",
    "from mbfit.utils.job_manager import SLURMJobManager, CompoundJobManager\n",
    "\n",
    "def get_psi4_job_manager(job_scratch_directory: Directory):\n",
    "    job_scratch_directory.create()\n",
    "    return CompoundJobManager(\n",
    "        [\n",
    "            SLURMJobManager(\n",
    "                input_path=f\"{job_scratch_directory}/job{i}.in\",\n",
    "                output_path=f\"{job_scratch_directory}/job{i}.out\",\n",
    "                log_path=f\"{job_scratch_directory}/job{i}.log\",\n",
    "                job_path=f\"{job_scratch_directory}/job{i}.job\",\n",
    "                job_output_path=f\"{job_scratch_directory}/job{i}.stdout\",\n",
    "                job_error_path=f\"{job_scratch_directory}/job{i}.stderr\",\n",
    "                max_queue_size=10,\n",
    "                job_name=\"slurm_job_manager{i}\",\n",
    "                allocation=\"csd973\",\n",
    "                reservation=None,\n",
    "                partition=\"shared\",\n",
    "                qos=None,\n",
    "                max_walltime_minutes=120,\n",
    "                nodes=1,\n",
    "                tasks=1,\n",
    "                processors_per_task=4,\n",
    "                template=psi4_job_template\n",
    "            )\n",
    "            for i in range(10)\n",
    "        ]\n",
    "    )\n",
    "    return SLURMJobManager(\n",
    "            input_path=f\"{job_scratch_directory}/job.in\",\n",
    "            output_path=f\"{job_scratch_directory}/job.out\",\n",
    "            log_path=f\"{job_scratch_directory}/job.log\",\n",
    "            job_path=f\"{job_scratch_directory}/job.job\",\n",
    "            job_output_path=f\"{job_scratch_directory}/job.stdout\",\n",
    "            job_error_path=f\"{job_scratch_directory}/job.stderr\",\n",
    "            max_queue_size=10,\n",
    "            job_name=\"slurm_job_manager\",\n",
    "            allocation=\"csd973\",\n",
    "            reservation=None,\n",
    "            partition=\"shared\",\n",
    "            qos=None,\n",
    "            max_walltime_minutes=60,\n",
    "            nodes=1,\n",
    "            tasks=1,\n",
    "            processors_per_task=4,\n",
    "            template=psi4_job_template\n",
    "    )"
   ]
  },
  {
   "cell_type": "code",
   "execution_count": null,
   "id": "0429ad4b-f92b-496f-81d5-c481cc88eef4",
   "metadata": {},
   "outputs": [],
   "source": [
    "structures = Directory(\"structures\").create()"
   ]
  },
  {
   "cell_type": "code",
   "execution_count": null,
   "id": "960123c1-56a6-485b-96b9-5b335b8aaae9",
   "metadata": {},
   "outputs": [],
   "source": [
    "definitions = Directory(\"definitions\").create()"
   ]
  },
  {
   "cell_type": "code",
   "execution_count": null,
   "id": "4f7cc0b6-181e-4f10-b397-25b9b2abc004",
   "metadata": {},
   "outputs": [],
   "source": [
    "logs = Directory(\"logs\").create()"
   ]
  },
  {
   "cell_type": "code",
   "execution_count": null,
   "id": "c8b37074-786c-4a3f-9e97-9228923571d2",
   "metadata": {},
   "outputs": [],
   "source": [
    "scratch = Directory(\"scratch\").create()"
   ]
  },
  {
   "cell_type": "code",
   "execution_count": 1,
   "id": "90ab1998-6122-4d2a-b7e0-d8d1c6be95e7",
   "metadata": {},
   "outputs": [
    {
     "ename": "NameError",
     "evalue": "name 'Directory' is not defined",
     "output_type": "error",
     "traceback": [
      "\u001b[0;31m---------------------------------------------------------------------------\u001b[0m",
      "\u001b[0;31mNameError\u001b[0m                                 Traceback (most recent call last)",
      "Cell \u001b[0;32mIn[1], line 1\u001b[0m\n\u001b[0;32m----> 1\u001b[0m restart \u001b[38;5;241m=\u001b[39m \u001b[43mDirectory\u001b[49m(\u001b[38;5;124m\"\u001b[39m\u001b[38;5;124mrestart\u001b[39m\u001b[38;5;124m\"\u001b[39m)\u001b[38;5;241m.\u001b[39mcreate()\n",
      "\u001b[0;31mNameError\u001b[0m: name 'Directory' is not defined"
     ]
    }
   ],
   "source": [
    "restart = Directory(\"restart\").create()"
   ]
  },
  {
   "cell_type": "code",
   "execution_count": null,
   "id": "6d7d0434-556a-4eb6-95b7-fb7086ecdb15",
   "metadata": {},
   "outputs": [],
   "source": []
  }
 ],
 "metadata": {
  "kernelspec": {
   "display_name": "Python 3 (ipykernel)",
   "language": "python",
   "name": "python3"
  },
  "language_info": {
   "codemirror_mode": {
    "name": "ipython",
    "version": 3
   },
   "file_extension": ".py",
   "mimetype": "text/x-python",
   "name": "python",
   "nbconvert_exporter": "python",
   "pygments_lexer": "ipython3",
   "version": "3.10.10"
  }
 },
 "nbformat": 4,
 "nbformat_minor": 5
}
