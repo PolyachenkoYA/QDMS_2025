{
 "cells": [
  {
   "cell_type": "markdown",
   "metadata": {
    "tags": []
   },
   "source": [
    "# 2.4: Two-Body Potential Energy Surface"
   ]
  },
  {
   "cell_type": "markdown",
   "metadata": {},
   "source": [
    "Next, we will parameterize the \"physical baseline\" ($V_{phys}$) of the PEF."
   ]
  },
  {
   "cell_type": "markdown",
   "metadata": {},
   "source": [
    "In this section, we construct, from scratch, a 1-body MB-nrg-style PEF for CH3-NH2."
   ]
  },
  {
   "cell_type": "markdown",
   "metadata": {
    "jp-MarkdownHeadingCollapsed": true,
    "tags": []
   },
   "source": [
    "## 2.4.0 Definitions and Imports"
   ]
  },
  {
   "cell_type": "code",
   "execution_count": null,
   "metadata": {},
   "outputs": [],
   "source": [
    "%run Tutorial_2_Imports.ipynb"
   ]
  },
  {
   "cell_type": "code",
   "execution_count": null,
   "metadata": {},
   "outputs": [],
   "source": [
    "%run Tutorial_2_Paths.ipynb"
   ]
  },
  {
   "cell_type": "markdown",
   "metadata": {
    "jp-MarkdownHeadingCollapsed": true,
    "tags": []
   },
   "source": [
    "## 2.4.1 Normal Modes Configuration Generation"
   ]
  },
  {
   "cell_type": "code",
   "execution_count": null,
   "metadata": {},
   "outputs": [],
   "source": [
    "definition_CH3NH2 = read_definition(paths.definitions.systems.CH3NH2)\n",
    "minimized_structure_CH3NH2, minimized_energy_CH3NH2 = read_system_and_energy(definition_CH3NH2, paths.structures.minimized_CH3NH2)\n",
    "\n",
    "definition_H2O = read_definition(paths.definitions.systems.H2O)\n",
    "minimized_structure_H2O, minimized_energy_H2O = read_system_and_energy(definition_H2O, paths.structures.minimized_H2O)\n",
    "\n",
    "definition_CH3NH2_H2O = read_definition(paths.definitions.systems.CH3NH2_H2O)"
   ]
  },
  {
   "cell_type": "code",
   "execution_count": null,
   "metadata": {},
   "outputs": [],
   "source": [
    "clusters_CH3NH2_H2O = read_systems(definition_CH3NH2_H2O, paths.clusters.CH3NH2_H2O)\n",
    "vibrational_modes_clusters_CH3NH2_H2O = read_multiple_vibrational_modes(paths.clusters.CH3NH2_H2O_modes)"
   ]
  },
  {
   "cell_type": "code",
   "execution_count": null,
   "metadata": {},
   "outputs": [],
   "source": [
    "configurations_vibrational_modes_CH3NH2_H2O = []\n",
    "\n",
    "for cluster, modes in zip(clusters_CH3NH2_H2O, vibrational_modes_clusters_CH3NH2_H2O):\n",
    "    configuration_generator = NormalModesConfigurationGenerator(\n",
    "            cluster,\n",
    "            modes,\n",
    "            distribution=\"linear\",\n",
    "            temperature=(10, 150)\n",
    "    )\n",
    "\n",
    "    configs = list(configuration_generator.generate_configurations(num_configs=150, seed=54321))\n",
    "    configurations_vibrational_modes_CH3NH2_H2O.extend(configs)\n",
    "    \n",
    "write_systems(paths.PIP_CH3NH2_H2O.configs.vibrational_modes, configurations_vibrational_modes_CH3NH2_H2O)"
   ]
  },
  {
   "cell_type": "code",
   "execution_count": null,
   "metadata": {},
   "outputs": [],
   "source": [
    "render_overlayed_systems(\n",
    "    configurations_vibrational_modes_CH3NH2_H2O,\n",
    "    centerer=lambda system: system.atoms[0].point,\n",
    "    aligner=lambda system: (system.atoms[4].point, system.atoms[1].point),\n",
    "    alpha=0.05,\n",
    "    num_to_show=100\n",
    ")"
   ]
  },
  {
   "cell_type": "markdown",
   "metadata": {
    "jp-MarkdownHeadingCollapsed": true,
    "tags": []
   },
   "source": [
    "## 2.4.2 Random Distance "
   ]
  },
  {
   "cell_type": "code",
   "execution_count": null,
   "metadata": {},
   "outputs": [],
   "source": [
    "vibrational_modes_CH3NH2 = read_vibrational_modes(paths.structures.vibrational_modes_CH3NH2)"
   ]
  },
  {
   "cell_type": "code",
   "execution_count": null,
   "metadata": {},
   "outputs": [],
   "source": [
    "vibrational_modes_H2O = read_vibrational_modes(paths.structures.vibrational_modes_H2O)"
   ]
  },
  {
   "cell_type": "code",
   "execution_count": null,
   "metadata": {},
   "outputs": [],
   "source": [
    "generator_CH3NH2 = NormalModesConfigurationGenerator(\n",
    "        minimized_structure_CH3NH2,\n",
    "        vibrational_modes_CH3NH2,\n",
    ")\n",
    "\n",
    "monomer_configs_CH3NH2 = list(generator_CH3NH2.generate_configurations(num_configs=500, seed=54321))"
   ]
  },
  {
   "cell_type": "code",
   "execution_count": null,
   "metadata": {},
   "outputs": [],
   "source": [
    "generator_H2O = NormalModesConfigurationGenerator(\n",
    "        minimized_structure_H2O,\n",
    "        vibrational_modes_H2O,\n",
    ")\n",
    "\n",
    "monomer_configs_H2O = list(generator_H2O.generate_configurations(num_configs=500, seed=54321))"
   ]
  },
  {
   "cell_type": "code",
   "execution_count": null,
   "metadata": {},
   "outputs": [],
   "source": [
    "# config_generator = RandomDistanceAndRotationConfigurationGenerator(\n",
    "#         [monomer_configs_CH3NH2, monomer_configs_H2O],\n",
    "#         radius=9.0,\n",
    "#         min_intermolecular_distance_factor=0.8,\n",
    "#         logarithmic=True,\n",
    "#         use_pools=True,\n",
    "#         num_attempts=100\n",
    "# )\n",
    "\n",
    "# random_configs_CH3NH2_H2O = list(config_generator.generate_configurations(\n",
    "#         num_configs=2000,\n",
    "#         seed=12345,\n",
    "# ))\n",
    "\n",
    "# write_systems(paths.PIP_CH3NH2_H2O.configs.random, random_configs_CH3NH2_H2O)\n",
    "random_configs_CH3NH2_H2O = read_systems(definition_CH3NH2_H2O, paths.PIP_CH3NH2_H2O.configs.random)"
   ]
  },
  {
   "cell_type": "code",
   "execution_count": null,
   "metadata": {},
   "outputs": [],
   "source": [
    "render_overlayed_systems(\n",
    "    random_configs_CH3NH2_H2O,\n",
    "    centerer=lambda system: system.atoms[0].point,\n",
    "    aligner=lambda system: (system.atoms[4].point, system.atoms[1].point),\n",
    "    alpha=0.10,\n",
    "    num_to_show=100\n",
    ")"
   ]
  },
  {
   "cell_type": "markdown",
   "metadata": {
    "jp-MarkdownHeadingCollapsed": true,
    "tags": []
   },
   "source": [
    "## 2.4.3 Parallel-Bias Metadynamics Configuration Generation"
   ]
  },
  {
   "cell_type": "code",
   "execution_count": null,
   "metadata": {},
   "outputs": [],
   "source": [
    "bond_params, angle_params, nonbonded_params = get_pbmetad_parameters(\n",
    "        clusters_CH3NH2_H2O[0]\n",
    ")"
   ]
  },
  {
   "cell_type": "code",
   "execution_count": null,
   "metadata": {},
   "outputs": [],
   "source": [
    "bond_params"
   ]
  },
  {
   "cell_type": "code",
   "execution_count": null,
   "metadata": {},
   "outputs": [],
   "source": [
    "angle_params"
   ]
  },
  {
   "cell_type": "code",
   "execution_count": null,
   "metadata": {},
   "outputs": [],
   "source": [
    "nonbonded_params"
   ]
  },
  {
   "cell_type": "code",
   "execution_count": null,
   "metadata": {},
   "outputs": [],
   "source": [
    "charges = read_parameters(paths.Vphys.charges)\n",
    "charges = {symmetry: charges[symmetry]*1/3 for symmetry in charges}\n",
    "charges[\"E\"] = -0.6*1/3\n",
    "charges[\"F\"] = +0.3*1/3"
   ]
  },
  {
   "cell_type": "code",
   "execution_count": null,
   "metadata": {},
   "outputs": [],
   "source": [
    "perform_pbmetad_simulation(\n",
    "        lammps_executable_path,\n",
    "        [minimized_structure_CH3NH2, minimized_structure_H2O],\n",
    "        num_configs=500000,\n",
    "        sample_interval=10,\n",
    "        temperature=700,\n",
    "        seed=12345,\n",
    "        configurations_path=paths.PIP_CH3NH2_H2O.configs.pbmetad_pool,\n",
    "        bond_params=bond_params,\n",
    "        angle_params=angle_params,\n",
    "        nonbonded_params=nonbonded_params,\n",
    "        charges=charges,\n",
    "        pbmetad_workdir=paths.scratch.pbmetad_CH3NH2_H2O,\n",
    "        restart_path=paths.restart.pbmetad_CH3NH2_H2O,\n",
    "        min_intermolecular_distance=1.5,\n",
    "        max_intermolecular_distance=9.0\n",
    ")"
   ]
  },
  {
   "cell_type": "code",
   "execution_count": null,
   "metadata": {},
   "outputs": [],
   "source": [
    "inner_cutoff_2b = 6.0\n",
    "outer_cutoff_2b = 7.0"
   ]
  },
  {
   "cell_type": "code",
   "execution_count": null,
   "metadata": {},
   "outputs": [],
   "source": [
    "num_filtered_configs = filter_configs_by_cutoff(\n",
    "        definition_CH3NH2_H2O,\n",
    "        paths.PIP_CH3NH2_H2O.configs.pbmetad_pool,\n",
    "        threshold=outer_cutoff_2b,\n",
    "        filtered_path=paths.PIP_CH3NH2_H2O.configs.pbmetad_pool_filtered\n",
    ")"
   ]
  },
  {
   "cell_type": "code",
   "execution_count": null,
   "metadata": {},
   "outputs": [],
   "source": [
    "split_pool(\n",
    "        definition_CH3NH2_H2O,\n",
    "        paths.PIP_CH3NH2_H2O.configs.pbmetad_pool_filtered,\n",
    "        pool_size=num_filtered_configs,\n",
    "        num_configs_to_split=200,\n",
    "        unsplit_path=paths.PIP_CH3NH2_H2O.configs.pbmetad_train_pool,\n",
    "        split_path=paths.PIP_CH3NH2_H2O.configs.pbmetad_test,\n",
    "        strategy=\"INTERVAL\",\n",
    ")"
   ]
  },
  {
   "cell_type": "code",
   "execution_count": null,
   "metadata": {},
   "outputs": [],
   "source": [
    "pbmetad_configs_CH3NH2_H2O = perform_fps(\n",
    "        definition_CH3NH2_H2O,\n",
    "        clusters_CH3NH2_H2O[0],\n",
    "        vibrational_modes_clusters_CH3NH2_H2O[0],\n",
    "        paths.PIP_CH3NH2_H2O.configs.pbmetad_train_pool,\n",
    "        num_pool_configs=num_filtered_configs-200,\n",
    "        num_phase1_input_configs=100000,\n",
    "        approx_configs_to_select=2000,\n",
    "        fps_workdir=paths.scratch.fps_CH3NH2_H2O,\n",
    "        restart_path=paths.restart.fps_CH3NH2_H2O,\n",
    "        num_threads=16\n",
    ")"
   ]
  },
  {
   "cell_type": "code",
   "execution_count": null,
   "metadata": {},
   "outputs": [],
   "source": [
    "render_overlayed_systems(\n",
    "    pbmetad_configs_CH3NH2_H2O,\n",
    "    centerer=lambda system: system.atoms[0].point,\n",
    "    aligner=lambda system: (system.atoms[4].point, system.atoms[3].point),\n",
    "    alpha=0.10,\n",
    "    num_to_show=100\n",
    ")"
   ]
  },
  {
   "cell_type": "code",
   "execution_count": null,
   "metadata": {},
   "outputs": [],
   "source": [
    "write_systems(paths.PIP_CH3NH2_H2O.configs.pbmetad_train, pbmetad_configs_CH3NH2_H2O)"
   ]
  },
  {
   "cell_type": "markdown",
   "metadata": {
    "jp-MarkdownHeadingCollapsed": true,
    "tags": []
   },
   "source": [
    "## 2.4.4 Energy Calculation"
   ]
  },
  {
   "cell_type": "code",
   "execution_count": null,
   "metadata": {},
   "outputs": [],
   "source": [
    "calculator = Psi4Calculator(\n",
    "        \"MP2\",\n",
    "        \"def2-TZVP\",\n",
    "        log_directory=str(paths.logs),\n",
    "        scratch_directory=str(paths.scratch.psi4)\n",
    ")"
   ]
  },
  {
   "cell_type": "code",
   "execution_count": null,
   "metadata": {},
   "outputs": [],
   "source": [
    "energies_vibrational_modes_CH3NH2_H2O = calculate_nmer_energies(\n",
    "        configurations_vibrational_modes_CH3NH2_H2O,\n",
    "        calculator,\n",
    "        paths.restart.energies_vibrational_mode_configs_CH3NH2_H2O,\n",
    "        num_threads=8,\n",
    "        mem_mb=8000,\n",
    "        error_on_any_failure=False,\n",
    "        retrieve_only=True\n",
    ")\n",
    "write_systems_and_nmer_energies(paths.PIP_CH3NH2_H2O.configs.vibrational_modes_energies, (configurations_vibrational_modes_CH3NH2_H2O, energies_vibrational_modes_CH3NH2_H2O))"
   ]
  },
  {
   "cell_type": "code",
   "execution_count": null,
   "metadata": {},
   "outputs": [],
   "source": [
    "energies_pbmetad_CH3NH2_H2O = calculate_nmer_energies(\n",
    "        pbmetad_configs_CH3NH2_H2O,\n",
    "        calculator,\n",
    "        paths.restart.energies_pbmetad_configs_CH3NH2_H2O,\n",
    "        num_threads=8,\n",
    "        mem_mb=8000,\n",
    "        error_on_any_failure=False,\n",
    "        retrieve_only=True\n",
    ")\n",
    "write_systems_and_nmer_energies(paths.PIP_CH3NH2_H2O.configs.pbmetad_train_energies, (pbmetad_configs_CH3NH2_H2O, energies_pbmetad_CH3NH2_H2O))"
   ]
  },
  {
   "cell_type": "code",
   "execution_count": null,
   "metadata": {},
   "outputs": [],
   "source": [
    "energies_random_CH3NH2_H2O = calculate_nmer_energies(\n",
    "        random_configs_CH3NH2_H2O,\n",
    "        calculator,\n",
    "        paths.restart.energies_random_configs_CH3NH2_H2O,\n",
    "        num_threads=16,\n",
    "        mem_mb=16000,\n",
    "        error_on_any_failure=False,\n",
    "        retrieve_only=True\n",
    ")\n",
    "write_systems_and_nmer_energies(paths.PIP_CH3NH2_H2O.configs.random_energies, (random_configs_CH3NH2_H2O, energies_random_CH3NH2_H2O))"
   ]
  },
  {
   "cell_type": "code",
   "execution_count": null,
   "metadata": {},
   "outputs": [],
   "source": [
    "configurations_vibrational_modes_CH3NH2_H2O, energies_vibrational_modes_CH3NH2_H2O = discard_failed_configurations(\n",
    "        configurations_vibrational_modes_CH3NH2_H2O,\n",
    "        energies_vibrational_modes_CH3NH2_H2O\n",
    ")\n",
    "\n",
    "pbmetad_configs_CH3NH2_H2O, energies_pbmetad_CH3NH2_H2O = discard_failed_configurations(\n",
    "        pbmetad_configs_CH3NH2_H2O,\n",
    "        energies_pbmetad_CH3NH2_H2O\n",
    ")\n",
    "\n",
    "random_configs_CH3NH2_H2O, energies_random_CH3NH2_H2O = discard_failed_configurations(\n",
    "        random_configs_CH3NH2_H2O,\n",
    "        energies_random_CH3NH2_H2O\n",
    ")"
   ]
  },
  {
   "cell_type": "code",
   "execution_count": null,
   "metadata": {},
   "outputs": [],
   "source": [
    "energies_2b_vibrational_modes_CH3NH2_H2O = calculate_many_body_energies(\n",
    "    configurations_vibrational_modes_CH3NH2_H2O,\n",
    "    energies_vibrational_modes_CH3NH2_H2O,\n",
    "    minimized_monomer_energies=[minimized_energy_CH3NH2, minimized_energy_H2O]\n",
    ")\n",
    "\n",
    "energies_2b_pbmetad_CH3NH2_H2O = calculate_many_body_energies(\n",
    "    pbmetad_configs_CH3NH2_H2O,\n",
    "    energies_pbmetad_CH3NH2_H2O,\n",
    "    minimized_monomer_energies=[minimized_energy_CH3NH2, minimized_energy_H2O]\n",
    ")\n",
    "\n",
    "energies_2b_random_CH3NH2_H2O = calculate_many_body_energies(\n",
    "    random_configs_CH3NH2_H2O,\n",
    "    energies_random_CH3NH2_H2O,\n",
    "    minimized_monomer_energies=[minimized_energy_CH3NH2, minimized_energy_H2O]\n",
    ")"
   ]
  },
  {
   "cell_type": "code",
   "execution_count": null,
   "metadata": {},
   "outputs": [],
   "source": [
    "energies_binding_vibrational_modes_CH3NH2_H2O = calculate_binding_energies(\n",
    "    configurations_vibrational_modes_CH3NH2_H2O,\n",
    "    energies_vibrational_modes_CH3NH2_H2O,\n",
    "    minimized_monomer_energies=[minimized_energy_CH3NH2, minimized_energy_H2O]\n",
    ")\n",
    "\n",
    "energies_binding_pbmetad_CH3NH2_H2O = calculate_binding_energies(\n",
    "    pbmetad_configs_CH3NH2_H2O,\n",
    "    energies_pbmetad_CH3NH2_H2O,\n",
    "    minimized_monomer_energies=[minimized_energy_CH3NH2, minimized_energy_H2O]\n",
    ")\n",
    "\n",
    "energies_binding_random_CH3NH2_H2O = calculate_binding_energies(\n",
    "    random_configs_CH3NH2_H2O,\n",
    "    energies_random_CH3NH2_H2O,\n",
    "    minimized_monomer_energies=[minimized_energy_CH3NH2, minimized_energy_H2O]\n",
    ")"
   ]
  },
  {
   "cell_type": "code",
   "execution_count": null,
   "metadata": {},
   "outputs": [],
   "source": [
    "write_training_set_file(\n",
    "        paths.PIP_CH3NH2_H2O.training_set,\n",
    "        (\n",
    "                [*configurations_vibrational_modes_CH3NH2_H2O, *pbmetad_configs_CH3NH2_H2O, *random_configs_CH3NH2_H2O],\n",
    "                [*energies_binding_vibrational_modes_CH3NH2_H2O, *energies_binding_pbmetad_CH3NH2_H2O, *energies_binding_random_CH3NH2_H2O],\n",
    "                [*energies_2b_vibrational_modes_CH3NH2_H2O, *energies_2b_pbmetad_CH3NH2_H2O, *energies_2b_random_CH3NH2_H2O],\n",
    "        )\n",
    ")\n",
    "print(f\"Total configurations for training set: {len(configurations_vibrational_modes_CH3NH2_H2O) + len(pbmetad_configs_CH3NH2_H2O) + len(random_configs_CH3NH2_H2O)}\")"
   ]
  },
  {
   "cell_type": "markdown",
   "metadata": {
    "jp-MarkdownHeadingCollapsed": true,
    "tags": []
   },
   "source": [
    "## 2.4.5 Polynomial Generation"
   ]
  },
  {
   "cell_type": "code",
   "execution_count": null,
   "metadata": {},
   "outputs": [],
   "source": [
    "pip_2b_max_order = 3"
   ]
  },
  {
   "cell_type": "code",
   "execution_count": null,
   "metadata": {},
   "outputs": [],
   "source": [
    "generate_polynomial(\n",
    "        definition_CH3NH2_H2O,\n",
    "        max_degree=pip_2b_max_order,\n",
    "        polynomial_info_path=paths.PIP_CH3NH2_H2O.PIP.info,\n",
    "        polynomial_dir=paths.PIP_CH3NH2_H2O.PIP.polynomial,\n",
    "        filters=[\n",
    "                \"add_filter['sum-degree', 'x-inter-*+*-*', '0']\",\n",
    "                \"add_filter['sum-degree', 'x-intra-*+*-*', '2+']\",\n",
    "        ]\n",
    ")"
   ]
  },
  {
   "cell_type": "markdown",
   "metadata": {
    "jp-MarkdownHeadingCollapsed": true,
    "tags": []
   },
   "source": [
    "## 2.4.6 Polynomial Parametrization"
   ]
  },
  {
   "cell_type": "code",
   "execution_count": null,
   "metadata": {},
   "outputs": [],
   "source": [
    "polarizabilities = read_parameters(paths.Vphys.polarizabilities)\n",
    "polarizability_factors = read_parameters(paths.Vphys.polarizability_factors)\n",
    "charges = read_parameters(paths.Vphys.charges)\n",
    "C6 = read_parameters(paths.Vphys.C6)\n",
    "d6 = read_parameters(paths.Vphys.d6)"
   ]
  },
  {
   "cell_type": "code",
   "execution_count": null,
   "metadata": {},
   "outputs": [],
   "source": [
    "print(\"polarizabilities:\", polarizabilities)\n",
    "print(\"polarizability_factors:\", polarizability_factors)\n",
    "print(\"charges:\", charges)\n",
    "print(\"C6:\", C6)\n",
    "print(\"d6:\", d6)"
   ]
  },
  {
   "cell_type": "code",
   "execution_count": null,
   "metadata": {
    "tags": []
   },
   "outputs": [],
   "source": [
    "generate_pip_parametizer(\n",
    "        definition_CH3NH2_H2O,\n",
    "        max_degree=pip_2b_max_order,\n",
    "        polynomial_info_path=paths.PIP_CH3NH2_H2O.PIP.info,\n",
    "        polynomial_dir=paths.PIP_CH3NH2_H2O.PIP.polynomial,\n",
    "        parametizer_dir=paths.PIP_CH3NH2_H2O.PIP.parameterizer,\n",
    "        workdir=paths.scratch.PIP_CH3NH2_H2O,\n",
    "        symmetry_to_charge=charges,\n",
    "        symmetry_to_polarizability=polarizabilities,\n",
    "        symmetry_to_polarizability_factor=polarizability_factors,\n",
    "        symmetries_to_C6=C6,\n",
    "        symmetries_to_d6=d6,\n",
    "        monomer_names=[\"ch3nh2\", \"h2o\"],\n",
    "        is_mbpol=[False, True],\n",
    "        inner_cutoff=inner_cutoff_2b,\n",
    "        outer_cutoff=outer_cutoff_2b\n",
    ")"
   ]
  },
  {
   "cell_type": "code",
   "execution_count": null,
   "metadata": {},
   "outputs": [],
   "source": [
    "parametrize_pip(\n",
    "        definition_CH3NH2_H2O,\n",
    "        parametizer_dir=paths.PIP_CH3NH2_H2O.PIP.parameterizer,\n",
    "        parametrization_dir=paths.PIP_CH3NH2_H2O.PIP.parametrization,\n",
    "        training_set_path=paths.PIP_CH3NH2_H2O.training_set,\n",
    "        workdir=paths.scratch.fitting_CH3NH2_H2O,\n",
    "        monomer_names=[\"ch3nh2\", \"h2o\"],\n",
    "        is_mbpol=[False, True],\n",
    "        num_fits_to_run=1,\n",
    "        num_threads=16,\n",
    "        DE=10,\n",
    "        alpha=0.0005\n",
    ")"
   ]
  },
  {
   "cell_type": "markdown",
   "metadata": {
    "jp-MarkdownHeadingCollapsed": true,
    "tags": []
   },
   "source": [
    "## 2.4.7 Implementation in MBX"
   ]
  },
  {
   "cell_type": "code",
   "execution_count": null,
   "metadata": {},
   "outputs": [],
   "source": [
    "add_PIP_to_MBX(\n",
    "        paths.MBX,\n",
    "        definition_CH3NH2_H2O,\n",
    "        [\"ch3nh2\", \"h2o\"],\n",
    "        paths.PIP_CH3NH2_H2O.PIP.parameterizer,\n",
    "        paths.PIP_CH3NH2_H2O.PIP.parametrization,\n",
    "        max_degree=pip_2b_max_order,\n",
    "        workdir=paths.scratch.fitting_CH3NH2_H2O,\n",
    ")"
   ]
  },
  {
   "cell_type": "code",
   "execution_count": null,
   "metadata": {},
   "outputs": [],
   "source": [
    "compile_mbx(\n",
    "        paths.MBX,\n",
    "        configure_arguments=[\n",
    "                \"CXX=icpc\",\n",
    "                \"CC=icc\",\n",
    "                \"--disable-optimization\"\n",
    "        ],\n",
    "        configure=True,\n",
    "        clean=False,\n",
    "        num_threads=4\n",
    ")"
   ]
  },
  {
   "cell_type": "markdown",
   "metadata": {
    "jp-MarkdownHeadingCollapsed": true,
    "tags": []
   },
   "source": [
    "## 2.4.8 Correlation & Validation"
   ]
  },
  {
   "cell_type": "code",
   "execution_count": null,
   "metadata": {},
   "outputs": [],
   "source": [
    "predicted_energies_vibrational_modes_CH3NH2_H2O = calculate_MBX_nmer_energies(\n",
    "        paths.MBX,\n",
    "        definition_CH3NH2_H2O,\n",
    "        configurations_vibrational_modes_CH3NH2_H2O,\n",
    "        monomer_names=[\"ch3nh2\", \"h2o\"],\n",
    "        scratch_dir=paths.scratch.fitting_CH3NH2_H2O\n",
    ")"
   ]
  },
  {
   "cell_type": "code",
   "execution_count": null,
   "metadata": {},
   "outputs": [],
   "source": [
    "predicted_energies_pbmetad_CH3NH2_H2O = calculate_MBX_nmer_energies(\n",
    "        paths.MBX,\n",
    "        definition_CH3NH2_H2O,\n",
    "        pbmetad_configs_CH3NH2_H2O,\n",
    "        monomer_names=[\"ch3nh2\", \"h2o\"],\n",
    "        scratch_dir=paths.scratch.fitting_CH3NH2_H2O\n",
    ")"
   ]
  },
  {
   "cell_type": "code",
   "execution_count": null,
   "metadata": {},
   "outputs": [],
   "source": [
    "predicted_energies_random_CH3NH2_H2O = calculate_MBX_nmer_energies(\n",
    "        paths.MBX,\n",
    "        definition_CH3NH2_H2O,\n",
    "        random_configs_CH3NH2_H2O,\n",
    "        monomer_names=[\"ch3nh2\", \"h2o\"],\n",
    "        scratch_dir=paths.scratch.fitting_CH3NH2_H2O\n",
    ")"
   ]
  },
  {
   "cell_type": "code",
   "execution_count": null,
   "metadata": {},
   "outputs": [],
   "source": [
    "mbx_opt_CH3NH2_energy = calculate_MBX_energy(\n",
    "        paths.MBX,\n",
    "        definition_CH3NH2,\n",
    "        minimized_structure_CH3NH2,\n",
    "        monomer_names=[\"ch3nh2\"],\n",
    "        scratch_dir=paths.scratch.fitting_CH3NH2_H2O\n",
    ")"
   ]
  },
  {
   "cell_type": "code",
   "execution_count": null,
   "metadata": {},
   "outputs": [],
   "source": [
    "mbx_opt_H2O_energy = calculate_MBX_energy(\n",
    "        paths.MBX,\n",
    "        definition_H2O,\n",
    "        minimized_structure_H2O,\n",
    "        monomer_names=[\"h2o\"],\n",
    "        scratch_dir=paths.scratch.fitting_CH3NH2_H2O\n",
    ")"
   ]
  },
  {
   "cell_type": "code",
   "execution_count": null,
   "metadata": {},
   "outputs": [],
   "source": [
    "predicted_energies_2b_vibrational_modes_CH3NH2_H2O = calculate_many_body_energies(\n",
    "    configurations_vibrational_modes_CH3NH2_H2O,\n",
    "    predicted_energies_vibrational_modes_CH3NH2_H2O,\n",
    "    minimized_monomer_energies=[mbx_opt_CH3NH2_energy, mbx_opt_H2O_energy]\n",
    ")\n",
    "\n",
    "predicted_energies_2b_pbmetad_CH3NH2_H2O = calculate_many_body_energies(\n",
    "    pbmetad_configs_CH3NH2_H2O,\n",
    "    predicted_energies_pbmetad_CH3NH2_H2O,\n",
    "    minimized_monomer_energies=[mbx_opt_CH3NH2_energy, mbx_opt_H2O_energy]\n",
    ")\n",
    "\n",
    "predicted_energies_2b_random_CH3NH2_H2O = calculate_many_body_energies(\n",
    "    random_configs_CH3NH2_H2O,\n",
    "    predicted_energies_random_CH3NH2_H2O,\n",
    "    minimized_monomer_energies=[mbx_opt_CH3NH2_energy, mbx_opt_H2O_energy]\n",
    ")"
   ]
  },
  {
   "cell_type": "code",
   "execution_count": null,
   "metadata": {},
   "outputs": [],
   "source": [
    "plot_correlation(\n",
    "    configurations_vibrational_modes_CH3NH2_H2O,\n",
    "    energies_2b_vibrational_modes_CH3NH2_H2O,\n",
    "    \"MP2\",\n",
    "    {\"MBX\": predicted_energies_2b_vibrational_modes_CH3NH2_H2O},\n",
    "    error_width=1.0\n",
    ")"
   ]
  },
  {
   "cell_type": "code",
   "execution_count": null,
   "metadata": {},
   "outputs": [],
   "source": [
    "plot_correlation(\n",
    "    configurations_vibrational_modes_CH3NH2_H2O,\n",
    "    energies_2b_vibrational_modes_CH3NH2_H2O,\n",
    "    \"MP2\",\n",
    "    {\"MBX\": predicted_energies_2b_vibrational_modes_CH3NH2_H2O},\n",
    "    error_width=1.0\n",
    ")"
   ]
  },
  {
   "cell_type": "code",
   "execution_count": null,
   "metadata": {},
   "outputs": [],
   "source": [
    "plot_correlation(\n",
    "    pbmetad_configs_CH3NH2_H2O,\n",
    "    energies_2b_pbmetad_CH3NH2_H2O,\n",
    "    \"MP2\",\n",
    "    {\"MBX\": predicted_energies_2b_pbmetad_CH3NH2_H2O},\n",
    "    error_width=10.0\n",
    ")"
   ]
  },
  {
   "cell_type": "code",
   "execution_count": null,
   "metadata": {},
   "outputs": [],
   "source": [
    "plot_correlation(\n",
    "    random_configs_CH3NH2_H2O,\n",
    "    energies_2b_random_CH3NH2_H2O,\n",
    "    \"MP2\",\n",
    "    {\"MBX\": predicted_energies_2b_random_CH3NH2_H2O},\n",
    "    error_width=1.0\n",
    ")"
   ]
  },
  {
   "cell_type": "code",
   "execution_count": null,
   "metadata": {},
   "outputs": [],
   "source": [
    "scan_CH3NH2_H2O_1, scan_CH3NH2_H2O_1_energies = read_systems_and_nmer_energies(definition_CH3NH2_H2O, paths.scans.CH3NH2_H2O.first_energies)\n",
    "scan_CH3NH2_H2O_2, scan_CH3NH2_H2O_2_energies = read_systems_and_nmer_energies(definition_CH3NH2_H2O, paths.scans.CH3NH2_H2O.second_energies)\n",
    "scan_CH3NH2_H2O_3, scan_CH3NH2_H2O_3_energies = read_systems_and_nmer_energies(definition_CH3NH2_H2O, paths.scans.CH3NH2_H2O.third_energies)"
   ]
  },
  {
   "cell_type": "code",
   "execution_count": null,
   "metadata": {},
   "outputs": [],
   "source": [
    "scan_CH3NH2_H2O_1_2b_energies = calculate_many_body_energies(scan_CH3NH2_H2O_1, scan_CH3NH2_H2O_1_energies)\n",
    "scan_CH3NH2_H2O_2_2b_energies = calculate_many_body_energies(scan_CH3NH2_H2O_2, scan_CH3NH2_H2O_2_energies)\n",
    "scan_CH3NH2_H2O_3_2b_energies = calculate_many_body_energies(scan_CH3NH2_H2O_3, scan_CH3NH2_H2O_3_energies)"
   ]
  },
  {
   "cell_type": "code",
   "execution_count": null,
   "metadata": {},
   "outputs": [],
   "source": [
    "predicted_scan_CH3NH2_H2O_1_energies = calculate_MBX_nmer_energies(\n",
    "        paths.MBX,\n",
    "        definition_CH3NH2_H2O,\n",
    "        scan_CH3NH2_H2O_1,\n",
    "        monomer_names=[\"ch3nh2\", \"h2o\"],\n",
    "        scratch_dir=paths.scratch.fitting_CH3NH2_H2O\n",
    ")\n",
    "predicted_scan_CH3NH2_H2O_2_energies = calculate_MBX_nmer_energies(\n",
    "        paths.MBX,\n",
    "        definition_CH3NH2_H2O,\n",
    "        scan_CH3NH2_H2O_2,\n",
    "        monomer_names=[\"ch3nh2\", \"h2o\"],\n",
    "        scratch_dir=paths.scratch.fitting_CH3NH2_H2O\n",
    ")\n",
    "predicted_scan_CH3NH2_H2O_3_energies = calculate_MBX_nmer_energies(\n",
    "        paths.MBX,\n",
    "        definition_CH3NH2_H2O,\n",
    "        scan_CH3NH2_H2O_3,\n",
    "        monomer_names=[\"ch3nh2\", \"h2o\"],\n",
    "        scratch_dir=paths.scratch.fitting_CH3NH2_H2O\n",
    ")"
   ]
  },
  {
   "cell_type": "code",
   "execution_count": null,
   "metadata": {},
   "outputs": [],
   "source": [
    "predicted_scan_CH3NH2_H2O_1_2b_energies = calculate_many_body_energies(scan_CH3NH2_H2O_1, predicted_scan_CH3NH2_H2O_1_energies)\n",
    "predicted_scan_CH3NH2_H2O_2_2b_energies = calculate_many_body_energies(scan_CH3NH2_H2O_2, predicted_scan_CH3NH2_H2O_2_energies)\n",
    "predicted_scan_CH3NH2_H2O_3_2b_energies = calculate_many_body_energies(scan_CH3NH2_H2O_3, predicted_scan_CH3NH2_H2O_3_energies)"
   ]
  },
  {
   "cell_type": "code",
   "execution_count": null,
   "metadata": {},
   "outputs": [],
   "source": [
    "plot_scan(\n",
    "        systems=scan_CH3NH2_H2O_1,\n",
    "        energies={\n",
    "                \"MP2/def2-TZVP\": scan_CH3NH2_H2O_1_2b_energies,\n",
    "                \"MBX\": predicted_scan_CH3NH2_H2O_1_2b_energies\n",
    "        },\n",
    "        atom1_index=4,\n",
    "        atom2_index=7,\n",
    "        title=\"2-body Energies\",\n",
    "        ymax=2,\n",
    "        centerer=lambda system: system.atoms[4].point,\n",
    "        aligner=lambda system: (system.atoms[7].point, system.atoms[0].point)\n",
    ")"
   ]
  },
  {
   "cell_type": "code",
   "execution_count": null,
   "metadata": {
    "tags": []
   },
   "outputs": [],
   "source": [
    "plot_scan(\n",
    "        systems=scan_CH3NH2_H2O_2,\n",
    "        energies={\n",
    "                \"MP2/def2-TZVP\": scan_CH3NH2_H2O_2_2b_energies,\n",
    "                \"MBX\": predicted_scan_CH3NH2_H2O_2_2b_energies\n",
    "        },\n",
    "        atom1_index=4,\n",
    "        atom2_index=7,\n",
    "        title=\"2-body Energies\",\n",
    "        ymax=2,\n",
    "        centerer=lambda system: system.atoms[4].point,\n",
    "        aligner=lambda system: (system.atoms[7].point, system.atoms[0].point)\n",
    ")"
   ]
  },
  {
   "cell_type": "code",
   "execution_count": null,
   "metadata": {
    "tags": []
   },
   "outputs": [],
   "source": [
    "plot_scan(\n",
    "        systems=scan_CH3NH2_H2O_3,\n",
    "        energies={\n",
    "                \"MP2/def2-TZVP\": scan_CH3NH2_H2O_3_2b_energies,\n",
    "                \"MBX\": predicted_scan_CH3NH2_H2O_3_2b_energies\n",
    "        },\n",
    "        atom1_index=0,\n",
    "        atom2_index=7,\n",
    "        title=\"2-body Energies\",\n",
    "        ymax=2,\n",
    "        centerer=lambda system: system.atoms[0].point,\n",
    "        aligner=lambda system: (system.atoms[7].point, system.atoms[4].point)\n",
    ")"
   ]
  },
  {
   "cell_type": "code",
   "execution_count": null,
   "metadata": {},
   "outputs": [],
   "source": [
    "clusters_CH3NH2_H2O, clusters_CH3NH2_H2O_energies = read_systems_and_nmer_energies(definition_CH3NH2_H2O, paths.clusters.CH3NH2_H2O_energies)"
   ]
  },
  {
   "cell_type": "code",
   "execution_count": null,
   "metadata": {},
   "outputs": [],
   "source": [
    "predicted_clusters_CH3NH2_H2O_energies = calculate_MBX_nmer_energies(\n",
    "        paths.MBX,\n",
    "        definition_CH3NH2_H2O,\n",
    "        clusters_CH3NH2_H2O,\n",
    "        monomer_names=[\"ch3nh2\", \"h2o\"],\n",
    "        scratch_dir=paths.scratch.fitting_CH3NH2_H2O\n",
    ")"
   ]
  },
  {
   "cell_type": "code",
   "execution_count": null,
   "metadata": {},
   "outputs": [],
   "source": [
    "plot_clusters(\n",
    "        systems=clusters_CH3NH2_H2O,\n",
    "        energies={\n",
    "            \"MP2/def2-TZVP\": calculate_many_body_energies(clusters_CH3NH2_H2O, clusters_CH3NH2_H2O_energies),\n",
    "            \"MBX\": calculate_many_body_energies(clusters_CH3NH2_H2O, predicted_clusters_CH3NH2_H2O_energies)\n",
    "        },\n",
    "        title=\"Cluster 2-body Energies\",\n",
    "        centerer=lambda system: system.atoms[0].point,\n",
    "        aligner=lambda system: (system.atoms[4].point, system.atoms[1].point),\n",
    "        ymin=-11,\n",
    "        render_scale=0.3\n",
    ")"
   ]
  },
  {
   "cell_type": "code",
   "execution_count": null,
   "metadata": {},
   "outputs": [],
   "source": [
    "definition_CH3NH2_H2O_H2O = read_definition(paths.definitions.systems.CH3NH2_H2O_H2O)"
   ]
  },
  {
   "cell_type": "code",
   "execution_count": null,
   "metadata": {},
   "outputs": [],
   "source": [
    "clusters_CH3NH2_H2O_H2O, clusters_CH3NH2_H2O_H2O_energies = read_systems_and_nmer_energies(definition_CH3NH2_H2O_H2O, paths.clusters.CH3NH2_H2O_H2O_energies)"
   ]
  },
  {
   "cell_type": "code",
   "execution_count": null,
   "metadata": {},
   "outputs": [],
   "source": [
    "predicted_clusters_CH3NH2_H2O_H2O_energies = calculate_MBX_nmer_energies(\n",
    "        paths.MBX,\n",
    "        definition_CH3NH2_H2O_H2O,\n",
    "        clusters_CH3NH2_H2O_H2O,\n",
    "        monomer_names=[\"ch3nh2\", \"h2o\", \"h2o\"],\n",
    "        scratch_dir=paths.scratch.fitting_CH3NH2_H2O\n",
    ")"
   ]
  },
  {
   "cell_type": "code",
   "execution_count": null,
   "metadata": {},
   "outputs": [],
   "source": [
    "plot_clusters(\n",
    "        systems=clusters_CH3NH2_H2O_H2O,\n",
    "        energies={\n",
    "            \"MP2/def2-TZVP\": calculate_many_body_energies(clusters_CH3NH2_H2O_H2O, clusters_CH3NH2_H2O_H2O_energies, nmer_indices=(0, 1)),\n",
    "            \"MBX\": calculate_many_body_energies(clusters_CH3NH2_H2O_H2O, predicted_clusters_CH3NH2_H2O_H2O_energies, nmer_indices=(0, 1))\n",
    "        },\n",
    "        title=\"Cluster 2-body Energies\",\n",
    "        centerer=lambda system: system.atoms[0].point,\n",
    "        aligner=lambda system: (system.atoms[4].point, system.atoms[1].point),\n",
    "        # ymin=-9,\n",
    "        render_scale=0.3\n",
    ")"
   ]
  },
  {
   "cell_type": "code",
   "execution_count": null,
   "metadata": {},
   "outputs": [],
   "source": [
    "definition_CH3NH2_H2O_H2O_H2O = read_definition(paths.definitions.systems.tetramer)"
   ]
  },
  {
   "cell_type": "code",
   "execution_count": null,
   "metadata": {},
   "outputs": [],
   "source": [
    "clusters_CH3NH2_H2O_H2O_H2O, clusters_CH3NH2_H2O_H2O_H2O_energies = read_systems_and_nmer_energies(definition_CH3NH2_H2O_H2O_H2O, paths.clusters.tetramer_energies)"
   ]
  },
  {
   "cell_type": "code",
   "execution_count": null,
   "metadata": {},
   "outputs": [],
   "source": [
    "predicted_clusters_CH3NH2_H2O_H2O_H2O_energies = calculate_MBX_nmer_energies(\n",
    "        paths.MBX,\n",
    "        definition_CH3NH2_H2O_H2O_H2O,\n",
    "        clusters_CH3NH2_H2O_H2O_H2O,\n",
    "        monomer_names=[\"ch3nh2\", \"h2o\", \"h2o\", \"h2o\"],\n",
    "        scratch_dir=paths.scratch.fitting_CH3NH2_H2O\n",
    ")"
   ]
  },
  {
   "cell_type": "code",
   "execution_count": null,
   "metadata": {},
   "outputs": [],
   "source": [
    "plot_clusters(\n",
    "        systems=clusters_CH3NH2_H2O_H2O_H2O,\n",
    "        energies={\n",
    "            \"MP2/def2-TZVP\": calculate_many_body_energies(clusters_CH3NH2_H2O_H2O_H2O, clusters_CH3NH2_H2O_H2O_H2O_energies, nmer_indices=(0, 1)),\n",
    "            \"MBX\": calculate_many_body_energies(clusters_CH3NH2_H2O_H2O_H2O, predicted_clusters_CH3NH2_H2O_H2O_H2O_energies, nmer_indices=(0, 1))\n",
    "        },\n",
    "        title=\"Cluster 2-body Energies\",\n",
    "        centerer=lambda system: system.atoms[0].point,\n",
    "        aligner=lambda system: (system.atoms[4].point, system.atoms[1].point),\n",
    "        # ymin=-9,\n",
    "        render_scale=0.3\n",
    ")"
   ]
  },
  {
   "cell_type": "code",
   "execution_count": null,
   "metadata": {},
   "outputs": [],
   "source": []
  }
 ],
 "metadata": {
  "kernelspec": {
   "display_name": "Python 3 (ipykernel)",
   "language": "python",
   "name": "python3"
  },
  "language_info": {
   "codemirror_mode": {
    "name": "ipython",
    "version": 3
   },
   "file_extension": ".py",
   "mimetype": "text/x-python",
   "name": "python",
   "nbconvert_exporter": "python",
   "pygments_lexer": "ipython3",
   "version": "3.10.10"
  }
 },
 "nbformat": 4,
 "nbformat_minor": 4
}
