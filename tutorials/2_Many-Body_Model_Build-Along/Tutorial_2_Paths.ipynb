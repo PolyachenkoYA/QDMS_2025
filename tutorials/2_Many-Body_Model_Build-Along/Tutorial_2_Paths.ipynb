{
 "cells": [
  {
   "cell_type": "markdown",
   "id": "6b7f6598-6c48-4463-ab8b-6bd7c09bdd6c",
   "metadata": {
    "tags": []
   },
   "source": [
    "# Tutorial 2.0.2: Filesystem and Paths"
   ]
  },
  {
   "cell_type": "markdown",
   "id": "5ee9fca4-e0ab-4b58-a089-8c68de902a1e",
   "metadata": {},
   "source": [
    "This notebook sets up the directory structure that will be used to store all the files in Tutorial 2."
   ]
  },
  {
   "cell_type": "markdown",
   "id": "b4a048d7-29c4-42f1-94b3-5e1793dd81be",
   "metadata": {},
   "source": [
    "First, import everything by executing the notebook with all the imports:"
   ]
  },
  {
   "cell_type": "code",
   "execution_count": null,
   "id": "ba01c864-39c9-4e97-9840-a98695306689",
   "metadata": {},
   "outputs": [],
   "source": [
    "%run Tutorial_2_Imports.ipynb"
   ]
  },
  {
   "cell_type": "markdown",
   "id": "8dd77b79-7ed9-4297-8c96-9dd9f71df51b",
   "metadata": {},
   "source": [
    "All the files generated during this tutorial will go into the following directory:"
   ]
  },
  {
   "cell_type": "code",
   "execution_count": null,
   "id": "3f00f3c0-a300-44e8-8628-d994f9e87771",
   "metadata": {},
   "outputs": [],
   "source": [
    "paths = Directory(\"Tutorial_2_workdir\").create()"
   ]
  },
  {
   "cell_type": "markdown",
   "id": "b88fa84c-9fb7-4c18-b115-cb73930ab034",
   "metadata": {},
   "source": [
    "The path for log files from electronic structure calculations."
   ]
  },
  {
   "cell_type": "code",
   "execution_count": null,
   "id": "decd154d-38ca-419c-8517-feaebf69b59b",
   "metadata": {},
   "outputs": [],
   "source": [
    "paths.logs = paths.sub_directory(\"logs\").create()"
   ]
  },
  {
   "cell_type": "code",
   "execution_count": null,
   "id": "ef49042c-72f9-4fea-afe8-b2864011d3e4",
   "metadata": {},
   "outputs": [],
   "source": [
    "# paths.jobs = paths.sub_directory(\"jobs\").create()"
   ]
  },
  {
   "cell_type": "code",
   "execution_count": null,
   "id": "b6994e12-0eb3-4e53-b593-d5351ff451f4",
   "metadata": {},
   "outputs": [],
   "source": [
    "# paths.vibrational_modes = paths.sub_directory(\"vibrational_modes\").create()\n",
    "# paths.vibrational_modes.CH3NH2 = paths.vibrational_modes.file(\"CH3NH2.modes\")"
   ]
  },
  {
   "cell_type": "markdown",
   "id": "dfa5468a-48cf-4956-b230-6d080f5bc8ff",
   "metadata": {},
   "source": [
    "MB-Fit uses `SystemDefinitions` and `.def` files to store information about molecular systems. Here is where we will store those `.def` files:"
   ]
  },
  {
   "cell_type": "code",
   "execution_count": null,
   "id": "6ee77ba2-306e-4ab6-ade8-23ff8e6ba794",
   "metadata": {},
   "outputs": [],
   "source": [
    "paths.definitions = paths.sub_directory(\"definitions\").create()\n",
    "\n",
    "paths.definitions.fragments = paths.definitions.sub_directory(\"fragments\").create()\n",
    "paths.definitions.fragments.CH3NH2 = paths.definitions.fragments.file(\"CH3NH2\")\n",
    "paths.definitions.fragments.H2O = paths.definitions.fragments.file(\"H2O\")\n",
    "\n",
    "paths.definitions.systems = paths.definitions.sub_directory(\"systems\").create()\n",
    "paths.definitions.systems.CH3NH2 = paths.definitions.systems.file(\"CH3NH2\")\n",
    "paths.definitions.systems.H2O = paths.definitions.systems.file(\"H2O\")\n",
    "paths.definitions.systems.CH3NH2_H2O = paths.definitions.systems.file(\"CH3NH2_H2O\")\n",
    "paths.definitions.systems.CH3NH2_H2O_H2O = paths.definitions.systems.file(\"CH3NH2_H2O_H2O\")\n",
    "paths.definitions.systems.tetramer = paths.definitions.systems.file(\"tetramer\")\n",
    "paths.definitions.systems.pentamer = paths.definitions.systems.file(\"pentamer\")"
   ]
  },
  {
   "cell_type": "markdown",
   "id": "a33d8a9d-9455-4bad-ae35-ba3f13e91911",
   "metadata": {},
   "source": [
    "We will use these fils to store structure files:"
   ]
  },
  {
   "cell_type": "code",
   "execution_count": null,
   "id": "81fbb5a3-64ec-4787-b696-bcac8918832c",
   "metadata": {},
   "outputs": [],
   "source": [
    "paths.structures = paths.sub_directory(\"structures\").create()\n",
    "\n",
    "paths.structures.initialized_CH3NH2 = paths.structures.file(\"initialized_CH3NH2.xyz\")\n",
    "paths.structures.initialized_H2O = paths.structures.file(\"initialized_H2O.xyz\")\n",
    "\n",
    "paths.structures.minimized_CH3NH2 = paths.structures.file(\"minimized_CH3NH2.xyz\")\n",
    "paths.structures.minimized_H2O = paths.structures.file(\"minimized_H2O.xyz\")\n",
    "\n",
    "paths.structures.vibrational_modes_CH3NH2 = paths.structures.file(\"vibrational_modes_CH3NH2.xyz\")\n",
    "paths.structures.vibrational_modes_H2O = paths.structures.file(\"vibrational_modes_H2O.xyz\")"
   ]
  },
  {
   "cell_type": "markdown",
   "id": "9eb427f5-fd31-4218-83de-18b143e28b7a",
   "metadata": {},
   "source": [
    "We will generate a number of 2- and 3-body scans that we will use to validate our PEF, which we will store at the following locations:"
   ]
  },
  {
   "cell_type": "code",
   "execution_count": null,
   "id": "aa2d7ffd-7ae7-42cc-b1a0-1abd01a0f507",
   "metadata": {},
   "outputs": [],
   "source": [
    "paths.scans = paths.sub_directory(\"scans\").create()\n",
    "\n",
    "paths.scans.CH3NH2_H2O = paths.scans.sub_directory(\"CH3NH2_H2O\").create()\n",
    "paths.scans.CH3NH2_H2O.first = paths.scans.CH3NH2_H2O.file(\"first.xyz\")\n",
    "paths.scans.CH3NH2_H2O.second = paths.scans.CH3NH2_H2O.file(\"second.xyz\")\n",
    "paths.scans.CH3NH2_H2O.third = paths.scans.CH3NH2_H2O.file(\"third.xyz\")\n",
    "paths.scans.CH3NH2_H2O.first_energies = paths.scans.CH3NH2_H2O.file(\"first_energies.xyz\")\n",
    "paths.scans.CH3NH2_H2O.second_energies = paths.scans.CH3NH2_H2O.file(\"second_energies.xyz\")\n",
    "paths.scans.CH3NH2_H2O.third_energies = paths.scans.CH3NH2_H2O.file(\"third_energies.xyz\")\n",
    "\n",
    "paths.scans.CH3NH2_H2O_H2O = paths.scans.sub_directory(\"CH3NH2_H2O_H2O\").create()\n",
    "paths.scans.CH3NH2_H2O_H2O.first = paths.scans.CH3NH2_H2O_H2O.file(\"first.xyz\")\n",
    "paths.scans.CH3NH2_H2O_H2O.second = paths.scans.CH3NH2_H2O_H2O.file(\"second.xyz\")\n",
    "paths.scans.CH3NH2_H2O_H2O.third = paths.scans.CH3NH2_H2O_H2O.file(\"third.xyz\")\n",
    "paths.scans.CH3NH2_H2O_H2O.first_energies = paths.scans.CH3NH2_H2O_H2O.file(\"first_energies.xyz\")\n",
    "paths.scans.CH3NH2_H2O_H2O.second_energies = paths.scans.CH3NH2_H2O_H2O.file(\"second_energies.xyz\")\n",
    "paths.scans.CH3NH2_H2O_H2O.third_energies = paths.scans.CH3NH2_H2O_H2O.file(\"third_energies.xyz\")"
   ]
  },
  {
   "cell_type": "markdown",
   "id": "08bf2f1a-02d5-46fd-a0d0-69ceda77ddb1",
   "metadata": {},
   "source": [
    "We will also use some small gas-phase clusters to validate our PEF, which will be stored here:"
   ]
  },
  {
   "cell_type": "code",
   "execution_count": null,
   "id": "9702ac08-d21d-4c85-85c9-2b5dc6e77c8b",
   "metadata": {},
   "outputs": [],
   "source": [
    "paths.clusters = paths.sub_directory(\"clusters\").create()\n",
    "\n",
    "paths.clusters.CH3NH2_H2O = paths.clusters.file(\"CH3NH2_H2O.xyz\")\n",
    "paths.clusters.CH3NH2_H2O_H2O = paths.clusters.file(\"CH3NH2_H2O_H2O.xyz\")\n",
    "paths.clusters.tetramer = paths.clusters.file(\"tetramer.xyz\")\n",
    "paths.clusters.pentamer = paths.clusters.file(\"pentamer.xyz\")\n",
    "\n",
    "paths.clusters.CH3NH2_H2O_energies = paths.clusters.file(\"CH3NH2_H2O_energies.xyz\")\n",
    "paths.clusters.CH3NH2_H2O_H2O_energies = paths.clusters.file(\"CH3NH2_H2O_H2O_energies.xyz\")\n",
    "paths.clusters.tetramer_energies = paths.clusters.file(\"tetramer_energies.xyz\")\n",
    "paths.clusters.pentamer_energies = paths.clusters.file(\"pentamer_energies.xyz\")\n",
    "\n",
    "paths.clusters.CH3NH2_H2O_modes = paths.clusters.file(\"CH3NH2_H2O_modes.xyz\")\n",
    "paths.clusters.CH3NH2_H2O_H2O_modes = paths.clusters.file(\"CH3NH2_H2O_H2O_modes.xyz\")"
   ]
  },
  {
   "cell_type": "markdown",
   "id": "6fec386c-4445-4338-ba07-319d915dbd02",
   "metadata": {},
   "source": [
    "We will store all the parameters for Vphys in the following directory"
   ]
  },
  {
   "cell_type": "code",
   "execution_count": null,
   "id": "94caf0a5-a5c0-4e5b-a7e7-cd0755f4e2a7",
   "metadata": {},
   "outputs": [],
   "source": [
    "paths.Vphys = paths.sub_directory(\"Vphys\").create()\n",
    "\n",
    "paths.Vphys.polarizabilities = paths.Vphys.file(\"polarizabilities.json\")\n",
    "paths.Vphys.polarizability_factors = paths.Vphys.file(\"polarizability_factors.json\")\n",
    "paths.Vphys.radii = paths.Vphys.file(\"radii.json\")\n",
    "paths.Vphys.charges = paths.Vphys.file(\"charges.json\")\n",
    "paths.Vphys.C6 = paths.Vphys.file(\"C6.json\")\n",
    "paths.Vphys.d6 = paths.Vphys.file(\"d6.json\")\n",
    "\n",
    "paths.Vphys.charge_configs_CH3NH2 = paths.Vphys.file(\"charge_configs_CH3NH2.xyz\")"
   ]
  },
  {
   "cell_type": "markdown",
   "id": "6ae9ac0e-c016-4a9f-951f-f65447a3bf07",
   "metadata": {},
   "source": [
    "We will store everything to do with the 1-body CH$_3$-NH$_2$ PEF here:"
   ]
  },
  {
   "cell_type": "code",
   "execution_count": null,
   "id": "e4662348-9742-48b4-a379-71a4a0e74297",
   "metadata": {},
   "outputs": [],
   "source": [
    "paths.PIP_CH3NH2 = paths.sub_directory(\"PIP_CH3NH2\").create()\n",
    "\n",
    "paths.PIP_CH3NH2.configs = paths.PIP_CH3NH2.sub_directory(\"configs\").create()\n",
    "paths.PIP_CH3NH2.configs.vibrational_modes = paths.PIP_CH3NH2.configs.file(\"vibrational_modes.xyz\")\n",
    "paths.PIP_CH3NH2.configs.pbmetad_pool = paths.PIP_CH3NH2.configs.file(\"pbmetad_pool.xyz\")\n",
    "paths.PIP_CH3NH2.configs.pbmetad_train_pool = paths.PIP_CH3NH2.configs.file(\"pbmetad_train_pool.xyz\")\n",
    "paths.PIP_CH3NH2.configs.pbmetad_test = paths.PIP_CH3NH2.configs.file(\"pbmetad_test.xyz\")\n",
    "paths.PIP_CH3NH2.configs.pbmetad_train = paths.PIP_CH3NH2.configs.file(\"pbmetad_train.xyz\")\n",
    "\n",
    "paths.PIP_CH3NH2.configs.vibrational_modes_energies = paths.PIP_CH3NH2.configs.file(\"vibrational_modes_energies.xyz\")\n",
    "paths.PIP_CH3NH2.configs.pbmetad_train_energies = paths.PIP_CH3NH2.configs.file(\"pbmetad_train_energies.xyz\")\n",
    "\n",
    "paths.PIP_CH3NH2.training_set = paths.PIP_CH3NH2.file(\"training_set.xyz\")\n",
    "\n",
    "paths.PIP_CH3NH2.PIP = paths.PIP_CH3NH2.sub_directory(\"PIP\").create()\n",
    "paths.PIP_CH3NH2.PIP.info = paths.PIP_CH3NH2.PIP.file(\"info.in\")\n",
    "paths.PIP_CH3NH2.PIP.polynomial = paths.PIP_CH3NH2.PIP.sub_directory(\"polynomial\").create()\n",
    "paths.PIP_CH3NH2.PIP.parameterizer = paths.PIP_CH3NH2.PIP.sub_directory(\"parameterizer\").create()\n",
    "paths.PIP_CH3NH2.PIP.parametrization = paths.PIP_CH3NH2.PIP.sub_directory(\"parametrization\").create()"
   ]
  },
  {
   "cell_type": "markdown",
   "id": "467e87b8-194d-4b8a-bfd7-889af760bea8",
   "metadata": {},
   "source": [
    "We will store everything to do with the 2-body CH$_3$-NH$_2$ -- H2O PEF here:"
   ]
  },
  {
   "cell_type": "code",
   "execution_count": null,
   "id": "4c1b237c-46cb-4cf2-bf7a-c1ee5d2c3062",
   "metadata": {},
   "outputs": [],
   "source": [
    "paths.PIP_CH3NH2_H2O = paths.sub_directory(\"PIP_CH3NH2_H2O\").create()\n",
    "\n",
    "paths.PIP_CH3NH2_H2O.configs = paths.PIP_CH3NH2_H2O.sub_directory(\"configs\").create()\n",
    "paths.PIP_CH3NH2_H2O.configs.vibrational_modes = paths.PIP_CH3NH2_H2O.configs.file(\"vibrational_modes.xyz\")\n",
    "paths.PIP_CH3NH2_H2O.configs.random = paths.PIP_CH3NH2_H2O.configs.file(\"random.xyz\")\n",
    "paths.PIP_CH3NH2_H2O.configs.pbmetad_pool = paths.PIP_CH3NH2_H2O.configs.file(\"pbmetad_pool.xyz\")\n",
    "paths.PIP_CH3NH2_H2O.configs.pbmetad_pool_filtered = paths.PIP_CH3NH2_H2O.configs.file(\"pbmetad_pool_filtered.xyz\")\n",
    "paths.PIP_CH3NH2_H2O.configs.pbmetad_train_pool = paths.PIP_CH3NH2_H2O.configs.file(\"pbmetad_train_pool.xyz\")\n",
    "paths.PIP_CH3NH2_H2O.configs.pbmetad_test = paths.PIP_CH3NH2_H2O.configs.file(\"pbmetad_test.xyz\")\n",
    "paths.PIP_CH3NH2_H2O.configs.pbmetad_train = paths.PIP_CH3NH2_H2O.configs.file(\"pbmetad_train.xyz\")\n",
    "\n",
    "paths.PIP_CH3NH2_H2O.configs.vibrational_modes_energies = paths.PIP_CH3NH2_H2O.configs.file(\"vibrational_modes_energies.xyz\")\n",
    "paths.PIP_CH3NH2_H2O.configs.random_energies = paths.PIP_CH3NH2_H2O.configs.file(\"random_energies.xyz\")\n",
    "paths.PIP_CH3NH2_H2O.configs.pbmetad_train_energies = paths.PIP_CH3NH2_H2O.configs.file(\"pbmetad_train_energies.xyz\")\n",
    "\n",
    "paths.PIP_CH3NH2_H2O.training_set = paths.PIP_CH3NH2_H2O.file(\"training_set.xyz\")\n",
    "\n",
    "paths.PIP_CH3NH2_H2O.PIP = paths.PIP_CH3NH2_H2O.sub_directory(\"PIP\").create()\n",
    "paths.PIP_CH3NH2_H2O.PIP.info = paths.PIP_CH3NH2_H2O.PIP.file(\"info.in\")\n",
    "paths.PIP_CH3NH2_H2O.PIP.polynomial = paths.PIP_CH3NH2_H2O.PIP.sub_directory(\"polynomial\").create()\n",
    "paths.PIP_CH3NH2_H2O.PIP.parameterizer = paths.PIP_CH3NH2_H2O.PIP.sub_directory(\"parameterizer\").create()\n",
    "paths.PIP_CH3NH2_H2O.PIP.parametrization = paths.PIP_CH3NH2_H2O.PIP.sub_directory(\"parametrization\").create()"
   ]
  },
  {
   "cell_type": "markdown",
   "id": "4047f47e-9b54-41de-8f56-7a771cf46208",
   "metadata": {},
   "source": [
    "We will store everything to do with the 2-body CH$_3$-NH$_2$ -- H$_2$O -- H$_2$O PEF here:"
   ]
  },
  {
   "cell_type": "code",
   "execution_count": null,
   "id": "1515e344-c2ca-4fc6-a8cf-d0d41b1f5bd5",
   "metadata": {},
   "outputs": [],
   "source": [
    "paths.PIP_CH3NH2_H2O_H2O = paths.sub_directory(\"PIP_CH3NH2_H2O_H2O\").create()\n",
    "\n",
    "paths.PIP_CH3NH2_H2O_H2O.vibrational_modes_CH3NH2_H2O_H2O = paths.PIP_CH3NH2_H2O_H2O.file(\"CH3NH2_H2O_H2O.modes\")\n",
    "\n",
    "paths.PIP_CH3NH2_H2O_H2O.configs = paths.PIP_CH3NH2_H2O_H2O.sub_directory(\"configs\").create()\n",
    "paths.PIP_CH3NH2_H2O_H2O.configs.vibrational_modes = paths.PIP_CH3NH2_H2O_H2O.configs.file(\"vibrational_modes.xyz\")\n",
    "paths.PIP_CH3NH2_H2O_H2O.configs.random = paths.PIP_CH3NH2_H2O_H2O.configs.file(\"random.xyz\")\n",
    "paths.PIP_CH3NH2_H2O_H2O.configs.pbmetad_pool = paths.PIP_CH3NH2_H2O_H2O.configs.file(\"pbmetad_pool.xyz\")\n",
    "paths.PIP_CH3NH2_H2O_H2O.configs.pbmetad_pool_filtered = paths.PIP_CH3NH2_H2O_H2O.configs.file(\"pbmetad_pool_filtered.xyz\")\n",
    "paths.PIP_CH3NH2_H2O_H2O.configs.pbmetad_train_pool = paths.PIP_CH3NH2_H2O_H2O.configs.file(\"pbmetad_train_pool.xyz\")\n",
    "paths.PIP_CH3NH2_H2O_H2O.configs.pbmetad_test = paths.PIP_CH3NH2_H2O_H2O.configs.file(\"pbmetad_test.xyz\")\n",
    "paths.PIP_CH3NH2_H2O_H2O.configs.pbmetad_train = paths.PIP_CH3NH2_H2O_H2O.configs.file(\"pbmetad_train.xyz\")\n",
    "\n",
    "paths.PIP_CH3NH2_H2O_H2O.configs.vibrational_modes_energies = paths.PIP_CH3NH2_H2O_H2O.configs.file(\"vibrational_modes_energies.xyz\")\n",
    "paths.PIP_CH3NH2_H2O_H2O.configs.random_energies = paths.PIP_CH3NH2_H2O_H2O.configs.file(\"random_energies.xyz\")\n",
    "paths.PIP_CH3NH2_H2O_H2O.configs.pbmetad_train_energies = paths.PIP_CH3NH2_H2O_H2O.configs.file(\"pbmetad_train_energies.xyz\")\n",
    "\n",
    "paths.PIP_CH3NH2_H2O_H2O.training_set = paths.PIP_CH3NH2_H2O_H2O.file(\"training_set.xyz\")\n",
    "\n",
    "paths.PIP_CH3NH2_H2O_H2O.PIP = paths.PIP_CH3NH2_H2O_H2O.sub_directory(\"PIP\").create()\n",
    "paths.PIP_CH3NH2_H2O_H2O.PIP.info = paths.PIP_CH3NH2_H2O_H2O.PIP.file(\"info.in\")\n",
    "paths.PIP_CH3NH2_H2O_H2O.PIP.polynomial = paths.PIP_CH3NH2_H2O_H2O.PIP.sub_directory(\"polynomial\").create()\n",
    "paths.PIP_CH3NH2_H2O_H2O.PIP.parameterizer = paths.PIP_CH3NH2_H2O_H2O.PIP.sub_directory(\"parameterizer\").create()\n",
    "paths.PIP_CH3NH2_H2O_H2O.PIP.parametrization = paths.PIP_CH3NH2_H2O_H2O.PIP.sub_directory(\"parametrization\").create()"
   ]
  },
  {
   "cell_type": "markdown",
   "id": "3db275a4-833b-433b-a325-79a735f79b59",
   "metadata": {},
   "source": [
    "Here we will store our copy of MBX, in-which we will implement the new PEF:"
   ]
  },
  {
   "cell_type": "code",
   "execution_count": null,
   "id": "1f3c0f05-7fc7-4779-923b-d7795b1ecc03",
   "metadata": {},
   "outputs": [],
   "source": [
    "paths.MBX = paths.sub_directory(\"MBX\")"
   ]
  },
  {
   "cell_type": "markdown",
   "id": "bbba9f43-16e5-47bf-b8bb-3e684abe7f55",
   "metadata": {},
   "source": [
    "At many steps, we will do expensive work that we won't want to repeat if we rerun the associated function. MB-Fit uses restart files for a variety of steps:"
   ]
  },
  {
   "cell_type": "code",
   "execution_count": null,
   "id": "b99a0ce7-e89b-4df3-8698-19539df61605",
   "metadata": {},
   "outputs": [],
   "source": [
    "paths.restart = paths.sub_directory(\"restart\").create()\n",
    "\n",
    "paths.restart.minimization_CH3NH2 = paths.restart.sub_directory(\"minimization_CH3NH2\").create()\n",
    "paths.restart.minimization_H2O = paths.restart.sub_directory(\"minimization_H2O\").create()\n",
    "\n",
    "paths.restart.scans_CH3NH2_H2O_1_energies = paths.restart.file(\"scans_CH3NH2_H2O_1_energies\")\n",
    "paths.restart.scans_CH3NH2_H2O_2_energies = paths.restart.file(\"scans_CH3NH2_H2O_2_energies\")\n",
    "paths.restart.scans_CH3NH2_H2O_3_energies = paths.restart.file(\"scans_CH3NH2_H2O_3_energies\")\n",
    "\n",
    "paths.restart.scans_CH3NH2_H2O_H2O_1_energies = paths.restart.file(\"scans_CH3NH2_H2O_H2O_1_energies\")\n",
    "paths.restart.scans_CH3NH2_H2O_H2O_2_energies = paths.restart.file(\"scans_CH3NH2_H2O_H2O_2_energies\")\n",
    "paths.restart.scans_CH3NH2_H2O_H2O_3_energies = paths.restart.file(\"scans_CH3NH2_H2O_H2O_3_energies\")\n",
    "\n",
    "paths.restart.clusters_CH3NH2_H2O = paths.restart.sub_directory(\"clusters_CH3NH2_H2O\").create()\n",
    "paths.restart.clusters_CH3NH2_H2O_H2O = paths.restart.sub_directory(\"clusters_CH3NH2_H2O_H2O\").create()\n",
    "paths.restart.clusters_tetramer = paths.restart.sub_directory(\"clusters_tetramer\").create()\n",
    "paths.restart.clusters_pentamer = paths.restart.sub_directory(\"clusters_pentamer\").create()\n",
    "\n",
    "paths.restart.clusters_CH3NH2_H2O_energies = paths.restart.file(\"clusters_CH3NH2_H2O_energies\")\n",
    "paths.restart.clusters_CH3NH2_H2O_H2O_energies = paths.restart.file(\"clusters_CH3NH2_H2O_H2O_energies\")\n",
    "paths.restart.clusters_tetramer_energies = paths.restart.file(\"clusters_tetramer_energies\")\n",
    "paths.restart.clusters_pentamer_energies = paths.restart.file(\"clusters_pentamer_energies\")\n",
    "\n",
    "paths.restart.clusters_CH3NH2_H2O_modes = paths.restart.sub_directory(\"clusters_CH3NH2_H2O_modes\").create()\n",
    "paths.restart.clusters_CH3NH2_H2O_H2O_modes = paths.restart.sub_directory(\"clusters_CH3NH2_H2O_H2O_modes\").create()\n",
    "paths.restart.clusters_tetramer_energies = paths.restart.file(\"clusters_tetramer_energies\")\n",
    "paths.restart.clusters_pentamer_energies = paths.restart.file(\"clusters_pentamer_energies\")\n",
    "\n",
    "paths.restart.polarizabilities_CH3NH2 = paths.restart.file(\"polarizabilities_CH3NH2\")\n",
    "paths.restart.radii_CH3NH2 = paths.restart.file(\"radii_CH3NH2\")\n",
    "paths.restart.radii_H2O = paths.restart.file(\"radii_H2O\")\n",
    "paths.restart.dispersion_CH3NH2_H2O = paths.restart.file(\"dispersion_CH3NH2_H2O\")\n",
    "paths.restart.dispersion_CH3NH2_CH3NH2 = paths.restart.file(\"dispersion_CH3NH2_CH3NH2\")\n",
    "paths.restart.charge_fitting_CH3NH2 = paths.restart.file(\"charge_fitting_CH3NH2\")\n",
    "\n",
    "paths.restart.vibrational_modes_CH3NH2 = paths.restart.file(\"vibrational_modes_CH3NH2\")\n",
    "paths.restart.vibrational_modes_H2O = paths.restart.file(\"vibrational_modes_H2O\")\n",
    "paths.restart.vibrational_modes_CH3NH2_H2O = paths.restart.file(\"vibrational_modes_CH3NH2_H2O\")\n",
    "paths.restart.vibrational_modes_CH3NH2_H2O_H2O = paths.restart.file(\"vibrational_modes_CH3NH2_H2O_H2O\")\n",
    "\n",
    "paths.restart.esp_CH3NH2 = paths.restart.sub_directory(\"esp_CH3NH2\").create()\n",
    "\n",
    "paths.restart.pbmetad_CH3NH2 = paths.restart.file(\"pbmetad_CH3NH2\")\n",
    "paths.restart.fps_CH3NH2 = paths.restart.sub_directory(\"fps_CH3NH2\").create()\n",
    "paths.restart.energies_vibrational_mode_configs_CH3NH2 = paths.restart.file(\"energies_vibrational_mode_configs_CH3NH2\")\n",
    "paths.restart.energies_pbmetad_configs_CH3NH2 = paths.restart.file(\"energies_pbmetad_configs_CH3NH2\")\n",
    "\n",
    "paths.restart.pbmetad_CH3NH2_H2O = paths.restart.file(\"pbmetad_CH3NH2_H2O\")\n",
    "paths.restart.fps_CH3NH2_H2O = paths.restart.sub_directory(\"fps_CH3NH2_H2O\").create()\n",
    "paths.restart.energies_vibrational_mode_configs_CH3NH2_H2O = paths.restart.file(\"energies_vibrational_mode_configs_CH3NH2_H2O\")\n",
    "paths.restart.energies_random_configs_CH3NH2_H2O = paths.restart.file(\"energies_random_configs_CH3NH2_H2O\")\n",
    "paths.restart.energies_pbmetad_configs_CH3NH2_H2O = paths.restart.file(\"energies_pbmetad_configs_CH3NH2_H2O\")\n",
    "\n",
    "paths.restart.pbmetad_CH3NH2_H2O_H2O = paths.restart.file(\"pbmetad_CH3NH2_H2O_H2O\")\n",
    "paths.restart.fps_CH3NH2_H2O_H2O = paths.restart.sub_directory(\"fps_CH3NH2_H2O_H2O\").create()\n",
    "paths.restart.energies_vibrational_mode_configs_CH3NH2_H2O_H2O = paths.restart.file(\"energies_vibrational_mode_configs_CH3NH2_H2O_H2O\")\n",
    "paths.restart.energies_random_configs_CH3NH2_H2O_H2O = paths.restart.file(\"energies_random_configs_CH3NH2_H2O_H2O\")\n",
    "paths.restart.energies_pbmetad_configs_CH3NH2_H2O_H2O = paths.restart.file(\"energies_pbmetad_configs_CH3NH2_H2O_H2O\")\n"
   ]
  },
  {
   "cell_type": "markdown",
   "id": "6ac83e21-b368-424b-abad-f4168d0b21ca",
   "metadata": {},
   "source": [
    "We will also need some scratch directories for various steps in the PEF construction process:"
   ]
  },
  {
   "cell_type": "code",
   "execution_count": null,
   "id": "bc0ed938-964d-4cc9-8d8d-aeafd3a85230",
   "metadata": {},
   "outputs": [],
   "source": [
    "import os\n",
    "\n",
    "paths.scratch = paths.sub_directory(\"scratch\").create()\n",
    "\n",
    "paths.scratch.psi4 = paths.scratch.sub_directory(\"psi4\").create()\n",
    "\n",
    "paths.scratch.esp_CH3NH2 = paths.scratch.sub_directory(\"esp_CH3NH2\").create()\n",
    "\n",
    "paths.scratch.pbmetad_CH3NH2 = paths.scratch.sub_directory(\"pbmetad_CH3NH2\").create()\n",
    "paths.scratch.fps_CH3NH2 = paths.scratch.sub_directory(\"fps_CH3NH2\").create()\n",
    "paths.scratch.PIP_CH3NH2 = paths.scratch.sub_directory(\"PIP_CH3NH2\").create()\n",
    "# paths.scratch.fitting_CH3NH2 = paths.scratch.sub_directory(\"fitting_CH3NH2\").create()\n",
    "paths.scratch.fitting_CH3NH2 = Directory(f\"/scratch/{os.environ['USER']}/job_{os.environ['SLURM_JOB_ID']}/CH3NH2_fitting\")\n",
    "\n",
    "paths.scratch.pbmetad_CH3NH2_H2O = paths.scratch.sub_directory(\"pbmetad_CH3NH2_H2O\").create()\n",
    "paths.scratch.fps_CH3NH2_H2O = paths.scratch.sub_directory(\"fps_CH3NH2_H2O\").create()\n",
    "paths.scratch.PIP_CH3NH2_H2O = paths.scratch.sub_directory(\"PIP_CH3NH2_H2O\").create()\n",
    "# paths.scratch.fitting_CH3NH2_H2O = paths.scratch.sub_directory(\"fitting_CH3NH2_H2O\").create()\n",
    "paths.scratch.fitting_CH3NH2_H2O = Directory(f\"/scratch/{os.environ['USER']}/job_{os.environ['SLURM_JOB_ID']}/CH3NH2_fitting\")\n",
    "\n",
    "paths.scratch.pbmetad_CH3NH2_H2O_H2O = paths.scratch.sub_directory(\"pbmetad_CH3NH2_H2O_H2O\").create()\n",
    "paths.scratch.fps_CH3NH2_H2O_H2O = paths.scratch.sub_directory(\"fps_CH3NH2_H2O_H2O\").create()\n",
    "paths.scratch.PIP_CH3NH2_H2O_H2O = paths.scratch.sub_directory(\"PIP_CH3NH2_H2O_H2O\").create()\n",
    "# paths.scratch.fitting_CH3NH2_H2O_H2O = paths.scratch.sub_directory(\"fitting_CH3NH2_H2O_H2O\").create()\n",
    "paths.scratch.fitting_CH3NH2_H2O_H2O = Directory(f\"/scratch/{os.environ['USER']}/job_{os.environ['SLURM_JOB_ID']}/CH3NH2_fitting\")\n"
   ]
  },
  {
   "cell_type": "markdown",
   "id": "d374c4f1-4dba-4e48-a93f-a48d6fb5b337",
   "metadata": {},
   "source": [
    "This is the path to the LAMMPS executable compiled with plumed that we will use to run parallel bias metadynamics simulations during training set generation:"
   ]
  },
  {
   "cell_type": "code",
   "execution_count": null,
   "id": "43251d07-54c4-48c6-ae4b-278378887c30",
   "metadata": {},
   "outputs": [],
   "source": [
    "lammps_executable_path = \"/expanse/projects/qstore/csd973/LAMMPS+plumed/LAMMPS-stable/bin/lmp_mpi\""
   ]
  }
 ],
 "metadata": {
  "kernelspec": {
   "display_name": "Python 3 (ipykernel)",
   "language": "python",
   "name": "python3"
  },
  "language_info": {
   "codemirror_mode": {
    "name": "ipython",
    "version": 3
   },
   "file_extension": ".py",
   "mimetype": "text/x-python",
   "name": "python",
   "nbconvert_exporter": "python",
   "pygments_lexer": "ipython3",
   "version": "3.10.10"
  }
 },
 "nbformat": 4,
 "nbformat_minor": 5
}
