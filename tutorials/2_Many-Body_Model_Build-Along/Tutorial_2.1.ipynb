{
 "cells": [
  {
   "cell_type": "markdown",
   "id": "1df14167-5b9c-40e7-b1b4-a37e66a5a6a9",
   "metadata": {
    "tags": []
   },
   "source": [
    "# Tutorial 2.1: Inputs, Files, & Scans"
   ]
  },
  {
   "cell_type": "markdown",
   "id": "b42a8979-0b84-4a8a-8300-14941790bead",
   "metadata": {},
   "source": [
    "Before building a new MB-nrg path, we must first generate a variety of different files that will either be used as input for the PEF construction process or otherwise useful to us during the construction or validation of the PEF. In this notebook, we optimize our geometries, calculate their vibrational motions, make some 2- and 3-body scans and find some low-lying dimers, trimers, tetramers, and hexamers, and perform electronic structure calculations for all these geometries."
   ]
  },
  {
   "cell_type": "markdown",
   "id": "e30fec12-4663-463a-a551-a2758114891a",
   "metadata": {
    "jp-MarkdownHeadingCollapsed": true,
    "tags": []
   },
   "source": [
    "## 2.1.0 Imports and Paths"
   ]
  },
  {
   "cell_type": "markdown",
   "id": "d65cbdd2-d17c-46af-9d10-be3076c4919e",
   "metadata": {},
   "source": [
    "Execute the imports notebook to import all of the python functions and classes that we will need:"
   ]
  },
  {
   "cell_type": "code",
   "execution_count": null,
   "id": "f424ec1c-c0cc-4fb9-a893-6798997caa90",
   "metadata": {},
   "outputs": [],
   "source": [
    "%run Tutorial_2_Imports.ipynb"
   ]
  },
  {
   "cell_type": "markdown",
   "id": "64844547-7788-4a49-9af6-d285b0a470a5",
   "metadata": {},
   "source": [
    "Execute the paths notebook to set up the directory we will use to store all the files we will be generating:"
   ]
  },
  {
   "cell_type": "code",
   "execution_count": null,
   "id": "4fd376bb-cca1-4596-bc9a-5e7432f79735",
   "metadata": {},
   "outputs": [],
   "source": [
    "%run Tutorial_2_Paths.ipynb"
   ]
  },
  {
   "cell_type": "markdown",
   "id": "61610e73-c6d8-41d8-b84f-a77643164dae",
   "metadata": {
    "jp-MarkdownHeadingCollapsed": true,
    "tags": []
   },
   "source": [
    "## 2.1.1 Create `.def` definition files"
   ]
  },
  {
   "cell_type": "markdown",
   "id": "ea976506-01b4-45ce-936b-1e6f04d9a034",
   "metadata": {},
   "source": [
    "MB-Fit uses `.def` files to store information about monomer or n-mer *types*. A monomer type is all the information about a monomer that does not depend on its structure and thus is common between all monomers of the same type. This includes atom elements, atom symmetries, and bonding topology. In MB-Fit, the information in a `.def` file is stored in an object called a `Defintition`."
   ]
  },
  {
   "cell_type": "markdown",
   "id": "eeaf5f04-089f-4844-9900-746780dc800e",
   "metadata": {},
   "source": [
    "Let's begin by creating the `Definitions` for the two fragments we will be working with."
   ]
  },
  {
   "cell_type": "markdown",
   "id": "c98fa40a-5ab2-4f55-9bc9-f9aaab965ea2",
   "metadata": {},
   "source": [
    "First, CH$_3$-NH$_2$:"
   ]
  },
  {
   "cell_type": "code",
   "execution_count": null,
   "id": "cd2b264b-161a-4b63-a2b5-7bd4118adc64",
   "metadata": {},
   "outputs": [],
   "source": [
    "# construct an empty Definition\n",
    "fragment_CH3NH2_definition = BasicFragmentDefinition()\n",
    "\n",
    "# add atoms\n",
    "CA  = fragment_CH3NH2_definition.add_atom(AtomDefinition(\"C\", \"A\"))\n",
    "HB1 = fragment_CH3NH2_definition.add_atom(AtomDefinition(\"H\", \"B\"))\n",
    "HB2 = fragment_CH3NH2_definition.add_atom(AtomDefinition(\"H\", \"B\"))\n",
    "HB3 = fragment_CH3NH2_definition.add_atom(AtomDefinition(\"H\", \"B\"))\n",
    "NC  = fragment_CH3NH2_definition.add_atom(AtomDefinition(\"N\", \"C\"))\n",
    "HD1 = fragment_CH3NH2_definition.add_atom(AtomDefinition(\"H\", \"D\"))\n",
    "HD2 = fragment_CH3NH2_definition.add_atom(AtomDefinition(\"H\", \"D\"))\n",
    "\n",
    "# add bonds\n",
    "fragment_CH3NH2_definition.add_bond(CA, HB1, BondDefinition(BondType.SINGLE))\n",
    "fragment_CH3NH2_definition.add_bond(CA, HB2, BondDefinition(BondType.SINGLE))\n",
    "fragment_CH3NH2_definition.add_bond(CA, HB3, BondDefinition(BondType.SINGLE))\n",
    "fragment_CH3NH2_definition.add_bond(CA, NC, BondDefinition(BondType.SINGLE))\n",
    "fragment_CH3NH2_definition.add_bond(NC, HD1, BondDefinition(BondType.SINGLE))\n",
    "fragment_CH3NH2_definition.add_bond(NC, HD2, BondDefinition(BondType.SINGLE))\n",
    "\n",
    "# save our definition to a file\n",
    "write_fragment_definition(paths.definitions.fragments.CH3NH2, fragment_CH3NH2_definition)"
   ]
  },
  {
   "cell_type": "markdown",
   "id": "4e44c6b5-e20b-4138-a0cd-9fd3625bad45",
   "metadata": {},
   "source": [
    "Each atom has an element (\"C\", \"H\", etc.) and a symmetry / atom type (\"A\", \"B\", etc.)"
   ]
  },
  {
   "cell_type": "markdown",
   "id": "4d7c339b-d16f-4706-bc2c-9c2df8cba2f6",
   "metadata": {},
   "source": [
    "Second, H$_2$O:"
   ]
  },
  {
   "cell_type": "code",
   "execution_count": null,
   "id": "8d5048bc-4739-4015-914d-eccb6674f5db",
   "metadata": {},
   "outputs": [],
   "source": [
    "# construct an empty Definition\n",
    "fragment_H2O_definition = BasicFragmentDefinition()\n",
    "\n",
    "# add atoms\n",
    "OE  = fragment_H2O_definition.add_atom(AtomDefinition(\"O\", \"E\"))\n",
    "HF1 = fragment_H2O_definition.add_atom(AtomDefinition(\"H\", \"F\"))\n",
    "HF2 = fragment_H2O_definition.add_atom(AtomDefinition(\"H\", \"F\"))\n",
    "\n",
    "# add bonds\n",
    "fragment_H2O_definition.add_bond(OE, HF1, BondDefinition(BondType.SINGLE))\n",
    "fragment_H2O_definition.add_bond(OE, HF2, BondDefinition(BondType.SINGLE))\n",
    "\n",
    "# save our definition to a file\n",
    "write_fragment_definition(paths.definitions.fragments.H2O, fragment_H2O_definition)"
   ]
  },
  {
   "cell_type": "markdown",
   "id": "93c8faa2-b1f9-437a-842c-f0b6fb6d0a93",
   "metadata": {},
   "source": [
    "We have just build two fragment `Definitions`. An n-mer consists of 1-or-more fragments. We also need to make `Definitions` for all the n-mers we will encounter while building the MB-nrg PEF:"
   ]
  },
  {
   "cell_type": "markdown",
   "id": "3cb55cf2-e182-45fc-9172-99c1f6de7323",
   "metadata": {},
   "source": [
    "First, the CH$_3$-NH$_2$ monomer (or \"1-mer\"), containing a single CH$_3$-NH$_2$ fragment:"
   ]
  },
  {
   "cell_type": "code",
   "execution_count": null,
   "id": "7a306f47-fa2e-4446-a875-09620309ad99",
   "metadata": {},
   "outputs": [],
   "source": [
    "# construct empty Definition\n",
    "definition_CH3NH2 = BasicCompoundDefinition()\n",
    "\n",
    "# add a single CH3NH2 fragment\n",
    "definition_CH3NH2.add_fragment(fragment_CH3NH2_definition)\n",
    "\n",
    "# save our definition to a file\n",
    "write_definition(paths.definitions.systems.CH3NH2, definition_CH3NH2)"
   ]
  },
  {
   "cell_type": "markdown",
   "id": "39023a64-d4e9-4569-9cd5-1cd8f59946d6",
   "metadata": {},
   "source": [
    "Then, then H$_2$O monomer, containing a single H$_2$O fragment:"
   ]
  },
  {
   "cell_type": "code",
   "execution_count": null,
   "id": "315031c6-ea28-4c10-bbde-62ff813a1456",
   "metadata": {},
   "outputs": [],
   "source": [
    "# construct empty Definition\n",
    "definition_H2O = BasicCompoundDefinition()\n",
    "\n",
    "# add a single CH3NH2 fragment\n",
    "definition_H2O.add_fragment(fragment_H2O_definition)\n",
    "\n",
    "# save our definition to a file\n",
    "write_definition(paths.definitions.systems.H2O, definition_H2O)"
   ]
  },
  {
   "cell_type": "markdown",
   "id": "2aaed33d-ab7d-4889-86e7-f916433752ee",
   "metadata": {},
   "source": [
    "Next, the CH$_3$-NH$_2$ -- H$_2$O dimer, with two fragments:"
   ]
  },
  {
   "cell_type": "code",
   "execution_count": null,
   "id": "cf26fc15-3d74-4d65-b57b-9fe2dc112a5d",
   "metadata": {},
   "outputs": [],
   "source": [
    "# construct empty Definition\n",
    "definition_CH3NH2_H2O = BasicCompoundDefinition()\n",
    "\n",
    "# add a single CH3NH2 fragment\n",
    "definition_CH3NH2_H2O.add_fragment(fragment_CH3NH2_definition)\n",
    "definition_CH3NH2_H2O.add_fragment(fragment_H2O_definition)\n",
    "\n",
    "# save our definition to a file\n",
    "write_definition(paths.definitions.systems.CH3NH2_H2O, definition_CH3NH2_H2O)"
   ]
  },
  {
   "cell_type": "markdown",
   "id": "49a927ad-9eae-4431-80fc-c3bfb0b439b3",
   "metadata": {},
   "source": [
    "The CH$_3$-NH$_2$ -- H$_2$O -- H$_2$O trimer, with three fragments:"
   ]
  },
  {
   "cell_type": "code",
   "execution_count": null,
   "id": "eb7ddfea-dd48-49a1-bee8-e3a07ac191e9",
   "metadata": {},
   "outputs": [],
   "source": [
    "# construct empty Definition\n",
    "definition_CH3NH2_H2O_H2O = BasicCompoundDefinition()\n",
    "\n",
    "# add a single CH3NH2 fragment\n",
    "definition_CH3NH2_H2O_H2O.add_fragment(fragment_CH3NH2_definition)\n",
    "definition_CH3NH2_H2O_H2O.add_fragment(fragment_H2O_definition)\n",
    "definition_CH3NH2_H2O_H2O.add_fragment(fragment_H2O_definition)\n",
    "\n",
    "# save our definition to a file\n",
    "write_definition(paths.definitions.systems.CH3NH2_H2O_H2O, definition_CH3NH2_H2O_H2O)"
   ]
  },
  {
   "cell_type": "markdown",
   "id": "a9dc2a08-cc94-47e4-b3a1-ab302bef28b2",
   "metadata": {},
   "source": [
    "While we will only build our PEF up to the 3-body level, we will also do some analysis on larger clusters, so we make definitions for those also."
   ]
  },
  {
   "cell_type": "markdown",
   "id": "84df9ade-0c29-4b1e-8152-226e9bc22ca7",
   "metadata": {},
   "source": [
    "The tetramer:"
   ]
  },
  {
   "cell_type": "code",
   "execution_count": null,
   "id": "43f84176-1756-459c-88bb-fb27ac086d1d",
   "metadata": {},
   "outputs": [],
   "source": [
    "# construct empty Definition\n",
    "definition_tetramer = BasicCompoundDefinition()\n",
    "\n",
    "# add a single CH3NH2 fragment\n",
    "definition_tetramer.add_fragment(fragment_CH3NH2_definition)\n",
    "definition_tetramer.add_fragment(fragment_H2O_definition)\n",
    "definition_tetramer.add_fragment(fragment_H2O_definition)\n",
    "definition_tetramer.add_fragment(fragment_H2O_definition)\n",
    "\n",
    "# save our definition to a file\n",
    "write_definition(paths.definitions.systems.tetramer, definition_tetramer)"
   ]
  },
  {
   "cell_type": "markdown",
   "id": "709e21bd-a1c3-45fa-833f-327c1cefd0bb",
   "metadata": {},
   "source": [
    "And the pentamer:"
   ]
  },
  {
   "cell_type": "code",
   "execution_count": null,
   "id": "d4edcd16-a6d9-4c60-ad1e-fb0313e9369a",
   "metadata": {},
   "outputs": [],
   "source": [
    "# construct empty Definition\n",
    "definition_pentamer = BasicCompoundDefinition()\n",
    "\n",
    "# add a single CH3NH2 fragment\n",
    "definition_pentamer.add_fragment(fragment_CH3NH2_definition)\n",
    "definition_pentamer.add_fragment(fragment_H2O_definition)\n",
    "definition_pentamer.add_fragment(fragment_H2O_definition)\n",
    "definition_pentamer.add_fragment(fragment_H2O_definition)\n",
    "definition_pentamer.add_fragment(fragment_H2O_definition)\n",
    "\n",
    "# save our definition to a file\n",
    "write_definition(paths.definitions.systems.pentamer, definition_pentamer)"
   ]
  },
  {
   "cell_type": "markdown",
   "id": "be913bff-8ac5-454c-8bee-3629597acb96",
   "metadata": {},
   "source": [
    "We've saved each `Definition` to a `.def` file, which we will read-in as needed throughout Tutorial 2."
   ]
  },
  {
   "cell_type": "markdown",
   "id": "d3b0ec8e-9b7d-463d-9d1c-8f99d5c9bad5",
   "metadata": {
    "jp-MarkdownHeadingCollapsed": true,
    "tags": []
   },
   "source": [
    "## 2.1.2 Geometry Initialization"
   ]
  },
  {
   "cell_type": "markdown",
   "id": "1ea6c4b2-cd43-4985-b422-644dde95bd7f",
   "metadata": {},
   "source": [
    "Next, we need a reasonable initial guess for the structure of each monomer. The guess need only be good enough that it will covnerge to the actual minimum structure when we perform a minimization with electronic structure theory. MB-Fit provides `VSEPRInitializer`, which will make a reasonable guess about the structure of a molecule based on its bonding topology:"
   ]
  },
  {
   "cell_type": "code",
   "execution_count": null,
   "id": "6166cf9f-2a80-4f77-a0a0-6be148b9b74d",
   "metadata": {},
   "outputs": [],
   "source": [
    "system_initializer = VSEPRInitializer(seed=12345)"
   ]
  },
  {
   "cell_type": "markdown",
   "id": "3f61f32f-94ac-4165-b001-7e1709b5ea98",
   "metadata": {},
   "source": [
    "Let's use `VSEPRInitializer` to create an initial structure file for CH$_3$-NH$_2$:"
   ]
  },
  {
   "cell_type": "code",
   "execution_count": null,
   "id": "295d04eb-2982-499c-8861-0b0023c863e5",
   "metadata": {},
   "outputs": [],
   "source": [
    "# initialize our structure\n",
    "initialized_structure_CH3NH2 = system_initializer(definition_CH3NH2)\n",
    "\n",
    "# save to a file\n",
    "write_system(paths.structures.initialized_CH3NH2, initialized_structure_CH3NH2)"
   ]
  },
  {
   "cell_type": "markdown",
   "id": "181a18e8-080f-4f5d-872c-fcc592de469e",
   "metadata": {},
   "source": [
    "Lets take a look at the initialized structure:"
   ]
  },
  {
   "cell_type": "code",
   "execution_count": null,
   "id": "66b9e6ef-e855-4565-b1eb-72ee4bcc9e8b",
   "metadata": {},
   "outputs": [],
   "source": [
    "render_system(\n",
    "        initialized_structure_CH3NH2,\n",
    "        centerer=lambda system: system.atoms[0].point,\n",
    "        aligner=lambda system: (system.atoms[4].point, system.atoms[3].point)\n",
    ")"
   ]
  },
  {
   "cell_type": "markdown",
   "id": "97e19fd4-bc64-4104-9275-60a5e39050e0",
   "metadata": {},
   "source": [
    "Next, let's initialize a structure for H$_2$O:"
   ]
  },
  {
   "cell_type": "code",
   "execution_count": null,
   "id": "5d445175-4456-42bb-8690-467146c132ed",
   "metadata": {},
   "outputs": [],
   "source": [
    "# initialize our structure\n",
    "initialized_structure_H2O = system_initializer(definition_H2O)\n",
    "\n",
    "# save to a file\n",
    "write_system(paths.structures.initialized_H2O, initialized_structure_H2O)"
   ]
  },
  {
   "cell_type": "markdown",
   "id": "59138275-a5ac-4c09-872b-15413ba30749",
   "metadata": {},
   "source": [
    "And take a  look at the result:"
   ]
  },
  {
   "cell_type": "code",
   "execution_count": null,
   "id": "e7ffc303-b189-4d9e-8c1d-19b0947f7c3a",
   "metadata": {},
   "outputs": [],
   "source": [
    "render_system(\n",
    "        initialized_structure_H2O,\n",
    "        centerer=lambda system: system.atoms[0].point,\n",
    "        aligner=lambda system: (system.atoms[1].point, system.atoms[2].point)\n",
    ")"
   ]
  },
  {
   "cell_type": "markdown",
   "id": "8a198cbd-435d-4950-8523-c740448815e9",
   "metadata": {
    "jp-MarkdownHeadingCollapsed": true,
    "tags": []
   },
   "source": [
    "## 2.2.3 Geometry Minimization"
   ]
  },
  {
   "cell_type": "markdown",
   "id": "62ae5ae4-0c83-4d1c-b2c1-3a16d42cfb7e",
   "metadata": {},
   "source": [
    "While they look reasonable, lets refine the structures using electronic structure theory. Here and throughout tutorial 2 we will use MP2/def2_TZVP to build the PEF - but this choice is just to get something that is pretty good but won't take too long to execute and everything in Tutorial 2 should work equally well at the CCSD(T) level. "
   ]
  },
  {
   "cell_type": "markdown",
   "id": "1c2d5c06-868c-4ad3-9eec-46451460b467",
   "metadata": {},
   "source": [
    "MB-Fit uses `Calculator` objects to interface with electronic structure software to perform *ab initio* calculations. Here, we will use Psi4Calculator, which interfaces with Psi4. MB-Fit also provides interfaces to Q-Chem and Orca, however here we use Psi4 since it is the easiest to get running on Expanse."
   ]
  },
  {
   "cell_type": "code",
   "execution_count": null,
   "id": "12098c4d-e6cf-4547-b68b-1c57db0bb750",
   "metadata": {},
   "outputs": [],
   "source": [
    "calculator = Psi4Calculator(\n",
    "        method=\"MP2\",\n",
    "        basis=\"def2-TZVP\",\n",
    "        log_directory=paths.logs,\n",
    "        scratch_directory=paths.scratch.psi4\n",
    ")"
   ]
  },
  {
   "cell_type": "markdown",
   "id": "1c625e0a-5d97-40de-8ce0-2e70caeebb20",
   "metadata": {},
   "source": [
    "We now minimize our initial guess for the CH$_3$-NH$_2$ structure:"
   ]
  },
  {
   "cell_type": "code",
   "execution_count": null,
   "id": "17d737de-4d4e-4be5-afef-0bd124ca2fb2",
   "metadata": {
    "tags": []
   },
   "outputs": [],
   "source": [
    "minimized_structure_CH3NH2, minimized_energy_CH3NH2 = minimize_structure(\n",
    "        initialized_structure_CH3NH2,\n",
    "        calculator=calculator,\n",
    "        restart_path=paths.restart.minimization_CH3NH2,\n",
    "        num_threads=16,\n",
    "        mem_mb=32000\n",
    ")\n",
    "write_system_and_energy(paths.structures.minimized_CH3NH2, (minimized_structure_CH3NH2, minimized_energy_CH3NH2))"
   ]
  },
  {
   "cell_type": "markdown",
   "id": "1f486785-0787-4677-923f-8919c2d5ac81",
   "metadata": {},
   "source": [
    "And similarly for H$_2$O:"
   ]
  },
  {
   "cell_type": "code",
   "execution_count": null,
   "id": "bcf986cb-ce05-49d8-acf3-095c86044fb4",
   "metadata": {
    "tags": []
   },
   "outputs": [],
   "source": [
    "minimized_structure_H2O, minimized_energy_H2O = minimize_structure(\n",
    "        initialized_structure_H2O,\n",
    "        calculator=calculator,\n",
    "        restart_path=paths.restart.minimization_H2O,\n",
    "        num_threads=16,\n",
    "        mem_mb=32000\n",
    ")\n",
    "write_system_and_energy(paths.structures.minimized_H2O, (minimized_structure_H2O, minimized_energy_H2O))"
   ]
  },
  {
   "cell_type": "markdown",
   "id": "67464e52-2dfb-4154-88e4-019bcacc498b",
   "metadata": {},
   "source": [
    "We can then render the original guess and the MP2 optimized one to see the difference:"
   ]
  },
  {
   "cell_type": "code",
   "execution_count": null,
   "id": "b878197c-4845-4e5f-a8bb-38d4fa6ebbd7",
   "metadata": {},
   "outputs": [],
   "source": [
    "render_overlayed_systems(\n",
    "    systems=[initialized_structure_CH3NH2, minimized_structure_CH3NH2],\n",
    "    centerer=lambda system: system.atoms[0].point,\n",
    "    aligner=lambda system: (system.atoms[4].point, system.atoms[3].point),\n",
    "    alpha=(0.2, 1.0)\n",
    ")"
   ]
  },
  {
   "cell_type": "markdown",
   "id": "90386fd8-6665-4b75-b5c7-75ae29ea4dee",
   "metadata": {},
   "source": [
    "And similary for H$_2$O:"
   ]
  },
  {
   "cell_type": "code",
   "execution_count": null,
   "id": "9db994cc-3456-48f1-a5d2-8f9ad8c0891d",
   "metadata": {},
   "outputs": [],
   "source": [
    "render_overlayed_systems(\n",
    "    systems=[initialized_structure_H2O, minimized_structure_H2O],\n",
    "    centerer=lambda system: system.atoms[0].point,\n",
    "    aligner=lambda system: (system.atoms[1].point, system.atoms[2].point),\n",
    "    alpha=(0.2, 1.0)\n",
    ")"
   ]
  },
  {
   "cell_type": "markdown",
   "id": "bfcd9727-7122-4e9c-9870-24c4bea3490a",
   "metadata": {},
   "source": [
    "The `centerer` and `aligner` arguments tell the renderer where to place the structure in the image. For example in the case of water, we passed: \n",
    "```\n",
    "    centerer=lambda system: system.atoms[0].point,\n",
    "    aligner=lambda system: (system.atoms[1].point, system.atoms[2].point),\n",
    "```\n",
    "which tells the renderer to move the 0th atom of each structure to the center of the render. Then, the 1st atom is placed along the +x axis, and the 2nd atom is placed in the +x,+y plane"
   ]
  },
  {
   "cell_type": "markdown",
   "id": "66ed93b7-0707-4304-adfd-ff472d535fc3",
   "metadata": {},
   "source": [
    "We will need the vibrational modes of our two optimized structures, so let's calculate them here:"
   ]
  },
  {
   "cell_type": "code",
   "execution_count": null,
   "id": "9234e7ea-d67e-4533-b3d9-ab863ec4656a",
   "metadata": {
    "tags": []
   },
   "outputs": [],
   "source": [
    "vibrational_modes_CH3NH2 = calculate_vibrational_modes(\n",
    "        minimized_structure_CH3NH2,\n",
    "        calculator=calculator,\n",
    "        restart_path=paths.restart.vibrational_modes_CH3NH2,\n",
    "        num_threads=16,\n",
    "        mem_mb=32000\n",
    ")\n",
    "write_vibrational_modes(paths.structures.vibrational_modes_CH3NH2, vibrational_modes_CH3NH2)"
   ]
  },
  {
   "cell_type": "code",
   "execution_count": null,
   "id": "598ae4a4-99b7-45a9-b719-c3a84639d5d9",
   "metadata": {
    "tags": []
   },
   "outputs": [],
   "source": [
    "vibrational_modes_H2O = calculate_vibrational_modes(\n",
    "        minimized_structure_H2O,\n",
    "        calculator=calculator,\n",
    "        restart_path=paths.restart.vibrational_modes_H2O,\n",
    "        num_threads=16,\n",
    "        mem_mb=32000\n",
    ")\n",
    "write_vibrational_modes(paths.structures.vibrational_modes_H2O, vibrational_modes_H2O)"
   ]
  },
  {
   "cell_type": "markdown",
   "id": "22d68cac-6547-4c43-8d36-2ebd611969c5",
   "metadata": {
    "jp-MarkdownHeadingCollapsed": true,
    "tags": []
   },
   "source": [
    "## 2.2.4 Two-Body Scans"
   ]
  },
  {
   "cell_type": "markdown",
   "id": "6afe34e2-3eeb-4387-93b4-21b4b6b36b28",
   "metadata": {},
   "source": [
    "Next, we make a number of structure scans which we will use to validate our PEF later on. We begin with 2-body scans:"
   ]
  },
  {
   "cell_type": "markdown",
   "id": "9183e485-5209-49c5-9a90-945e1e615753",
   "metadata": {},
   "source": [
    "First, we will use the `definition_CH3NH2_H2O` of the 2-body CH$_3$-NH$_2$ -- H$_2$O along with the structures we just optimized to initialize the 2-body geometry:"
   ]
  },
  {
   "cell_type": "code",
   "execution_count": null,
   "id": "995a95e2-3768-4387-9ece-788a65eeebfa",
   "metadata": {
    "tags": []
   },
   "outputs": [],
   "source": [
    "dimer_CH3NH2_H2O = BasicCompound(definition_CH3NH2_H2O)\n",
    "\n",
    "dimer_CH3NH2_H2O.fragments[0].set_xyz(paths.structures.minimized_CH3NH2)\n",
    "dimer_CH3NH2_H2O.fragments[1].set_xyz(paths.structures.minimized_H2O)\n",
    "\n",
    "monomer_CH3NH2 = dimer_CH3NH2_H2O.fragments[0]\n",
    "monomer_H2O = dimer_CH3NH2_H2O.fragments[1]"
   ]
  },
  {
   "cell_type": "markdown",
   "id": "d254867b-2719-40d8-a672-8f8ddb2e14d4",
   "metadata": {},
   "source": [
    "Our first 2-body scan will be the dissociation of the H-bond between H on -NH$_2$ and O in H$_2$O."
   ]
  },
  {
   "cell_type": "code",
   "execution_count": null,
   "id": "c9a774bd-e3ab-4954-85a7-738903fb9a56",
   "metadata": {
    "tags": []
   },
   "outputs": [],
   "source": [
    "scan_CH3NH2_H2O_1 = make_scan(\n",
    "        system=dimer_CH3NH2_H2O,\n",
    "        region1=monomer_CH3NH2,\n",
    "        region2=monomer_H2O,\n",
    "        center1=monomer_CH3NH2.atoms[5].point,\n",
    "        center2=monomer_H2O.atoms[0].point,\n",
    "        align1=[monomer_CH3NH2.atoms[5].point-monomer_CH3NH2.atoms[4].point, monomer_CH3NH2.atoms[5].point-monomer_CH3NH2.atoms[0].point],\n",
    "        align2=[monomer_H2O.atoms[1].point-monomer_H2O.atoms[0].point + monomer_H2O.atoms[2].point-monomer_H2O.atoms[0].point, monomer_H2O.atoms[1].point - monomer_H2O.atoms[0].point],\n",
    "        distances=numpy.arange(1.0, 10.5, 0.5)\n",
    ")\n",
    "\n",
    "write_systems(paths.scans.CH3NH2_H2O.first, scan_CH3NH2_H2O_1)"
   ]
  },
  {
   "cell_type": "markdown",
   "id": "b80a5160-4639-4532-8bf0-43fcda8e11db",
   "metadata": {},
   "source": [
    "`make_scan` makes a scan by dividing the entire n-mer (`system`) into 2 regions (`region1` and `region2`) positioning the monomers (based on `center1`, `center2`, `align1` and `align2`) and then sliding them apart along the x-axis (at distances given by `distances`)."
   ]
  },
  {
   "cell_type": "markdown",
   "id": "dd853572-e443-4d90-8d0d-abb7dbd06dbe",
   "metadata": {},
   "source": [
    "Let's take a look at the scan we just constructed:"
   ]
  },
  {
   "cell_type": "code",
   "execution_count": null,
   "id": "24254e0b-bdd8-4e9e-b16f-94ab26ac5b6f",
   "metadata": {},
   "outputs": [],
   "source": [
    "HTML(render_systems(\n",
    "        systems=scan_CH3NH2_H2O_1,\n",
    "        centerer=lambda system: system.atoms[4].point,\n",
    "        aligner=lambda system: (system.atoms[7].point, system.atoms[0].point)\n",
    ").to_jshtml())"
   ]
  },
  {
   "cell_type": "markdown",
   "id": "8094a9d7-5a23-49f3-bdb1-767d09d29027",
   "metadata": {},
   "source": [
    "Our second 2-body scan will be the dissociation of the H-bond between H on H$_2$O and N in -NH$_2$:"
   ]
  },
  {
   "cell_type": "code",
   "execution_count": null,
   "id": "57a258af-8f95-4231-96a3-f756a0fe08d5",
   "metadata": {},
   "outputs": [],
   "source": [
    "scan_CH3NH2_H2O_2 = make_scan(\n",
    "        system=dimer_CH3NH2_H2O,\n",
    "        region1=monomer_CH3NH2,\n",
    "        region2=monomer_H2O,\n",
    "        center1=monomer_CH3NH2.atoms[4].point,\n",
    "        center2=monomer_H2O.atoms[1].point,\n",
    "        align1=(monomer_CH3NH2.atoms[4].point-monomer_CH3NH2.atoms[0].point + monomer_CH3NH2.atoms[4].point-monomer_CH3NH2.atoms[5].point + monomer_CH3NH2.atoms[4].point-monomer_CH3NH2.atoms[6].point, monomer_CH3NH2.atoms[0].point-monomer_CH3NH2.atoms[4].point),\n",
    "        align2=(monomer_H2O.atoms[0].point-monomer_H2O.atoms[1].point, monomer_H2O.atoms[2].point-monomer_H2O.atoms[1].point),\n",
    "        distances=numpy.arange(1.0, 10.5, 0.5)\n",
    ")\n",
    "\n",
    "write_systems(paths.scans.CH3NH2_H2O.second, scan_CH3NH2_H2O_2)"
   ]
  },
  {
   "cell_type": "markdown",
   "id": "69634764-5149-4cc8-8b1b-988e53e7cc09",
   "metadata": {},
   "source": [
    "Let's take a look:"
   ]
  },
  {
   "cell_type": "code",
   "execution_count": null,
   "id": "0da257b6-97c5-4615-bdb8-f7919a956ba6",
   "metadata": {},
   "outputs": [],
   "source": [
    "HTML(render_systems(\n",
    "        systems=scan_CH3NH2_H2O_2,\n",
    "        centerer=lambda system: system.atoms[4].point,\n",
    "        aligner=lambda system: (system.atoms[7].point, system.atoms[0].point)\n",
    ").to_jshtml())"
   ]
  },
  {
   "cell_type": "markdown",
   "id": "af70a57d-80fb-45b0-8cf8-fc7364047a46",
   "metadata": {},
   "source": [
    "H from -CH$_3$ approaching O in H$_2$O"
   ]
  },
  {
   "cell_type": "markdown",
   "id": "f0a1f167-8c7c-4b32-8f01-f03c0340b7ff",
   "metadata": {},
   "source": [
    "Our third 2-body scan will be the dissociation of the interaction between between H on -CH$_3$ and O in H$_2$O:"
   ]
  },
  {
   "cell_type": "code",
   "execution_count": null,
   "id": "6fa28379-1c32-464d-b68b-dcff963234d7",
   "metadata": {},
   "outputs": [],
   "source": [
    "scan_CH3NH2_H2O_3 = make_scan(\n",
    "        system=dimer_CH3NH2_H2O,\n",
    "        region1=monomer_CH3NH2,\n",
    "        region2=monomer_H2O,\n",
    "        center1=monomer_CH3NH2.atoms[1].point,\n",
    "        center2=monomer_H2O.atoms[0].point,\n",
    "        align1=(monomer_CH3NH2.atoms[1].point-monomer_CH3NH2.atoms[0].point, monomer_CH3NH2.atoms[4].point-monomer_CH3NH2.atoms[1].point),\n",
    "        align2=(monomer_H2O.atoms[1].point-monomer_H2O.atoms[0].point + monomer_H2O.atoms[2].point-monomer_H2O.atoms[0].point, monomer_H2O.atoms[1].point-monomer_H2O.atoms[0].point),\n",
    "        distances=numpy.arange(1.0, 10.5, 0.5)\n",
    ")\n",
    "\n",
    "write_systems(paths.scans.CH3NH2_H2O.third, scan_CH3NH2_H2O_3)"
   ]
  },
  {
   "cell_type": "code",
   "execution_count": null,
   "id": "0064876d-93f5-493b-bb7e-5e26ef70c960",
   "metadata": {},
   "outputs": [],
   "source": [
    "HTML(render_systems(\n",
    "        systems=scan_CH3NH2_H2O_3,\n",
    "        centerer=lambda system: system.atoms[0].point,\n",
    "        aligner=lambda system: (system.atoms[7].point, system.atoms[4].point)\n",
    ").to_jshtml())"
   ]
  },
  {
   "cell_type": "markdown",
   "id": "fd9bb56e-0b17-4fe7-8bb3-400d49b92fc9",
   "metadata": {},
   "source": [
    "We will need the reference electronic structure energies for these scans. So lets perform them now."
   ]
  },
  {
   "cell_type": "markdown",
   "id": "ba440701-fcd2-424c-8d9b-7626122a2935",
   "metadata": {},
   "source": [
    "The `calculate_nmer_energies` function calculates all the n-mer energies for a data set."
   ]
  },
  {
   "cell_type": "code",
   "execution_count": null,
   "id": "64829178-c648-492e-8840-41464f46fcd9",
   "metadata": {},
   "outputs": [],
   "source": [
    "scan_CH3NH2_H2O_1_energies = calculate_nmer_energies(\n",
    "        scan_CH3NH2_H2O_1,\n",
    "        calculator=calculator,\n",
    "        restart_path=paths.restart.scans_CH3NH2_H2O_1_energies,\n",
    "        num_threads=8,\n",
    "        mem_mb=8000\n",
    ")\n",
    "write_systems_and_nmer_energies(paths.scans.CH3NH2_H2O.first_energies, (scan_CH3NH2_H2O_1, scan_CH3NH2_H2O_1_energies))"
   ]
  },
  {
   "cell_type": "code",
   "execution_count": null,
   "id": "fd063154-6c3a-4e79-bea1-216c99e29ff4",
   "metadata": {},
   "outputs": [],
   "source": [
    "scan_CH3NH2_H2O_2_energies = calculate_nmer_energies(\n",
    "        scan_CH3NH2_H2O_2,\n",
    "        calculator=calculator,\n",
    "        restart_path=paths.restart.scans_CH3NH2_H2O_2_energies,\n",
    "        num_threads=8,\n",
    "        mem_mb=8000\n",
    ")\n",
    "write_systems_and_nmer_energies(paths.scans.CH3NH2_H2O.second_energies, (scan_CH3NH2_H2O_2, scan_CH3NH2_H2O_2_energies))"
   ]
  },
  {
   "cell_type": "code",
   "execution_count": null,
   "id": "efe47c2b-154b-43cc-8db9-9a0158b07564",
   "metadata": {},
   "outputs": [],
   "source": [
    "scan_CH3NH2_H2O_3_energies = calculate_nmer_energies(\n",
    "        scan_CH3NH2_H2O_3,\n",
    "        calculator=calculator,\n",
    "        restart_path=paths.restart.scans_CH3NH2_H2O_3_energies,\n",
    "        num_threads=8,\n",
    "        mem_mb=8000\n",
    ")\n",
    "write_systems_and_nmer_energies(paths.scans.CH3NH2_H2O.third_energies, (scan_CH3NH2_H2O_3, scan_CH3NH2_H2O_3_energies))"
   ]
  },
  {
   "cell_type": "markdown",
   "id": "49cae388-6cc3-45f0-a09e-7baf9831662a",
   "metadata": {},
   "source": [
    "Now we have all the n-mer energies for our scans. To explain what is meant by n-mer energies, take a look at the object which stores the energies for the first config of the first scan:"
   ]
  },
  {
   "cell_type": "code",
   "execution_count": null,
   "id": "a7ac4df1-9855-4538-b3ff-4c89e8c6d300",
   "metadata": {},
   "outputs": [],
   "source": [
    "scan_CH3NH2_H2O_1_energies[0]"
   ]
  },
  {
   "cell_type": "markdown",
   "id": "14ae31aa-8b7b-4b07-88a1-27d45a0fa46f",
   "metadata": {},
   "source": [
    "The `(0,)` entry is the energy associated with the first monomer ($E_{1b}(i)$), `(1,)` is the energy associated with the second monomer ($E_{1b}(j)$), and then `(0, 1)` is the energy associated with the dimer ($E_{2b}(i, j)$)."
   ]
  },
  {
   "cell_type": "markdown",
   "id": "33e831aa-f099-4b78-a69c-6ee21c8a499d",
   "metadata": {},
   "source": [
    "From these n-mer energies, we can calculate the 2-body energy (aka \"interaction energy\") . Recall that the 2-body energy is calculated as $E_{2b}(i, j) = E(i, j) - E(i) - E(j) $"
   ]
  },
  {
   "cell_type": "code",
   "execution_count": null,
   "id": "4f17401e-df94-447c-bdc9-5699b04e65c5",
   "metadata": {},
   "outputs": [],
   "source": [
    "scan_CH3NH2_H2O_1_2b_energies = calculate_many_body_energies(scan_CH3NH2_H2O_1, scan_CH3NH2_H2O_1_energies)\n",
    "scan_CH3NH2_H2O_2_2b_energies = calculate_many_body_energies(scan_CH3NH2_H2O_2, scan_CH3NH2_H2O_2_energies)\n",
    "scan_CH3NH2_H2O_3_2b_energies = calculate_many_body_energies(scan_CH3NH2_H2O_3, scan_CH3NH2_H2O_3_energies)"
   ]
  },
  {
   "cell_type": "markdown",
   "id": "e7dce082-0330-43e9-80a8-f31899060647",
   "metadata": {},
   "source": [
    "Now, lets plot the 2-body energies of the scans. We will do this using the `plot_scan` function.\n",
    "\n",
    "Here, `systems` are the scan structures, `energies` is a dictionary of the energies we want to plot, and `atom1_index` / `atom2_index` are the indices of the atoms used to calculate the distance on the x-axis.\n",
    "\n",
    "The `centerer` and `aligner` again just tell the renderer how to draw the scsan."
   ]
  },
  {
   "cell_type": "code",
   "execution_count": null,
   "id": "56bee1a8-39d6-4373-91b8-488d60169b84",
   "metadata": {
    "tags": []
   },
   "outputs": [],
   "source": [
    "plot_scan(\n",
    "        systems=scan_CH3NH2_H2O_1,\n",
    "        energies={\"MP2/def2-TZVP\": scan_CH3NH2_H2O_1_2b_energies},\n",
    "        atom1_index=4,\n",
    "        atom2_index=7,\n",
    "        title=\"2-body Energies\",\n",
    "        ymax=2,\n",
    "        centerer=lambda system: system.atoms[4].point,\n",
    "        aligner=lambda system: (system.atoms[7].point, system.atoms[0].point)\n",
    ")"
   ]
  },
  {
   "cell_type": "code",
   "execution_count": null,
   "id": "9481c399-25ab-4089-9099-2d6f9d87cc3e",
   "metadata": {
    "tags": []
   },
   "outputs": [],
   "source": [
    "plot_scan(\n",
    "        systems=scan_CH3NH2_H2O_2,\n",
    "        energies={\"MP2/def2-TZVP\": scan_CH3NH2_H2O_2_2b_energies},\n",
    "        atom1_index=4,\n",
    "        atom2_index=7,\n",
    "        title=\"2-body Energies\",\n",
    "        ymax=2,\n",
    "        centerer=lambda system: system.atoms[4].point,\n",
    "        aligner=lambda system: (system.atoms[7].point, system.atoms[0].point)\n",
    ")"
   ]
  },
  {
   "cell_type": "code",
   "execution_count": null,
   "id": "a57cea90-5d7b-4809-931b-5d43555120d8",
   "metadata": {
    "tags": []
   },
   "outputs": [],
   "source": [
    "plot_scan(\n",
    "        systems=scan_CH3NH2_H2O_3,\n",
    "        energies={\"MP2/def2-TZVP\": scan_CH3NH2_H2O_3_2b_energies},\n",
    "        atom1_index=0,\n",
    "        atom2_index=7,\n",
    "        title=\"2-body Energies\",\n",
    "        ymax=2,\n",
    "        centerer=lambda system: system.atoms[0].point,\n",
    "        aligner=lambda system: (system.atoms[7].point, system.atoms[4].point)\n",
    ")"
   ]
  },
  {
   "cell_type": "markdown",
   "id": "2e320e8b-ddb3-420c-980e-79c264d33a75",
   "metadata": {
    "jp-MarkdownHeadingCollapsed": true,
    "tags": []
   },
   "source": [
    "## 2.2.5 Three-Body Scans"
   ]
  },
  {
   "cell_type": "markdown",
   "id": "717637a3-fd02-4a75-81ed-dfeec59eab0c",
   "metadata": {},
   "source": [
    "Next, we make a few 3-body scans."
   ]
  },
  {
   "cell_type": "markdown",
   "id": "da0ea898-a3c2-4f7f-9e57-3e92ab8b220a",
   "metadata": {},
   "source": [
    "First, we will use the `definition_CH3NH2_H2O_H2O` of the 3-body CH$_3$-NH$_2$ -- H$_2$O -- H$_2$O alongwith the monomers' optimized geometries to make the initial structure for our 3-body scans:"
   ]
  },
  {
   "cell_type": "code",
   "execution_count": null,
   "id": "887e3134-9873-4dd3-bf0f-f8b9c9898b91",
   "metadata": {},
   "outputs": [],
   "source": [
    "trimer_CH3NH2_H2O_H2O = BasicCompound(definition_CH3NH2_H2O_H2O)\n",
    "\n",
    "trimer_CH3NH2_H2O_H2O.fragments[0].set_xyz(paths.structures.minimized_CH3NH2)\n",
    "trimer_CH3NH2_H2O_H2O.fragments[1].set_xyz(paths.structures.minimized_H2O)\n",
    "trimer_CH3NH2_H2O_H2O.fragments[2].set_xyz(paths.structures.minimized_H2O)\n",
    "\n",
    "monomer_CH3NH2 = trimer_CH3NH2_H2O_H2O.fragments[0]\n",
    "monomer_H2O_1 = trimer_CH3NH2_H2O_H2O.fragments[1]\n",
    "monomer_H2O_2 = trimer_CH3NH2_H2O_H2O.fragments[2]\n",
    "\n",
    "region_CH3NH2_H2O = BasicMutableRegionManager(trimer_CH3NH2_H2O_H2O).make_region([monomer_CH3NH2, monomer_H2O_1])\n",
    "transformer_CH3NH2 = SystemTransformer(monomer_CH3NH2)\n",
    "transformer_H2O_1 = SystemTransformer(monomer_H2O_1)"
   ]
  },
  {
   "cell_type": "markdown",
   "id": "328d8493-15fb-459a-8ac5-9ab056ebb72b",
   "metadata": {},
   "source": [
    "Our first 3-body scan will be -NH$_2$ donating 2 H-bonds to 2 H$_2$Os, where one H$_2$O moves away:"
   ]
  },
  {
   "cell_type": "code",
   "execution_count": null,
   "id": "c4c191df-028b-48c6-90e8-54ab0f8e7154",
   "metadata": {},
   "outputs": [],
   "source": [
    "transformer_CH3NH2.translate(translation=-monomer_CH3NH2.atoms[5].point)\n",
    "transformer_H2O_1.translate(translation=-monomer_H2O_1.atoms[0].point)\n",
    "transformer_CH3NH2.align(vectors_to_align=[-monomer_CH3NH2.atoms[4].point, monomer_CH3NH2.atoms[0].point])\n",
    "transformer_H2O_1.align(vectors_to_align=[monomer_H2O_1.atoms[1].point + monomer_H2O_1.atoms[2].point, monomer_H2O_1.atoms[1].point])\n",
    "\n",
    "# Make fixed H-bond 2.0 A long\n",
    "transformer_H2O_1.translate(x=2.0)\n",
    "\n",
    "scan_CH3NH2_H2O_H2O_1 = make_scan(\n",
    "        system=trimer_CH3NH2_H2O_H2O,\n",
    "        region1=region_CH3NH2_H2O,\n",
    "        region2=monomer_H2O_2,\n",
    "        center1=monomer_CH3NH2.atoms[6].point,\n",
    "        center2=monomer_H2O_2.atoms[0].point,\n",
    "        align1=[monomer_CH3NH2.atoms[6].point-monomer_CH3NH2.atoms[4].point, monomer_CH3NH2.atoms[6].point-monomer_CH3NH2.atoms[0].point],\n",
    "        align2=[monomer_H2O_2.atoms[1].point-monomer_H2O_2.atoms[0].point + monomer_H2O_2.atoms[2].point-monomer_H2O_2.atoms[0].point, monomer_H2O_2.atoms[1].point - monomer_H2O_2.atoms[0].point],\n",
    "        distances=numpy.arange(1.0, 10.5, 0.5)\n",
    ")\n",
    "\n",
    "write_systems(paths.scans.CH3NH2_H2O_H2O.first, scan_CH3NH2_H2O_H2O_1)"
   ]
  },
  {
   "cell_type": "markdown",
   "id": "03da60ee-ea46-4abf-90df-1921d707419f",
   "metadata": {},
   "source": [
    "Render it:"
   ]
  },
  {
   "cell_type": "code",
   "execution_count": null,
   "id": "f86ccc8c-2ccd-4e31-8ac0-de8bc2e7e4d5",
   "metadata": {},
   "outputs": [],
   "source": [
    "HTML(render_systems(\n",
    "        scan_CH3NH2_H2O_H2O_1,\n",
    "        centerer=lambda system: system.atoms[4].point,\n",
    "        aligner=lambda system: (system.atoms[-3].point, system.atoms[0].point)\n",
    ").to_jshtml())"
   ]
  },
  {
   "cell_type": "markdown",
   "id": "ebf28427-cef8-4809-ac5e-52148ebdc6b1",
   "metadata": {},
   "source": [
    "Our second 3-body scan will be -NH$_2$ donating 1 H-bond and accepting 1 H-bond, where the H$_2$O that is accepting an H-bond moves away."
   ]
  },
  {
   "cell_type": "code",
   "execution_count": null,
   "id": "425cc4f6-e795-4a8e-81cb-02d1a8cdb6a3",
   "metadata": {},
   "outputs": [],
   "source": [
    "transformer_CH3NH2.translate(translation=-monomer_CH3NH2.atoms[4].point)\n",
    "transformer_H2O_1.translate(translation=-monomer_H2O_1.atoms[1].point)\n",
    "transformer_CH3NH2.align(vectors_to_align=[-monomer_CH3NH2.atoms[5].point-monomer_CH3NH2.atoms[6].point-monomer_CH3NH2.atoms[0].point, monomer_CH3NH2.atoms[0].point])\n",
    "transformer_H2O_1.align(vectors_to_align=[monomer_H2O_1.atoms[0].point, monomer_H2O_1.atoms[2].point])\n",
    "\n",
    "# Make fixed H-bond 2.0 A long\n",
    "transformer_H2O_1.translate(x=2.0)\n",
    "\n",
    "scan_CH3NH2_H2O_H2O_2 = make_scan(\n",
    "        system=trimer_CH3NH2_H2O_H2O,\n",
    "        region1=region_CH3NH2_H2O,\n",
    "        region2=monomer_H2O_2,\n",
    "        center1=monomer_CH3NH2.atoms[6].point,\n",
    "        center2=monomer_H2O_2.atoms[0].point,\n",
    "        align1=[monomer_CH3NH2.atoms[6].point-monomer_CH3NH2.atoms[4].point, monomer_CH3NH2.atoms[6].point-monomer_CH3NH2.atoms[0].point],\n",
    "        align2=[monomer_H2O_2.atoms[1].point-monomer_H2O_2.atoms[0].point + monomer_H2O_2.atoms[2].point-monomer_H2O_2.atoms[0].point, monomer_H2O_2.atoms[1].point - monomer_H2O_2.atoms[0].point],\n",
    "        distances=numpy.arange(1.0, 10.5, 0.5)\n",
    ")\n",
    "\n",
    "write_systems(paths.scans.CH3NH2_H2O_H2O.second, scan_CH3NH2_H2O_H2O_2)"
   ]
  },
  {
   "cell_type": "code",
   "execution_count": null,
   "id": "e85f4106-777f-4f84-8ecd-250a20cf7f67",
   "metadata": {},
   "outputs": [],
   "source": [
    "HTML(render_systems(\n",
    "        systems=scan_CH3NH2_H2O_H2O_2,\n",
    "        centerer=lambda system: system.atoms[4].point,\n",
    "        aligner=lambda system: (system.atoms[-3].point, system.atoms[0].point)\n",
    ").to_jshtml())"
   ]
  },
  {
   "cell_type": "markdown",
   "id": "7bdff1c2-1292-417b-a406-417ceb8db2e0",
   "metadata": {},
   "source": [
    "Our third 3-body scan will be -NH$_2$ donating 1 H-bond and accepting 1 H-bond, where the H$_2$O that is donating an H-bond moves away."
   ]
  },
  {
   "cell_type": "code",
   "execution_count": null,
   "id": "e3de08a5-76dd-4e5c-bf5e-f7b5c6cf8fed",
   "metadata": {},
   "outputs": [],
   "source": [
    "transformer_CH3NH2.translate(translation=-monomer_CH3NH2.atoms[5].point)\n",
    "transformer_H2O_1.translate(translation=-monomer_H2O_1.atoms[0].point)\n",
    "transformer_CH3NH2.align(vectors_to_align=[-monomer_CH3NH2.atoms[4].point, monomer_CH3NH2.atoms[0].point])\n",
    "transformer_H2O_1.align(vectors_to_align=[monomer_H2O_1.atoms[1].point + monomer_H2O_1.atoms[2].point, monomer_H2O_1.atoms[1].point])\n",
    "\n",
    "# Make fixed H-bond 2.0 A long\n",
    "transformer_H2O_1.translate(x=2.0)\n",
    "\n",
    "scan_CH3NH2_H2O_H2O_3 = make_scan(\n",
    "        system=trimer_CH3NH2_H2O_H2O,\n",
    "        region1=region_CH3NH2_H2O,\n",
    "        region2=monomer_H2O_2,\n",
    "        center1=monomer_CH3NH2.atoms[4].point,\n",
    "        center2=monomer_H2O_2.atoms[1].point,\n",
    "        align1=[monomer_CH3NH2.atoms[4].point-monomer_CH3NH2.atoms[5].point + monomer_CH3NH2.atoms[4].point-monomer_CH3NH2.atoms[6].point + monomer_CH3NH2.atoms[4].point-monomer_CH3NH2.atoms[0].point, monomer_CH3NH2.atoms[4].point-monomer_CH3NH2.atoms[0].point],\n",
    "        align2=[monomer_H2O_2.atoms[0].point-monomer_H2O_2.atoms[1].point, monomer_H2O_2.atoms[2].point - monomer_H2O_2.atoms[0].point],\n",
    "        distances=numpy.arange(1.0, 10.5, 0.5)\n",
    ")\n",
    "\n",
    "write_systems(paths.scans.CH3NH2_H2O_H2O.third, scan_CH3NH2_H2O_H2O_3)"
   ]
  },
  {
   "cell_type": "code",
   "execution_count": null,
   "id": "acb5b577-b195-4f11-833e-c5bbd3751676",
   "metadata": {},
   "outputs": [],
   "source": [
    "HTML(render_systems(\n",
    "        systems=scan_CH3NH2_H2O_H2O_3,\n",
    "        centerer=lambda system: system.atoms[4].point,\n",
    "        aligner=lambda system: (system.atoms[-3].point, system.atoms[0].point)\n",
    ").to_jshtml())"
   ]
  },
  {
   "cell_type": "markdown",
   "id": "6a4b6c1f-65a9-49fe-bd0d-3f36fd95af59",
   "metadata": {},
   "source": [
    "Great! Now, lets calculate the n-mer energies of the 3-body scans:"
   ]
  },
  {
   "cell_type": "code",
   "execution_count": null,
   "id": "6171136b-d113-43ae-ae3b-abeaa6c4518e",
   "metadata": {},
   "outputs": [],
   "source": [
    "scan_CH3NH2_H2O_H2O_1_energies = calculate_nmer_energies(\n",
    "        scan_CH3NH2_H2O_H2O_1,\n",
    "        calculator,\n",
    "        paths.restart.scans_CH3NH2_H2O_H2O_1_energies,\n",
    "        num_threads=16,\n",
    "        mem_mb=32000\n",
    ")\n",
    "write_systems_and_nmer_energies(paths.scans.CH3NH2_H2O_H2O.first_energies, (scan_CH3NH2_H2O_H2O_1, scan_CH3NH2_H2O_H2O_1_energies))"
   ]
  },
  {
   "cell_type": "code",
   "execution_count": null,
   "id": "5d476670-5046-4a0a-b150-2c693b82288f",
   "metadata": {},
   "outputs": [],
   "source": [
    "scan_CH3NH2_H2O_H2O_2_energies = calculate_nmer_energies(\n",
    "        scan_CH3NH2_H2O_H2O_2,\n",
    "        calculator,\n",
    "        paths.restart.scans_CH3NH2_H2O_H2O_2_energies,\n",
    "        num_threads=16,\n",
    "        mem_mb=32000\n",
    ")\n",
    "write_systems_and_nmer_energies(paths.scans.CH3NH2_H2O_H2O.second_energies, (scan_CH3NH2_H2O_H2O_2, scan_CH3NH2_H2O_H2O_2_energies))"
   ]
  },
  {
   "cell_type": "code",
   "execution_count": null,
   "id": "39447774-0e27-41ab-8a5e-0fe30a574d10",
   "metadata": {},
   "outputs": [],
   "source": [
    "scan_CH3NH2_H2O_H2O_3_energies = calculate_nmer_energies(\n",
    "        scan_CH3NH2_H2O_H2O_3,\n",
    "        calculator,\n",
    "        paths.restart.scans_CH3NH2_H2O_H2O_3_energies,\n",
    "        num_threads=16,\n",
    "        mem_mb=32000\n",
    ")\n",
    "write_systems_and_nmer_energies(paths.scans.CH3NH2_H2O_H2O.third_energies, (scan_CH3NH2_H2O_H2O_3, scan_CH3NH2_H2O_H2O_3_energies))"
   ]
  },
  {
   "cell_type": "markdown",
   "id": "7d05e82a-d9cb-440b-9c97-9751999255c8",
   "metadata": {},
   "source": [
    "Whereas for the 2-body scan, the n-mer energies contained a `(0,)`, `(1,)`, and `(0, 1)` contribution, here we have 7 contributions associated with each monomer, dimer, and trimer *within each 3-body structure*:"
   ]
  },
  {
   "cell_type": "code",
   "execution_count": null,
   "id": "8567418c-fcd7-4644-8230-d73afd4a0f87",
   "metadata": {},
   "outputs": [],
   "source": [
    "scan_CH3NH2_H2O_H2O_1_energies[0]"
   ]
  },
  {
   "cell_type": "markdown",
   "id": "b7963552-f6d4-416f-9b7a-6ca5f05980b5",
   "metadata": {},
   "source": [
    "From these n-mer energies, we can calculate the 3-body energy. Recall that the 2-body energy is calculated as $E_{3b}(i, j) = E(i, j, k) - E(i, j) - E(j, k) - E(i, k) + E(i) + E(j) + E(k) $"
   ]
  },
  {
   "cell_type": "code",
   "execution_count": null,
   "id": "aa931319-ccd1-4b52-aa55-761f2e8de829",
   "metadata": {},
   "outputs": [],
   "source": [
    "scan_CH3NH2_H2O_H2O_1_3b_energies = calculate_many_body_energies(scan_CH3NH2_H2O_H2O_1, scan_CH3NH2_H2O_H2O_1_energies)\n",
    "scan_CH3NH2_H2O_H2O_2_3b_energies = calculate_many_body_energies(scan_CH3NH2_H2O_H2O_2, scan_CH3NH2_H2O_H2O_2_energies)\n",
    "scan_CH3NH2_H2O_H2O_3_3b_energies = calculate_many_body_energies(scan_CH3NH2_H2O_H2O_3, scan_CH3NH2_H2O_H2O_3_energies)"
   ]
  },
  {
   "cell_type": "code",
   "execution_count": null,
   "id": "0ccc1389-d954-46c9-a392-16bbafad76af",
   "metadata": {
    "tags": []
   },
   "outputs": [],
   "source": [
    "plot_scan(\n",
    "        systems=scan_CH3NH2_H2O_H2O_1,\n",
    "        energies={\"MP2/def2-TZVP\": scan_CH3NH2_H2O_H2O_1_3b_energies},\n",
    "        atom1_index=4,\n",
    "        atom2_index=-3,\n",
    "        title=\"3-body Energies\",\n",
    "        ymax=2,\n",
    "        centerer=lambda system: system.atoms[4].point,\n",
    "        aligner=lambda system: (system.atoms[10].point, system.atoms[0].point)\n",
    ")"
   ]
  },
  {
   "cell_type": "code",
   "execution_count": null,
   "id": "0d1a54fa-4460-437e-aed5-c0c14931c38c",
   "metadata": {
    "tags": []
   },
   "outputs": [],
   "source": [
    "plot_scan(\n",
    "        systems=scan_CH3NH2_H2O_H2O_2,\n",
    "        energies={\"MP2/def2-TZVP\": scan_CH3NH2_H2O_H2O_2_3b_energies},\n",
    "        atom1_index=4,\n",
    "        atom2_index=-3,\n",
    "        title=\"3-body Energies\",\n",
    "        ymax=2,\n",
    "        centerer=lambda system: system.atoms[4].point,\n",
    "        aligner=lambda system: (system.atoms[10].point, system.atoms[0].point)\n",
    ")"
   ]
  },
  {
   "cell_type": "code",
   "execution_count": null,
   "id": "24e423d5-d932-4fea-a185-25ae8362a6b4",
   "metadata": {
    "tags": []
   },
   "outputs": [],
   "source": [
    "plot_scan(\n",
    "        systems=scan_CH3NH2_H2O_H2O_3,\n",
    "        energies={\"MP2/def2-TZVP\": scan_CH3NH2_H2O_H2O_3_3b_energies},\n",
    "        atom1_index=4,\n",
    "        atom2_index=-3,\n",
    "        title=\"3-body Energies\",\n",
    "        ymax=2,\n",
    "        centerer=lambda system: system.atoms[4].point,\n",
    "        aligner=lambda system: (system.atoms[-3].point, system.atoms[0].point)\n",
    ")"
   ]
  },
  {
   "cell_type": "markdown",
   "id": "a22c1554-db49-44d2-9b75-0d904cb0fc2f",
   "metadata": {
    "jp-MarkdownHeadingCollapsed": true,
    "tags": []
   },
   "source": [
    "## 2.2.6 Clusters"
   ]
  },
  {
   "cell_type": "markdown",
   "id": "8b8093e7-2d4a-4940-b18d-3fa8ba1f56be",
   "metadata": {},
   "source": [
    "Next, we will find some low-energy gas-phase clusters of a handful of molecules."
   ]
  },
  {
   "cell_type": "markdown",
   "id": "1c556a19-55b1-4681-9225-4ac08356f4f6",
   "metadata": {},
   "source": [
    "First, we construct the `Calculator` object that we will use to perform the calculations:"
   ]
  },
  {
   "cell_type": "code",
   "execution_count": null,
   "id": "1646686e-0b7a-4762-9b11-6157700fdb40",
   "metadata": {},
   "outputs": [],
   "source": [
    "cluster_optimizer = Psi4Calculator(\n",
    "        method=\"HF\",\n",
    "        basis=\"STO-3G\",\n",
    "        log_directory=paths.logs,\n",
    "        scratch_directory=paths.scratch.psi4,\n",
    "        qm_options={\n",
    "            \"GEOM_MAXITER\": 500,\n",
    "            \"intrafrag_step_limit_max\": 0.25\n",
    "        }\n",
    ")"
   ]
  },
  {
   "cell_type": "markdown",
   "id": "53b7bf91-8d63-4eb6-b833-d7541fbc119a",
   "metadata": {},
   "source": [
    "The `qm_options` dictionary is just some extra arguments to get passed to Psi4. Psi4's geometry optimizer can crash if provided with bad initial guesses, and so those arguments will help it be better behaved."
   ]
  },
  {
   "cell_type": "markdown",
   "id": "3e3c31e2-6b79-4bdc-83e6-55f45170c53d",
   "metadata": {},
   "source": [
    "The `find_clusters` function does a simple random search to try to find unique low-lying isomer structures. It works by initializing many random structures by placing each monomer at a random location within a sphere of a certain radius and giving each monomer a random rotation, then the `calculator` is used to minimize each structure. Once each structure has been minimized, they are compared and duplicates are eliminated. Here, we will allow only one isomer with each unique hydrogen bonding topology, and we will take the lowest energy one of each topology. This avoids getting a bunch of isomers that are very similar and just have different rotations of a few molecules."
   ]
  },
  {
   "cell_type": "markdown",
   "id": "988998c5-a359-405a-a23c-edbb424e26b9",
   "metadata": {},
   "source": [
    "First, find 2-body clusters:"
   ]
  },
  {
   "cell_type": "code",
   "execution_count": null,
   "id": "10ad347f-2d67-4991-9772-f7f4ed09cbd1",
   "metadata": {},
   "outputs": [],
   "source": [
    "clusters_CH3NH2_H2O = find_clusters(\n",
    "        monomers=[minimized_structure_CH3NH2, minimized_structure_H2O],\n",
    "        calculator=cluster_optimizer,\n",
    "        num_guesses=20,\n",
    "        restart_path=paths.restart.clusters_CH3NH2_H2O,\n",
    "        guess_seed=123345,\n",
    "        radius=5,\n",
    "        num_threads=16,\n",
    "        mem_mb=32000,\n",
    "        similarity_threshold=0.1,\n",
    "        filter_by_hbonds=True,\n",
    "        hbond_cut=3.0\n",
    ")\n",
    "write_systems(paths.clusters.CH3NH2_H2O, clusters_CH3NH2_H2O)"
   ]
  },
  {
   "cell_type": "markdown",
   "id": "f9d7e6f7-b0d8-41ea-b870-26e7eb30a39a",
   "metadata": {},
   "source": [
    "We can then visualize the clusters:"
   ]
  },
  {
   "cell_type": "code",
   "execution_count": null,
   "id": "5badc6e8-e3a0-426f-9fc5-d5b5ea66691c",
   "metadata": {},
   "outputs": [],
   "source": [
    "HTML(render_systems(\n",
    "        systems=clusters_CH3NH2_H2O,\n",
    "        centerer=lambda system: system.atoms[0].point,\n",
    "        aligner=lambda system: (system.atoms[4].point, system.atoms[1].point)\n",
    ").to_jshtml())"
   ]
  },
  {
   "cell_type": "markdown",
   "id": "bea9fe2c-10cd-4fb9-a636-e880ca03a8b8",
   "metadata": {},
   "source": [
    "Similarly, we can find 3-body clusters:"
   ]
  },
  {
   "cell_type": "code",
   "execution_count": null,
   "id": "3c36dd6a-ddde-4cb9-9b06-ee14940b2fdd",
   "metadata": {},
   "outputs": [],
   "source": [
    "clusters_CH3NH2_H2O_H2O = find_clusters(\n",
    "        monomers=[minimized_structure_CH3NH2, minimized_structure_H2O, minimized_structure_H2O],\n",
    "        calculator=cluster_optimizer,\n",
    "        num_guesses=20,\n",
    "        restart_path=paths.restart.clusters_CH3NH2_H2O_H2O,\n",
    "        guess_seed=123345,\n",
    "        radius=5,\n",
    "        num_threads=16,\n",
    "        mem_mb=32000,\n",
    "        similarity_threshold=0.1,\n",
    "        filter_by_hbonds=True,\n",
    "        hbond_cut=2.5\n",
    ")\n",
    "write_systems(paths.clusters.CH3NH2_H2O_H2O, clusters_CH3NH2_H2O_H2O)"
   ]
  },
  {
   "cell_type": "code",
   "execution_count": null,
   "id": "de595ac8-a8ed-41e0-9282-3d0f0aa558ee",
   "metadata": {},
   "outputs": [],
   "source": [
    "HTML(render_systems(\n",
    "        systems=clusters_CH3NH2_H2O_H2O,\n",
    "        centerer=lambda system: system.atoms[0].point,\n",
    "        aligner=lambda system: (system.atoms[4].point, system.atoms[1].point)\n",
    ").to_jshtml())"
   ]
  },
  {
   "cell_type": "markdown",
   "id": "02f4c092-75b8-4740-9b05-39ca78defda9",
   "metadata": {},
   "source": [
    "And 4-body clusters:"
   ]
  },
  {
   "cell_type": "code",
   "execution_count": null,
   "id": "e9bbcfcf-9b00-4a09-967a-1e09c9662c0b",
   "metadata": {},
   "outputs": [],
   "source": [
    "clusters_tetramer = find_clusters(\n",
    "        monomers=[minimized_structure_CH3NH2, minimized_structure_H2O, minimized_structure_H2O, minimized_structure_H2O],\n",
    "        calculator=cluster_optimizer,\n",
    "        num_guesses=20,\n",
    "        restart_path=paths.restart.clusters_tetramer,\n",
    "        guess_seed=123345,\n",
    "        radius=5,\n",
    "        num_threads=16,\n",
    "        mem_mb=32000,\n",
    "        similarity_threshold=1,\n",
    "        filter_by_hbonds=True,\n",
    "        hbond_cut=3.0\n",
    ")\n",
    "write_systems(paths.clusters.tetramer, clusters_tetramer)"
   ]
  },
  {
   "cell_type": "code",
   "execution_count": null,
   "id": "ff19e012-f87b-4b7b-8b13-0998609c6c59",
   "metadata": {},
   "outputs": [],
   "source": [
    "HTML(render_systems(\n",
    "        systems=clusters_tetramer,\n",
    "        centerer=lambda system: system.atoms[0].point,\n",
    "        aligner=lambda system: (system.atoms[4].point, system.atoms[1].point)\n",
    ").to_jshtml())"
   ]
  },
  {
   "cell_type": "markdown",
   "id": "00d86f0d-da2c-48b8-8b61-a975f9ee9ea6",
   "metadata": {},
   "source": [
    "And 5-body clusters:"
   ]
  },
  {
   "cell_type": "code",
   "execution_count": null,
   "id": "fa1f3d47-12ec-43f3-a432-f780917f983e",
   "metadata": {},
   "outputs": [],
   "source": [
    "clusters_pentamer = find_clusters(\n",
    "        monomers=[minimized_structure_CH3NH2, minimized_structure_H2O, minimized_structure_H2O, minimized_structure_H2O, minimized_structure_H2O],\n",
    "        calculator=cluster_optimizer,\n",
    "        num_guesses=10,\n",
    "        restart_path=paths.restart.clusters_pentamer,\n",
    "        guess_seed=123345,\n",
    "        radius=5,\n",
    "        num_threads=16,\n",
    "        mem_mb=32000,\n",
    "        similarity_threshold=0.1,\n",
    "        filter_by_hbonds=True,\n",
    "        hbond_cut=3.0\n",
    ")\n",
    "write_systems(paths.clusters.pentamer, clusters_pentamer)"
   ]
  },
  {
   "cell_type": "code",
   "execution_count": null,
   "id": "fed108a4-03ba-458b-99bc-97795e369520",
   "metadata": {},
   "outputs": [],
   "source": [
    "HTML(render_systems(\n",
    "        systems=clusters_pentamer,\n",
    "        centerer=lambda system: system.atoms[0].point,\n",
    "        aligner=lambda system: (system.atoms[4].point, system.atoms[1].point)\n",
    ").to_jshtml())"
   ]
  },
  {
   "cell_type": "markdown",
   "id": "c05c6415-fce9-4937-8404-d6ebcc7ca4e0",
   "metadata": {},
   "source": [
    "We will want the energies of each of these clusters, so lets calculate it with the reference MP2."
   ]
  },
  {
   "cell_type": "code",
   "execution_count": null,
   "id": "4311e798-659f-45be-95dc-aefc9a0d428b",
   "metadata": {},
   "outputs": [],
   "source": [
    "clusters_CH3NH2_H2O_energies = calculate_nmer_energies(\n",
    "        clusters_CH3NH2_H2O,\n",
    "        calculator=calculator,\n",
    "        restart_path=paths.restart.clusters_CH3NH2_H2O_energies,\n",
    "        num_threads=16,\n",
    "        mem_mb=32000\n",
    ")\n",
    "\n",
    "write_systems_and_nmer_energies(paths.clusters.CH3NH2_H2O_energies, (clusters_CH3NH2_H2O, clusters_CH3NH2_H2O_energies))"
   ]
  },
  {
   "cell_type": "code",
   "execution_count": null,
   "id": "0f9f8968-00f5-4db8-8652-89acfeb5ef87",
   "metadata": {},
   "outputs": [],
   "source": [
    "clusters_CH3NH2_H2O_H2O_energies = calculate_nmer_energies(\n",
    "        clusters_CH3NH2_H2O_H2O,\n",
    "        calculator=calculator,\n",
    "        restart_path=paths.restart.clusters_CH3NH2_H2O_H2O_energies,\n",
    "        num_threads=16,\n",
    "        mem_mb=32000\n",
    ")\n",
    "\n",
    "write_systems_and_nmer_energies(paths.clusters.CH3NH2_H2O_H2O_energies, (clusters_CH3NH2_H2O_H2O, clusters_CH3NH2_H2O_H2O_energies))"
   ]
  },
  {
   "cell_type": "code",
   "execution_count": null,
   "id": "b87114ff-4d32-41f6-8332-704b91660790",
   "metadata": {},
   "outputs": [],
   "source": [
    "clusters_tetramer_energies = calculate_nmer_energies(\n",
    "        clusters_tetramer,\n",
    "        calculator=calculator,\n",
    "        restart_path=paths.restart.clusters_tetramer_energies,\n",
    "        num_threads=16,\n",
    "        mem_mb=32000\n",
    ")\n",
    "\n",
    "write_systems_and_nmer_energies(paths.clusters.tetramer_energies, (clusters_tetramer, clusters_tetramer_energies))"
   ]
  },
  {
   "cell_type": "code",
   "execution_count": null,
   "id": "8b699727-dd55-4640-8483-eadad6ad4db2",
   "metadata": {},
   "outputs": [],
   "source": [
    "clusters_pentamer_energies = calculate_nmer_energies(\n",
    "        clusters_pentamer,\n",
    "        calculator=calculator,\n",
    "        restart_path=paths.restart.clusters_pentamer_energies,\n",
    "        num_threads=16,\n",
    "        mem_mb=32000\n",
    ")\n",
    "\n",
    "write_systems_and_nmer_energies(paths.clusters.pentamer_energies, (clusters_pentamer, clusters_pentamer_energies))"
   ]
  },
  {
   "cell_type": "markdown",
   "id": "b4735a54-c324-4b49-83cd-495faa9baa1c",
   "metadata": {},
   "source": [
    "Now, we can plot the n-body energies of these clusters."
   ]
  },
  {
   "cell_type": "markdown",
   "id": "27754b49-d915-435c-89de-54d0fc728f86",
   "metadata": {},
   "source": [
    "The 2-body energies of the dimer clusters:"
   ]
  },
  {
   "cell_type": "code",
   "execution_count": null,
   "id": "4852dca9-b06d-43e2-97de-c3831de369d0",
   "metadata": {},
   "outputs": [],
   "source": [
    "plot_clusters(\n",
    "        systems=clusters_CH3NH2_H2O,\n",
    "        energies={\n",
    "            \"MP2/def2-TZVP\": calculate_many_body_energies(clusters_CH3NH2_H2O, clusters_CH3NH2_H2O_energies)\n",
    "        },\n",
    "        title=\"Cluster 2-body Energies\",\n",
    "        centerer=lambda system: system.atoms[0].point,\n",
    "        aligner=lambda system: (system.atoms[4].point, system.atoms[1].point),\n",
    "        ymin=-11,\n",
    "        render_scale=0.3\n",
    ")"
   ]
  },
  {
   "cell_type": "markdown",
   "id": "d9520fa3-2410-476d-bdf9-a7fca7a8bf1c",
   "metadata": {},
   "source": [
    "The 3-body energies of the trimer clusters:"
   ]
  },
  {
   "cell_type": "code",
   "execution_count": null,
   "id": "c255157b-49bf-4ae1-b383-5a98356ed5bb",
   "metadata": {},
   "outputs": [],
   "source": [
    "plot_clusters(\n",
    "        systems=clusters_CH3NH2_H2O_H2O,\n",
    "        energies={\n",
    "            \"MP2/def2-TZVP\": calculate_many_body_energies(clusters_CH3NH2_H2O_H2O, clusters_CH3NH2_H2O_H2O_energies)\n",
    "        },\n",
    "        title=\"Cluster 3-body Energies\",\n",
    "        centerer=lambda system: system.atoms[0].point,\n",
    "        aligner=lambda system: (system.atoms[4].point, system.atoms[1].point),\n",
    "        ymin=-9,\n",
    "        render_scale=0.3\n",
    ")"
   ]
  },
  {
   "cell_type": "markdown",
   "id": "11061f7d-18b1-4783-9f3a-f290afa7a0f9",
   "metadata": {},
   "source": [
    "The 4-body energies of the tetramer clusters:"
   ]
  },
  {
   "cell_type": "code",
   "execution_count": null,
   "id": "77826bcf-b764-4c67-8180-cfaf3157a59c",
   "metadata": {},
   "outputs": [],
   "source": [
    "plot_clusters(\n",
    "        systems=clusters_tetramer,\n",
    "        energies={\n",
    "            \"MP2/def2-TZVP\": calculate_many_body_energies(clusters_tetramer, clusters_tetramer_energies)\n",
    "        },\n",
    "        title=\"Cluster 4-body Energies\",\n",
    "        centerer=lambda system: system.atoms[0].point,\n",
    "        aligner=lambda system: (system.atoms[4].point, system.atoms[1].point),\n",
    "        ymin=-9,\n",
    "        render_scale=0.2\n",
    ")"
   ]
  },
  {
   "cell_type": "markdown",
   "id": "178f9d79-4243-4ae5-95a6-a80357d87a13",
   "metadata": {},
   "source": [
    "The 5-body energies of the pentamer clusters:"
   ]
  },
  {
   "cell_type": "code",
   "execution_count": null,
   "id": "e9bbdf36-2bbe-4fbf-a353-fe539845a742",
   "metadata": {},
   "outputs": [],
   "source": [
    "plot_clusters(\n",
    "        systems=clusters_pentamer,\n",
    "        energies={\n",
    "            \"DFT\": calculate_many_body_energies(clusters_pentamer, clusters_pentamer_energies)\n",
    "        },\n",
    "        title=\"Cluster 5-body Energies\",\n",
    "        centerer=lambda system: system.atoms[0].point,\n",
    "        aligner=lambda system: (system.atoms[4].point, system.atoms[1].point),\n",
    "        ymin=-9,\n",
    "        render_scale=0.2\n",
    ")"
   ]
  },
  {
   "cell_type": "markdown",
   "id": "1cde261a-b918-4d82-8861-9bfc2b458ecb",
   "metadata": {},
   "source": [
    "Lastly, we will need the vibrational modes of these optimized clusters later on, so lets calculate them now:"
   ]
  },
  {
   "cell_type": "code",
   "execution_count": null,
   "id": "5fb85792-0a5c-4701-a615-f57711d541f6",
   "metadata": {
    "tags": []
   },
   "outputs": [],
   "source": [
    "vibrational_modes_clusters_CH3NH2_H2O = calculate_vibrational_modes(\n",
    "        clusters_CH3NH2_H2O,\n",
    "        cluster_optimizer,\n",
    "        paths.restart.clusters_CH3NH2_H2O_modes,\n",
    "        16,\n",
    "        32000\n",
    ")\n",
    "write_multiple_vibrational_modes(paths.clusters.CH3NH2_H2O_modes, vibrational_modes_clusters_CH3NH2_H2O)"
   ]
  },
  {
   "cell_type": "code",
   "execution_count": null,
   "id": "d311002e-ca9b-49cf-a847-bd35e1b39aba",
   "metadata": {},
   "outputs": [],
   "source": [
    "vibrational_modes_clusters_CH3NH2_H2O_H2O = calculate_vibrational_modes(\n",
    "        clusters_CH3NH2_H2O_H2O,\n",
    "        cluster_optimizer,\n",
    "        paths.restart.clusters_CH3NH2_H2O_H2O_modes,\n",
    "        16,\n",
    "        32000\n",
    ")\n",
    "write_multiple_vibrational_modes(paths.clusters.CH3NH2_H2O_H2O_modes, vibrational_modes_clusters_CH3NH2_H2O_H2O)"
   ]
  }
 ],
 "metadata": {
  "kernelspec": {
   "display_name": "Python 3 (ipykernel)",
   "language": "python",
   "name": "python3"
  },
  "language_info": {
   "codemirror_mode": {
    "name": "ipython",
    "version": 3
   },
   "file_extension": ".py",
   "mimetype": "text/x-python",
   "name": "python",
   "nbconvert_exporter": "python",
   "pygments_lexer": "ipython3",
   "version": "3.10.10"
  }
 },
 "nbformat": 4,
 "nbformat_minor": 5
}
