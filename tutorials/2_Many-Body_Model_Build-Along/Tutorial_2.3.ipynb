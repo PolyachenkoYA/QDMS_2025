{
 "cells": [
  {
   "cell_type": "markdown",
   "metadata": {
    "tags": []
   },
   "source": [
    "# Tutorial 2.3: One-Body Potential Energy Surface"
   ]
  },
  {
   "cell_type": "markdown",
   "metadata": {},
   "source": [
    "In this section, we construct, from scratch, a 1-body MB-nrg-style PEF for CH3-NH2."
   ]
  },
  {
   "cell_type": "markdown",
   "metadata": {
    "tags": []
   },
   "source": [
    "## 2.3.0 Definitions and Imports"
   ]
  },
  {
   "cell_type": "code",
   "execution_count": null,
   "metadata": {},
   "outputs": [],
   "source": [
    "%run Tutorial_2_Imports.ipynb"
   ]
  },
  {
   "cell_type": "code",
   "execution_count": null,
   "metadata": {},
   "outputs": [],
   "source": [
    "%run Tutorial_2_Paths.ipynb"
   ]
  },
  {
   "cell_type": "markdown",
   "metadata": {
    "jp-MarkdownHeadingCollapsed": true,
    "tags": []
   },
   "source": [
    "## 2.3.1 Normal Modes Configuration Generation"
   ]
  },
  {
   "cell_type": "markdown",
   "metadata": {},
   "source": [
    "Now, we will generate the first batch of configurations for our training set. This batch will come from randomly sampling the vibrational normal modes of methylamine."
   ]
  },
  {
   "cell_type": "markdown",
   "metadata": {},
   "source": [
    "We can read in the minimized structure and modes we calculated earlier:"
   ]
  },
  {
   "cell_type": "code",
   "execution_count": null,
   "metadata": {},
   "outputs": [],
   "source": [
    "definition_CH3NH2 = read_definition(paths.definitions.systems.CH3NH2)\n",
    "minimized_structure_CH3NH2, minimized_energy_CH3NH2 = read_system_and_energy(definition_CH3NH2, paths.structures.minimized_CH3NH2)\n",
    "vibrational_modes_CH3NH2 = read_vibrational_modes(paths.structures.vibrational_modes_CH3NH2)"
   ]
  },
  {
   "cell_type": "markdown",
   "metadata": {},
   "source": [
    "And then generate 1000 configurations by randomly sampling the normal modes:"
   ]
  },
  {
   "cell_type": "code",
   "execution_count": null,
   "metadata": {},
   "outputs": [],
   "source": [
    "configuration_generator = NormalModesConfigurationGenerator(\n",
    "        minimized_structure_CH3NH2,\n",
    "        vibrational_modes_CH3NH2,\n",
    ")\n",
    "\n",
    "configurations_vibrational_modes_CH3NH2 = list(configuration_generator.generate_configurations(num_configs=1000, seed=54321))\n",
    "write_systems(paths.PIP_CH3NH2.configs.vibrational_modes, configurations_vibrational_modes_CH3NH2)"
   ]
  },
  {
   "cell_type": "markdown",
   "metadata": {},
   "source": [
    "Take a peek at the configurations:"
   ]
  },
  {
   "cell_type": "code",
   "execution_count": null,
   "metadata": {},
   "outputs": [],
   "source": [
    "render_overlayed_systems(\n",
    "    configurations_vibrational_modes_CH3NH2,\n",
    "    centerer=lambda system: system.atoms[0].point,\n",
    "    aligner=lambda system: (system.atoms[4].point, system.atoms[3].point),\n",
    "    alpha=0.05,\n",
    "    num_to_show=25\n",
    ")"
   ]
  },
  {
   "cell_type": "markdown",
   "metadata": {
    "jp-MarkdownHeadingCollapsed": true,
    "tags": []
   },
   "source": [
    "## 2.3.2 Parallel-Bias Metadynamics Configuration Generation"
   ]
  },
  {
   "cell_type": "markdown",
   "metadata": {},
   "source": [
    "Let's generate the second set of configurations for our training set, those sampled from metadynamics simulations."
   ]
  },
  {
   "cell_type": "markdown",
   "metadata": {},
   "source": [
    "We need some force-field params to do the metadynamics with, since we want to generate very diverse configurations, we choose very weak force constants:"
   ]
  },
  {
   "cell_type": "code",
   "execution_count": null,
   "metadata": {},
   "outputs": [],
   "source": [
    "bond_params, angle_params, nonbonded_params = get_pbmetad_parameters(\n",
    "        minimized_structure_CH3NH2\n",
    ")"
   ]
  },
  {
   "cell_type": "code",
   "execution_count": null,
   "metadata": {},
   "outputs": [],
   "source": [
    "bond_params"
   ]
  },
  {
   "cell_type": "code",
   "execution_count": null,
   "metadata": {},
   "outputs": [],
   "source": [
    "angle_params"
   ]
  },
  {
   "cell_type": "code",
   "execution_count": null,
   "metadata": {},
   "outputs": [],
   "source": [
    "nonbonded_params"
   ]
  },
  {
   "cell_type": "markdown",
   "metadata": {},
   "source": [
    "And we can use the charges we calculated earlier, but we will scale them by 1/3, to allow the simulation to reach more distorted configurations:"
   ]
  },
  {
   "cell_type": "code",
   "execution_count": null,
   "metadata": {},
   "outputs": [],
   "source": [
    "charges = read_parameters(paths.Vphys.charges)\n",
    "charges = {symmetry: charges[symmetry]*1/3 for symmetry in charges}"
   ]
  },
  {
   "cell_type": "code",
   "execution_count": null,
   "metadata": {},
   "outputs": [],
   "source": [
    "charges"
   ]
  },
  {
   "cell_type": "markdown",
   "metadata": {},
   "source": [
    "Then, we run the metadynamics simulation:"
   ]
  },
  {
   "cell_type": "code",
   "execution_count": null,
   "metadata": {},
   "outputs": [],
   "source": [
    "perform_pbmetad_simulation(\n",
    "        lammps_executable_path,\n",
    "        [minimized_structure_CH3NH2],\n",
    "        num_configs=500000,\n",
    "        sample_interval=10,\n",
    "        temperature=700,\n",
    "        seed=12345,\n",
    "        configurations_path=paths.PIP_CH3NH2.configs.pbmetad_pool,\n",
    "        bond_params=bond_params,\n",
    "        angle_params=angle_params,\n",
    "        nonbonded_params=nonbonded_params,\n",
    "        charges=charges,\n",
    "        pbmetad_workdir=paths.scratch.pbmetad_CH3NH2,\n",
    "        restart_path=paths.restart.pbmetad_CH3NH2\n",
    ")"
   ]
  },
  {
   "cell_type": "markdown",
   "metadata": {},
   "source": [
    "We can take 200 configurations out to use as a test set later:"
   ]
  },
  {
   "cell_type": "code",
   "execution_count": null,
   "metadata": {},
   "outputs": [],
   "source": [
    "split_pool(\n",
    "        definition_CH3NH2,\n",
    "        paths.PIP_CH3NH2.configs.pbmetad_pool,\n",
    "        pool_size=500000,\n",
    "        num_configs_to_split=200,\n",
    "        unsplit_path=paths.PIP_CH3NH2.configs.pbmetad_train_pool,\n",
    "        split_path=paths.PIP_CH3NH2.configs.pbmetad_test,\n",
    "        strategy=\"INTERVAL\",\n",
    ")"
   ]
  },
  {
   "cell_type": "markdown",
   "metadata": {},
   "source": [
    "Then, we can use farthest point sampling to choose the ~1000 configurations that give a good broad coverge of the space:"
   ]
  },
  {
   "cell_type": "code",
   "execution_count": null,
   "metadata": {},
   "outputs": [],
   "source": [
    "pbmetad_configs_CH3NH2 = perform_fps(\n",
    "        definition_CH3NH2,\n",
    "        minimized_structure_CH3NH2,\n",
    "        vibrational_modes_CH3NH2,\n",
    "        paths.PIP_CH3NH2.configs.pbmetad_train_pool,\n",
    "        num_pool_configs=500000-200,\n",
    "        num_phase1_input_configs=100000,\n",
    "        approx_configs_to_select=1000,\n",
    "        fps_workdir=paths.scratch.fps_CH3NH2,\n",
    "        restart_path=paths.restart.fps_CH3NH2,\n",
    "        num_threads=16\n",
    ")"
   ]
  },
  {
   "cell_type": "markdown",
   "metadata": {},
   "source": [
    "Clearly, the configurations from metadynamics + FPS give a very broad coverge of the configuration space:"
   ]
  },
  {
   "cell_type": "code",
   "execution_count": null,
   "metadata": {},
   "outputs": [],
   "source": [
    "render_overlayed_systems(\n",
    "    pbmetad_configs_CH3NH2,\n",
    "    centerer=lambda system: system.atoms[0].point,\n",
    "    aligner=lambda system: (system.atoms[4].point, system.atoms[3].point),\n",
    "    alpha=0.05,\n",
    "    num_to_show=25\n",
    ")"
   ]
  },
  {
   "cell_type": "code",
   "execution_count": null,
   "metadata": {},
   "outputs": [],
   "source": [
    "write_systems(paths.PIP_CH3NH2.configs.pbmetad_train, pbmetad_configs_CH3NH2)"
   ]
  },
  {
   "cell_type": "markdown",
   "metadata": {
    "jp-MarkdownHeadingCollapsed": true,
    "tags": []
   },
   "source": [
    "## 2.3.3 Energy Calculation"
   ]
  },
  {
   "cell_type": "code",
   "execution_count": null,
   "metadata": {},
   "outputs": [],
   "source": [
    "calculator = Psi4Calculator(\n",
    "        \"MP2\",\n",
    "        \"def2-TZVP\",\n",
    "        log_directory=paths.logs,\n",
    "        scratch_directory=paths.scratch.psi4\n",
    ")"
   ]
  },
  {
   "cell_type": "code",
   "execution_count": null,
   "metadata": {},
   "outputs": [],
   "source": [
    "energies_vibrational_modes_CH3NH2 = calculate_nmer_energies(\n",
    "        configurations_vibrational_modes_CH3NH2,\n",
    "        calculator,\n",
    "        paths.restart.energies_vibrational_mode_configs_CH3NH2,\n",
    "        num_threads=8,\n",
    "        mem_mb=8000,\n",
    "        error_on_any_failure=False,\n",
    "        retrieve_only=True\n",
    ")\n",
    "write_systems_and_nmer_energies(paths.PIP_CH3NH2.configs.vibrational_modes_energies, (configurations_vibrational_modes_CH3NH2, energies_vibrational_modes_CH3NH2))"
   ]
  },
  {
   "cell_type": "code",
   "execution_count": null,
   "metadata": {},
   "outputs": [],
   "source": [
    "energies_pbmetad_CH3NH2 = calculate_nmer_energies(\n",
    "        pbmetad_configs_CH3NH2,\n",
    "        calculator,\n",
    "        paths.restart.energies_pbmetad_configs_CH3NH2,\n",
    "        num_threads=8,\n",
    "        mem_mb=8000,\n",
    "        error_on_any_failure=False,\n",
    "        retrieve_only=True\n",
    ")\n",
    "write_systems_and_nmer_energies(paths.PIP_CH3NH2.configs.pbmetad_train_energies, (pbmetad_configs_CH3NH2, energies_pbmetad_CH3NH2))"
   ]
  },
  {
   "cell_type": "code",
   "execution_count": null,
   "metadata": {},
   "outputs": [],
   "source": [
    "configurations_vibrational_modes_CH3NH2, energies_vibrational_modes_CH3NH2 = discard_failed_configurations(\n",
    "        configurations_vibrational_modes_CH3NH2,\n",
    "        energies_vibrational_modes_CH3NH2\n",
    ")\n",
    "\n",
    "pbmetad_configs_CH3NH2, energies_pbmetad_CH3NH2 = discard_failed_configurations(\n",
    "        pbmetad_configs_CH3NH2,\n",
    "        energies_pbmetad_CH3NH2\n",
    ")"
   ]
  },
  {
   "cell_type": "code",
   "execution_count": null,
   "metadata": {},
   "outputs": [],
   "source": [
    "energies_1b_vibrational_modes_CH3NH2 = calculate_many_body_energies(\n",
    "    configurations_vibrational_modes_CH3NH2,\n",
    "    energies_vibrational_modes_CH3NH2,\n",
    "    minimized_monomer_energies=[minimized_energy_CH3NH2]\n",
    ")\n",
    "\n",
    "energies_1b_pbmetad_CH3NH2 = calculate_many_body_energies(\n",
    "    pbmetad_configs_CH3NH2,\n",
    "    energies_pbmetad_CH3NH2,\n",
    "    minimized_monomer_energies=[minimized_energy_CH3NH2]\n",
    ")"
   ]
  },
  {
   "cell_type": "code",
   "execution_count": null,
   "metadata": {},
   "outputs": [],
   "source": [
    "write_training_set_file(\n",
    "        paths.PIP_CH3NH2.training_set,\n",
    "        (\n",
    "                [*configurations_vibrational_modes_CH3NH2, *pbmetad_configs_CH3NH2],\n",
    "                [*energies_1b_vibrational_modes_CH3NH2, *energies_1b_pbmetad_CH3NH2],\n",
    "                [*energies_1b_vibrational_modes_CH3NH2, *energies_1b_pbmetad_CH3NH2],\n",
    "        )\n",
    ")\n",
    "print(f\"Total configurations for training set: {len(configurations_vibrational_modes_CH3NH2) + len(pbmetad_configs_CH3NH2)}\")"
   ]
  },
  {
   "cell_type": "code",
   "execution_count": null,
   "metadata": {},
   "outputs": [],
   "source": [
    "min(energies_1b_vibrational_modes_CH3NH2), max(energies_1b_vibrational_modes_CH3NH2)"
   ]
  },
  {
   "cell_type": "code",
   "execution_count": null,
   "metadata": {},
   "outputs": [],
   "source": [
    "min(energies_1b_pbmetad_CH3NH2), max(energies_1b_pbmetad_CH3NH2)"
   ]
  },
  {
   "cell_type": "markdown",
   "metadata": {
    "jp-MarkdownHeadingCollapsed": true,
    "tags": []
   },
   "source": [
    "## 2.3.4 Polynomial Generation"
   ]
  },
  {
   "cell_type": "code",
   "execution_count": null,
   "metadata": {},
   "outputs": [],
   "source": [
    "pip_1b_max_order = 3"
   ]
  },
  {
   "cell_type": "code",
   "execution_count": null,
   "metadata": {},
   "outputs": [],
   "source": [
    "generate_polynomial(\n",
    "        definition_CH3NH2,\n",
    "        max_degree=pip_1b_max_order,\n",
    "        polynomial_info_path=paths.PIP_CH3NH2.PIP.info,\n",
    "        polynomial_dir=paths.PIP_CH3NH2.PIP.polynomial,\n",
    "        filters=[]\n",
    ")"
   ]
  },
  {
   "cell_type": "markdown",
   "metadata": {
    "tags": []
   },
   "source": [
    "## 2.3.5 Polynomial Parametrization"
   ]
  },
  {
   "cell_type": "code",
   "execution_count": null,
   "metadata": {},
   "outputs": [],
   "source": [
    "polarizabilities = read_parameters(paths.Vphys.polarizabilities)\n",
    "polarizability_factors = read_parameters(paths.Vphys.polarizability_factors)\n",
    "charges = read_parameters(paths.Vphys.charges)\n",
    "C6 = read_parameters(paths.Vphys.C6)\n",
    "d6 = read_parameters(paths.Vphys.d6)"
   ]
  },
  {
   "cell_type": "code",
   "execution_count": null,
   "metadata": {},
   "outputs": [],
   "source": [
    "print(\"polarizabilities:\", polarizabilities)\n",
    "print(\"polarizability_factors:\", polarizability_factors)\n",
    "print(\"charges:\", charges)\n",
    "print(\"C6:\", C6)\n",
    "print(\"d6:\", d6)"
   ]
  },
  {
   "cell_type": "code",
   "execution_count": null,
   "metadata": {
    "tags": []
   },
   "outputs": [],
   "source": [
    "generate_pip_parametizer(\n",
    "        definition_CH3NH2,\n",
    "        max_degree=pip_1b_max_order,\n",
    "        polynomial_info_path=paths.PIP_CH3NH2.PIP.info,\n",
    "        polynomial_dir=paths.PIP_CH3NH2.PIP.polynomial,\n",
    "        parametizer_dir=paths.PIP_CH3NH2.PIP.parameterizer,\n",
    "        workdir=paths.scratch.PIP_CH3NH2,\n",
    "        symmetry_to_charge=charges,\n",
    "        symmetry_to_polarizability=polarizabilities,\n",
    "        symmetry_to_polarizability_factor=polarizability_factors,\n",
    "        symmetries_to_C6=C6,\n",
    "        symmetries_to_d6=d6,\n",
    "        monomer_names=[\"ch3nh2\"],\n",
    "        is_mbpol=[False]\n",
    ")"
   ]
  },
  {
   "cell_type": "code",
   "execution_count": null,
   "metadata": {},
   "outputs": [],
   "source": [
    "parametrize_pip(\n",
    "        definition_CH3NH2,\n",
    "        parametizer_dir=paths.PIP_CH3NH2.PIP.parameterizer,\n",
    "        parametrization_dir=paths.PIP_CH3NH2.PIP.parametrization,\n",
    "        training_set_path=paths.PIP_CH3NH2.training_set,\n",
    "        workdir=paths.scratch.fitting_CH3NH2,\n",
    "        monomer_names=[\"ch3nh2\"],\n",
    "        is_mbpol=[False],\n",
    "        num_fits_to_run=1,\n",
    "        num_threads=16,\n",
    "        DE=10,\n",
    "        alpha=0.0005\n",
    ")"
   ]
  },
  {
   "cell_type": "markdown",
   "metadata": {
    "jp-MarkdownHeadingCollapsed": true,
    "tags": []
   },
   "source": [
    "## 2.3.6 Implementation in MBX"
   ]
  },
  {
   "cell_type": "code",
   "execution_count": null,
   "metadata": {},
   "outputs": [],
   "source": [
    "add_PIP_to_MBX(\n",
    "        paths.MBX,\n",
    "        definition_CH3NH2,\n",
    "        [\"ch3nh2\"],\n",
    "        paths.PIP_CH3NH2.PIP.parameterizer,\n",
    "        paths.PIP_CH3NH2.PIP.parametrization,\n",
    "        max_degree=pip_1b_max_order,\n",
    "        workdir=paths.scratch.fitting_CH3NH2,\n",
    ")"
   ]
  },
  {
   "cell_type": "code",
   "execution_count": null,
   "metadata": {},
   "outputs": [],
   "source": [
    "compile_mbx(\n",
    "        paths.MBX,\n",
    "        configure_arguments=[\n",
    "                \"CXX=icpc\",\n",
    "                \"CC=icc\",\n",
    "                \"--disable-optimization\"\n",
    "        ],\n",
    "        configure=True,\n",
    "        clean=False,\n",
    "        num_threads=4\n",
    ")"
   ]
  },
  {
   "cell_type": "markdown",
   "metadata": {
    "jp-MarkdownHeadingCollapsed": true,
    "tags": []
   },
   "source": [
    "## 2.3.7 Correlation & Validation"
   ]
  },
  {
   "cell_type": "code",
   "execution_count": null,
   "metadata": {},
   "outputs": [],
   "source": [
    "predicted_energies_vibrational_modes_CH3NH2 = calculate_MBX_nmer_energies(\n",
    "        paths.MBX,\n",
    "        definition_CH3NH2,\n",
    "        configurations_vibrational_modes_CH3NH2,\n",
    "        monomer_names=[\"ch3nh2\"],\n",
    "        scratch_dir=paths.scratch.fitting_CH3NH2\n",
    ")"
   ]
  },
  {
   "cell_type": "code",
   "execution_count": null,
   "metadata": {},
   "outputs": [],
   "source": [
    "predicted_energies_pbmetad_CH3NH2 = calculate_MBX_nmer_energies(\n",
    "        paths.MBX,\n",
    "        definition_CH3NH2,\n",
    "        pbmetad_configs_CH3NH2,\n",
    "        monomer_names=[\"ch3nh2\"],\n",
    "        scratch_dir=paths.scratch.fitting_CH3NH2\n",
    ")"
   ]
  },
  {
   "cell_type": "code",
   "execution_count": null,
   "metadata": {},
   "outputs": [],
   "source": [
    "mbx_opt_CH3NH2_energy = calculate_MBX_energy(\n",
    "        paths.MBX,\n",
    "        definition_CH3NH2,\n",
    "        minimized_structure_CH3NH2,\n",
    "        monomer_names=[\"ch3nh2\"],\n",
    "        scratch_dir=paths.scratch.fitting_CH3NH2\n",
    ")"
   ]
  },
  {
   "cell_type": "code",
   "execution_count": null,
   "metadata": {},
   "outputs": [],
   "source": [
    "predicted_energies_1b_vibrational_modes_CH3NH2 = calculate_many_body_energies(\n",
    "    configurations_vibrational_modes_CH3NH2,\n",
    "    predicted_energies_vibrational_modes_CH3NH2,\n",
    "    minimized_monomer_energies=[mbx_opt_CH3NH2_energy]\n",
    ")\n",
    "\n",
    "predicted_energies_1b_pbmetad_CH3NH2 = calculate_many_body_energies(\n",
    "    pbmetad_configs_CH3NH2,\n",
    "    predicted_energies_pbmetad_CH3NH2,\n",
    "    minimized_monomer_energies=[mbx_opt_CH3NH2_energy]\n",
    ")"
   ]
  },
  {
   "cell_type": "code",
   "execution_count": null,
   "metadata": {},
   "outputs": [],
   "source": [
    "plot_correlation(\n",
    "    configurations_vibrational_modes_CH3NH2,\n",
    "    energies_1b_vibrational_modes_CH3NH2,\n",
    "    \"MP2\",\n",
    "    {\"MBX\": predicted_energies_1b_vibrational_modes_CH3NH2},\n",
    "    error_width=1.0\n",
    ")"
   ]
  },
  {
   "cell_type": "code",
   "execution_count": null,
   "metadata": {},
   "outputs": [],
   "source": [
    "plot_correlation(\n",
    "    configurations_vibrational_modes_CH3NH2,\n",
    "    energies_1b_vibrational_modes_CH3NH2,\n",
    "    \"MP2\",\n",
    "    {\"MBX\": predicted_energies_1b_vibrational_modes_CH3NH2},\n",
    "    minE=-1,\n",
    "    maxE=10,\n",
    "    error_width=1.0\n",
    ")"
   ]
  },
  {
   "cell_type": "code",
   "execution_count": null,
   "metadata": {},
   "outputs": [],
   "source": [
    "plot_correlation(\n",
    "    pbmetad_configs_CH3NH2,\n",
    "    energies_1b_pbmetad_CH3NH2,\n",
    "    \"MP2\",\n",
    "    {\"MBX\": predicted_energies_1b_pbmetad_CH3NH2},\n",
    "    error_width=10.0\n",
    ")"
   ]
  },
  {
   "cell_type": "code",
   "execution_count": null,
   "metadata": {},
   "outputs": [],
   "source": []
  }
 ],
 "metadata": {
  "kernelspec": {
   "display_name": "Python 3 (ipykernel)",
   "language": "python",
   "name": "python3"
  },
  "language_info": {
   "codemirror_mode": {
    "name": "ipython",
    "version": 3
   },
   "file_extension": ".py",
   "mimetype": "text/x-python",
   "name": "python",
   "nbconvert_exporter": "python",
   "pygments_lexer": "ipython3",
   "version": "3.10.10"
  }
 },
 "nbformat": 4,
 "nbformat_minor": 4
}
