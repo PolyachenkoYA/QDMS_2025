{
 "cells": [
  {
   "cell_type": "markdown",
   "id": "da3fa040-e12e-41fd-a01e-f81302b53c98",
   "metadata": {},
   "source": [
    "# <center> $V_{MB-nrg} = V_{phys} + V_{PIP}$ </center>"
   ]
  },
  {
   "cell_type": "markdown",
   "id": "69782e7a-b1a8-45f2-ba07-bd4d35e0a262",
   "metadata": {},
   "source": [
    "# <center> $V_{phys} = V_{disp} + V_{elec}$ </center>"
   ]
  },
  {
   "cell_type": "markdown",
   "id": "0046fa33-f702-4baa-87c2-4d0b681ff4c9",
   "metadata": {},
   "source": [
    "# <center> $    V_{\\mathrm{disp}} = \n",
    "    \\sum_{{i<j}}^{N}\n",
    "    -\\Delta_{ij}f(\\mathrm{d}_{6, ij},R_{ij}) \\frac{C_{6,ij}}{R^6_{ij}}$ </center>"
   ]
  },
  {
   "cell_type": "markdown",
   "id": "260a6f60-cc00-4e0a-807a-adbdd43ebcd7",
   "metadata": {},
   "source": [
    "# <center> $V_{elec} = V_{qq} + V_{q\\mu} + V_{\\mu\\mu} + V_{pol}$ </center>"
   ]
  },
  {
   "cell_type": "markdown",
   "id": "ac6de016-35f6-492d-bca4-43e51a45f533",
   "metadata": {},
   "source": [
    "# <center> $V_{qq}\n",
    "=\n",
    "\\frac{1}{2}\\sum_i\n",
    "q_i\n",
    "P_{perm, i}$ </center>"
   ]
  },
  {
   "cell_type": "markdown",
   "id": "9b0570f6-84c6-4b74-9c5b-84d185d5cfba",
   "metadata": {},
   "source": [
    "# <center> $V_{elec} = V_{qq} + V_{q\\mu} + V_{\\mu\\mu} + V_{pol}$ </center>"
   ]
  },
  {
   "cell_type": "markdown",
   "id": "eb444beb-f87f-4bab-bfa1-3fe1cd1e7afc",
   "metadata": {},
   "source": [
    "# <center> $V_{elec} = V_{qq} + V_{q\\mu} + V_{\\mu\\mu} + V_{pol}$ </center>"
   ]
  },
  {
   "cell_type": "markdown",
   "id": "14dc2da6-d5f0-4001-a739-77029620fe7f",
   "metadata": {},
   "source": [
    "# <center> $V_{elec} = V_{qq} + V_{q\\mu} + V_{\\mu\\mu} + V_{pol}$ </center>"
   ]
  },
  {
   "cell_type": "code",
   "execution_count": null,
   "id": "6d57e253-5c29-4385-9437-88127fe33eb2",
   "metadata": {},
   "outputs": [],
   "source": []
  }
 ],
 "metadata": {
  "kernelspec": {
   "display_name": "Python 3 (ipykernel)",
   "language": "python",
   "name": "python3"
  },
  "language_info": {
   "codemirror_mode": {
    "name": "ipython",
    "version": 3
   },
   "file_extension": ".py",
   "mimetype": "text/x-python",
   "name": "python",
   "nbconvert_exporter": "python",
   "pygments_lexer": "ipython3",
   "version": "3.10.10"
  }
 },
 "nbformat": 4,
 "nbformat_minor": 5
}
