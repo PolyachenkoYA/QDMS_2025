{
 "cells": [
  {
   "cell_type": "markdown",
   "id": "4fd445e4-9d9a-4fa3-8ed3-fdb6f211a289",
   "metadata": {
    "tags": []
   },
   "source": [
    "# Tutorial 2.2: V$_{phys}$ Parametrization"
   ]
  },
  {
   "cell_type": "markdown",
   "id": "37422672-a853-479c-a362-64476c191a81",
   "metadata": {},
   "source": [
    "In this section, we show how the $V_{phys}$ part of MB-nrg PEFs are parametrized. $V_{phys}$ is the underlying \"physically-inspired\" baseline consisting of dispersion and electrostatics interactions upon which the many-body polynomials are applied as \"corrections\". As a reminder, $V_{phys}$ has the form:"
   ]
  },
  {
   "cell_type": "markdown",
   "id": "4e0b5219-22e7-4f3b-bbf9-94dc50ee18c8",
   "metadata": {},
   "source": [
    "#### <center> $V_{phys} = V_{disp} + V_{elec}$ </center>"
   ]
  },
  {
   "cell_type": "markdown",
   "id": "7ac547c2-5bee-4982-aae0-034715eb4481",
   "metadata": {},
   "source": [
    "Here, $V_{disp}$ is the disperison energy and $V_{elec}$ is the electrostatics energy. $V_{disp}$ has the form:"
   ]
  },
  {
   "cell_type": "markdown",
   "id": "7a8e5e72-64ab-4fce-87d5-a5eb012b87d4",
   "metadata": {},
   "source": [
    "#### <center> $    V_{\\mathrm{disp}} = \n",
    "    \\sum_{{i<j}}^{N}\n",
    "    -\\Delta_{ij}f(\\mathrm{d}_{6, ij},R_{ij}) \\frac{C_{6,ij}}{R^6_{ij}}$ </center>"
   ]
  },
  {
   "cell_type": "markdown",
   "id": "b88f85b6-60e4-49f8-9be9-9053b19c8b87",
   "metadata": {},
   "source": [
    "where, $R_{ij}$, $C_{6, ij}$, and $d_{6, ij}$ are the distance between atoms, dispersion coefficient, and damping parameter for atom pair $i$, $j$. $f() is the Tang-Toennies damping function of the form:"
   ]
  },
  {
   "cell_type": "markdown",
   "id": "0b80e13f-55e8-49b1-8f21-4676926195ff",
   "metadata": {
    "tags": []
   },
   "source": [
    "#### <center> $\tf(\\mathrm{d}_{6, ij},R_{ij}) = 1 - \\mathrm{exp}(-\\mathrm{b}_{ij}R_{ij})\\sum_{n=0}^6\\frac{(\\mathrm{d}_{6, ij}R_{ij})^n}{n!}\n",
    "$ </center>"
   ]
  },
  {
   "cell_type": "markdown",
   "id": "53fd6126-3d38-455c-8b85-f83720db9111",
   "metadata": {},
   "source": [
    "And $V_{elec}$ has the form:"
   ]
  },
  {
   "cell_type": "markdown",
   "id": "0c302c66-c04a-43d8-a449-7b1e6f3d0335",
   "metadata": {},
   "source": [
    "#### <center> $V_{elec} = V_{qq} + V_{q\\mu} + V_{\\mu\\mu} + V_{pol}$ </center>"
   ]
  },
  {
   "cell_type": "markdown",
   "id": "1fc27bce-75bf-4144-a403-2a4070205447",
   "metadata": {},
   "source": [
    "where these terms are the charge-charge, charge-dipole, dipole-dipole, and polarization energi, respectively."
   ]
  },
  {
   "cell_type": "markdown",
   "id": "dc2d9653-e219-4aa5-b692-b4e7f6824b8c",
   "metadata": {},
   "source": [
    "Entering the expressions for each term in $V_{elec}$ are the atomic charges ($q_i$) polarizabilities ($p_i$), polarizability factors ($\\alpha_i$) and screening parameters."
   ]
  },
  {
   "cell_type": "markdown",
   "id": "8291ef14-7161-4c21-b8d4-25b98f551fa6",
   "metadata": {},
   "source": [
    "Before we can begin constructing our MB-nrg surface, we must calculate all the parameters that enter $V_{phys}$"
   ]
  },
  {
   "cell_type": "markdown",
   "id": "549acef4-2c2f-48cc-aef7-7f2200f4de72",
   "metadata": {
    "jp-MarkdownHeadingCollapsed": true,
    "tags": []
   },
   "source": [
    "## 2.2.0 Definitions and Imports"
   ]
  },
  {
   "cell_type": "markdown",
   "id": "b99279fd-25fa-4af7-9870-74cf777b51b5",
   "metadata": {},
   "source": [
    "Please execute the imports and paths notebooks:"
   ]
  },
  {
   "cell_type": "code",
   "execution_count": null,
   "id": "4cff369a-5074-4250-b179-baeceac3c43c",
   "metadata": {},
   "outputs": [],
   "source": [
    "%run Tutorial_2_Imports.ipynb"
   ]
  },
  {
   "cell_type": "code",
   "execution_count": null,
   "id": "83bb4722-3215-4f14-97e8-df1978d99450",
   "metadata": {},
   "outputs": [],
   "source": [
    "%run Tutorial_2_Paths.ipynb"
   ]
  },
  {
   "cell_type": "markdown",
   "id": "58bf4d4d-2632-4fa6-814b-a0ec21855510",
   "metadata": {
    "jp-MarkdownHeadingCollapsed": true,
    "tags": []
   },
   "source": [
    "## 2.2.1 Polarizabilities and Polarizability Factors."
   ]
  },
  {
   "cell_type": "markdown",
   "id": "1e2e8cd8-5c4a-45ea-837e-af58b72d10ca",
   "metadata": {},
   "source": [
    "All MB-nrg models set the polarizability factors equal to the polarizabilities and calculate them in the following way:\n"
   ]
  },
  {
   "cell_type": "markdown",
   "id": "ca1778fd-3ee0-4d8e-9fc5-5a1e7a1dd901",
   "metadata": {},
   "source": [
    "#### <center> $p_i = \\alpha_i = p^{free}_i  \\frac{v_i}{v^{free}_i} ^ {4/3}$ </center>"
   ]
  },
  {
   "cell_type": "markdown",
   "id": "2b0adf3a-fd00-4cd2-a18a-629cace54ecb",
   "metadata": {},
   "source": [
    "Here, $p^{free}_i$, $v^{free}_i$, and $v_i$ are the free polarizability, free volume, and effective volume for atom $i$. We calculate the free volumes and effective volumes using QChem's implementation of the eXchange-hole Dipole Moment (XDM) model, and the free polarizabilities have been tabulated at the CCSD(T) level."
   ]
  },
  {
   "cell_type": "markdown",
   "id": "8cc68e7f-fee8-4578-90eb-c0cfc27d20aa",
   "metadata": {},
   "source": [
    "We will use the optimized CH$_3$-NH$_2$ structure from the previous notebook as the input structure for XDM, so lets read that in:"
   ]
  },
  {
   "cell_type": "code",
   "execution_count": null,
   "id": "ba1df098-e454-4259-8fff-5781e82c8bd9",
   "metadata": {},
   "outputs": [],
   "source": [
    "definition_CH3NH2 = read_definition(paths.definitions.systems.CH3NH2)\n",
    "minimized_structure_CH3NH2 = read_system(definition_CH3NH2, paths.structures.minimized_CH3NH2)"
   ]
  },
  {
   "cell_type": "markdown",
   "id": "7d2338a5-9a39-4824-8220-1fe73de94215",
   "metadata": {},
   "source": [
    "To run the XDM calculation to calculate the polarizabilities, do the following:"
   ]
  },
  {
   "cell_type": "code",
   "execution_count": null,
   "id": "46edd033-014a-471a-b3f8-e5bc46492816",
   "metadata": {},
   "outputs": [],
   "source": [
    "polarizabilities_CH3NH2 = calculate_polarizabilities_by_XDM(\n",
    "        minimized_structure_CH3NH2,\n",
    "        logs_directory=f\"{paths.logs}\",\n",
    "        restart_path=paths.restart.polarizabilities_CH3NH2,\n",
    "        method=\"wb97m-v\",\n",
    "        basis=\"aug-cc-pVTZ\",\n",
    "        num_threads=16,\n",
    "        mem_mb=32000\n",
    ")"
   ]
  },
  {
   "cell_type": "markdown",
   "id": "fe241e61-07f1-45ff-8398-326e60bc3b67",
   "metadata": {},
   "source": [
    "As is the case for MB-pol and all MB-nrg PEFs, we set the polarizability factors equal to the polarizabilities:"
   ]
  },
  {
   "cell_type": "code",
   "execution_count": null,
   "id": "c639680a-3d83-4bbc-ad01-8f38a05e1611",
   "metadata": {},
   "outputs": [],
   "source": [
    "polarizability_factors_CH3NH2 = polarizabilities_CH3NH2"
   ]
  },
  {
   "cell_type": "markdown",
   "id": "2d2aff2f-5658-4b4f-bb4f-b91f35b4d022",
   "metadata": {},
   "source": [
    "Lets take a look at our polarizabilities (units $Å^3$):"
   ]
  },
  {
   "cell_type": "code",
   "execution_count": null,
   "id": "81b47c43-e017-49bd-9427-28decb7b61df",
   "metadata": {},
   "outputs": [],
   "source": [
    "print(polarizabilities_CH3NH2)\n",
    "print(polarizability_factors_CH3NH2)"
   ]
  },
  {
   "cell_type": "markdown",
   "id": "783a6687-380b-4aa5-b650-91d46a780327",
   "metadata": {},
   "source": [
    "For water, we will use the polarizabilities of MB-pol. This is required if we want our new PEF to be \"compatible\" with MB-pol:"
   ]
  },
  {
   "cell_type": "code",
   "execution_count": null,
   "id": "d3a4dd80-dba7-4bf9-b1c7-62af82f14bc0",
   "metadata": {},
   "outputs": [],
   "source": [
    "polarizabilities_H2O = {\n",
    "    \"E\": 1.310,\n",
    "    \"F\": 0.294\n",
    "}\n",
    "polarizability_factors_H2O = {\n",
    "    \"E\": 1.310,\n",
    "    \"F\": 0.294\n",
    "}"
   ]
  },
  {
   "cell_type": "markdown",
   "id": "45a6c0a8-e14c-46c9-aa17-1813bb4b39a5",
   "metadata": {},
   "source": [
    "Lets save the polarizabilities to a file:"
   ]
  },
  {
   "cell_type": "code",
   "execution_count": null,
   "id": "12cf4bc6-00af-49ef-8803-17ee465a899e",
   "metadata": {},
   "outputs": [],
   "source": [
    "write_parameters(paths.Vphys.polarizabilities, {**polarizabilities_CH3NH2, **polarizabilities_H2O})\n",
    "write_parameters(paths.Vphys.polarizability_factors, {**polarizability_factors_CH3NH2, **polarizability_factors_H2O})"
   ]
  },
  {
   "cell_type": "markdown",
   "id": "3161e7f6-708e-4cb8-8a9d-ff86bc0cab0c",
   "metadata": {
    "jp-MarkdownHeadingCollapsed": true,
    "tags": []
   },
   "source": [
    "## 2.2.2 Atomic Radii"
   ]
  },
  {
   "cell_type": "markdown",
   "id": "fadbc412-84ea-415d-b735-d79b4d8bb906",
   "metadata": {},
   "source": [
    "Next we will calculate the atomic radii. While not directly needed for the PEF, the atomic radii will be used in the calculation of the dispersion damping factors, and to choose the grid points that we will use to parametrize the charges."
   ]
  },
  {
   "cell_type": "markdown",
   "id": "b6c5503f-5641-4eac-a110-2b404a231197",
   "metadata": {},
   "source": [
    "We also use XDM to calculate the radii. XDM gives us an effective volume ($v_i$) for each atom from which we can compute a radius ($r_i$), assuming that the volume is a perfect sphere:"
   ]
  },
  {
   "cell_type": "markdown",
   "id": "3d34a924-aa53-4ae6-941c-67887ce650a9",
   "metadata": {},
   "source": [
    "#### <center> $ r_i = \\frac{3 v_i}{4 \\pi}^\\frac{1}{3} $ </center>"
   ]
  },
  {
   "cell_type": "code",
   "execution_count": null,
   "id": "4d425d51-8240-47e4-9ac8-cb96a15abf96",
   "metadata": {
    "tags": []
   },
   "outputs": [],
   "source": [
    "radii_CH3NH2 = calculate_radii_by_XDM(\n",
    "        minimized_structure_CH3NH2,\n",
    "        logs_directory=f\"{paths.logs}\",\n",
    "        restart_path=paths.restart.radii_CH3NH2,\n",
    "        method=\"wb97m-v\",\n",
    "        basis=\"aug-cc-pVTZ\",\n",
    "        num_threads=16,\n",
    "        mem_mb=32000\n",
    ")"
   ]
  },
  {
   "cell_type": "markdown",
   "id": "fa0b2519-f16f-4733-a58d-be0813c9010e",
   "metadata": {},
   "source": [
    "Here are our radii (units $Å$):"
   ]
  },
  {
   "cell_type": "code",
   "execution_count": null,
   "id": "8cb0d5d6-d332-4850-8db0-26e124b15d1f",
   "metadata": {},
   "outputs": [],
   "source": [
    "radii_CH3NH2"
   ]
  },
  {
   "cell_type": "markdown",
   "id": "4789c74f-2a1c-4896-9157-4125e8ef29a8",
   "metadata": {},
   "source": [
    "We will also need radii for water to calculate the damping factors for the methylamine - water interaction."
   ]
  },
  {
   "cell_type": "markdown",
   "id": "96c7335b-1792-4b26-ae17-d8f171e41d9d",
   "metadata": {},
   "source": [
    "Read in the optimized water structure from the previous notebook:"
   ]
  },
  {
   "cell_type": "code",
   "execution_count": null,
   "id": "08e911a3-51df-4a9d-9ba9-785bb4af2504",
   "metadata": {},
   "outputs": [],
   "source": [
    "definition_H2O = read_definition(paths.definitions.systems.H2O)\n",
    "minimized_structure_H2O = read_system(definition_H2O, paths.structures.minimized_H2O)"
   ]
  },
  {
   "cell_type": "markdown",
   "id": "a2b64d54-d991-41eb-b46b-bbab694c6ebd",
   "metadata": {},
   "source": [
    "And calculate the radii:"
   ]
  },
  {
   "cell_type": "code",
   "execution_count": null,
   "id": "45588d3d-70c8-40db-bbc8-e2237b95a541",
   "metadata": {
    "tags": []
   },
   "outputs": [],
   "source": [
    "radii_H2O = calculate_radii_by_XDM(\n",
    "        minimized_structure_H2O,\n",
    "        logs_directory=f\"{paths.logs}\",\n",
    "        restart_path=paths.restart.radii_H2O,\n",
    "        method=\"wb97m-v\",\n",
    "        basis=\"aug-cc-pVTZ\",\n",
    "        num_threads=16,\n",
    "        mem_mb=32000,\n",
    ")"
   ]
  },
  {
   "cell_type": "code",
   "execution_count": null,
   "id": "24b29d1e-6dc0-478a-88f6-c7f6f1abf74d",
   "metadata": {},
   "outputs": [],
   "source": [
    "radii_H2O"
   ]
  },
  {
   "cell_type": "markdown",
   "id": "85dcca46-e801-4779-870c-54ef08381e6d",
   "metadata": {},
   "source": [
    "Save them to a file:"
   ]
  },
  {
   "cell_type": "code",
   "execution_count": null,
   "id": "c9b4309c-d2a1-4657-98d4-89532ecdbb23",
   "metadata": {},
   "outputs": [],
   "source": [
    "write_parameters(paths.Vphys.radii, {**radii_CH3NH2, **radii_H2O})"
   ]
  },
  {
   "cell_type": "markdown",
   "id": "ffa0e7e2-f490-455e-8088-2ee8bb2a3825",
   "metadata": {
    "jp-MarkdownHeadingCollapsed": true,
    "tags": []
   },
   "source": [
    "## 2.2.3 Atomic Partial Charges."
   ]
  },
  {
   "cell_type": "markdown",
   "id": "1422fd95-cf27-49fa-b391-8d5b85b54455",
   "metadata": {},
   "source": [
    "Previous MB-nrg models have used a variety of methods to calculate the atomic partial charges. MB-pol uses the Partridge-Schwenke geometry-dependent atomic partial charges. Other models have used either Charge Model 5 (cite) or CHELPG (cite). The most recent generation of models has used charges fit to reproduce a monomer's multipole moments using an approach similar to the Stewart fitting appraoch. However, we have recently developed a new apprach based on CHELPG that we feel provides the most useful model of a monomer's charge for our purposes. "
   ]
  },
  {
   "cell_type": "markdown",
   "id": "6c30b7db-bcdc-4200-a008-30402ac3d9a5",
   "metadata": {},
   "source": [
    "We will fit the partial charges of methylamine to reproduce the electrostatic potential on a number of grid points. However unlike CHELPG, which uses grid points very close to the monomer's electron density (usually within 4 $Å$ of the nucleii), we will fit to points quite far away from the electron density. The justification for this is that since we will have the many-body polynomials to correct at short-range, so it is most important that our electrostatics model reproduces long-range interactions. We will fit to grid points that are between 9 and 11 $Å$ past the edge of the electron density of our monomer."
   ]
  },
  {
   "cell_type": "markdown",
   "id": "f37e3504-cd91-4a03-b9b9-f62e1c429fc2",
   "metadata": {},
   "source": [
    "We will fit the charges by minimizing the squared error in the electrostatic potential at each grid point with respect to $q_i$:"
   ]
  },
  {
   "cell_type": "markdown",
   "id": "ed970df4-e148-4504-b387-500bc5bf8ad9",
   "metadata": {},
   "source": [
    "#### <center> $ \\sum_{n = 1}^N \\sum_{j=1}^{J_n} (P_{ref, n}(j) - P_{pred, n}(j, q_i))^2 $ </center>"
   ]
  },
  {
   "cell_type": "markdown",
   "id": "30c1e00f-e930-45e4-9639-a23685cb1d37",
   "metadata": {},
   "source": [
    "where $P_{ref, n}(j)$ gives the reference ESP at the jth grid point of geometry n, and $P_{pred, n}(j, q_i)$ gives the predicted ESP at the same site."
   ]
  },
  {
   "cell_type": "markdown",
   "id": "2ea2d5ad-19c0-41e6-b7af-e5a330f50faa",
   "metadata": {},
   "source": [
    "Before we can fit, we need to generate the $N$ configurations whose ESP we will fit on. We can do this using MB-Fit's normal modes configuration generator. First, read in the normal modes for the optimized methylamine geometry we calculated earlier:"
   ]
  },
  {
   "cell_type": "code",
   "execution_count": null,
   "id": "576e9fcc-844a-4ab2-bf65-8f9de08f6468",
   "metadata": {
    "tags": []
   },
   "outputs": [],
   "source": [
    "vibrational_modes_CH3NH2 = read_vibrational_modes(paths.structures.vibrational_modes_CH3NH2)"
   ]
  },
  {
   "cell_type": "markdown",
   "id": "a4ac7ec0-490b-40d3-942b-a1186a9d728c",
   "metadata": {},
   "source": [
    "Then, lets get 25 geometries from the normal modes configuration generator:"
   ]
  },
  {
   "cell_type": "code",
   "execution_count": null,
   "id": "1c3faaeb-cbd2-4203-a4f1-7229c6827be9",
   "metadata": {},
   "outputs": [],
   "source": [
    "configuration_generator = NormalModesConfigurationGenerator(\n",
    "        minimized_structure_CH3NH2,\n",
    "        vibrational_modes_CH3NH2,\n",
    "        classical=False,\n",
    "        distribution=\"constant\",\n",
    "        temperature=1000\n",
    ")\n",
    "charge_parametrization_configurations_CH3NH2 = list(configuration_generator.generate_configurations(num_configs=25, seed=12345))\n",
    "write_systems(paths.Vphys.charge_configs_CH3NH2, charge_parametrization_configurations_CH3NH2)"
   ]
  },
  {
   "cell_type": "markdown",
   "id": "ac8278a5-c600-40cc-9401-e03efacd474a",
   "metadata": {},
   "source": [
    "As we can see, the normal modes configuration generator has produced a bunch of geometries around the minimum structure:"
   ]
  },
  {
   "cell_type": "code",
   "execution_count": null,
   "id": "0760b962-048e-426a-9aa3-a77e4614e209",
   "metadata": {},
   "outputs": [],
   "source": [
    "render_overlayed_systems(\n",
    "    systems=charge_parametrization_configurations_CH3NH2,\n",
    "    centerer=lambda system: system.atoms[0].point,\n",
    "    aligner=lambda system: (system.atoms[4].point, system.atoms[3].point),\n",
    "    alpha=0.05\n",
    ")"
   ]
  },
  {
   "cell_type": "markdown",
   "id": "3787a182-1513-46f2-8503-53e85f85004e",
   "metadata": {},
   "source": [
    "First, we calculate the grid points that we will fit the ESP on. Here, we take grid points that are between 9.0 + atomic_radius and 11.0 + atomic_radius distance from the nucleii:"
   ]
  },
  {
   "cell_type": "code",
   "execution_count": null,
   "id": "5dfdb6ab-6f6b-46e9-9190-dc0a5cb9a043",
   "metadata": {},
   "outputs": [],
   "source": [
    "grid_points, grid_point_weights = get_ESP_grid_points(\n",
    "        charge_parametrization_configurations_CH3NH2,\n",
    "        atomic_radii=radii_CH3NH2,\n",
    "        grid_radii=[9.0, 10.0, 11.0]\n",
    ")"
   ]
  },
  {
   "cell_type": "markdown",
   "id": "f4742b88-08a7-44f0-a081-661a232050a8",
   "metadata": {},
   "source": [
    "Now, we calculate the ESP at the grid points using electronic structure theory. We usually use wB97M-V/aug-cc-pVTZ, since this functional provides a good description of the density:"
   ]
  },
  {
   "cell_type": "code",
   "execution_count": null,
   "id": "ec3f4c04-d3ce-4986-9b60-90804e0804f7",
   "metadata": {},
   "outputs": [],
   "source": [
    "esp_at_grid_points = calculate_ESP_at_grid_points(\n",
    "        charge_parametrization_configurations_CH3NH2,\n",
    "        grid_points,\n",
    "        esp_scratch_dir=paths.scratch.esp_CH3NH2,\n",
    "        restart_path=paths.restart.esp_CH3NH2,\n",
    "        method=\"wB97M-V\",\n",
    "        basis=\"aug-cc-pVTZ\",\n",
    "        num_threads=16,\n",
    "        mem_mb=32000\n",
    ")"
   ]
  },
  {
   "cell_type": "markdown",
   "id": "dabd2669-e36c-4542-abf7-54f99b6e8306",
   "metadata": {},
   "source": [
    "Finally, fit the charges to reproduce the ESP:"
   ]
  },
  {
   "cell_type": "code",
   "execution_count": null,
   "id": "7a205c57-1705-4857-8051-f017833200e8",
   "metadata": {},
   "outputs": [],
   "source": [
    "charges_CH3NH2 = fit_charges_to_ESP(\n",
    "        definition_CH3NH2,\n",
    "        charge_parametrization_configurations_CH3NH2,\n",
    "        grid_points=grid_points,\n",
    "        grid_point_weights=grid_point_weights,\n",
    "        grid_point_reference_values=esp_at_grid_points,\n",
    "        restart_path=paths.restart.charge_fitting_CH3NH2,\n",
    "        formal_charge=0.0,\n",
    "    \n",
    ")"
   ]
  },
  {
   "cell_type": "code",
   "execution_count": null,
   "id": "82a79460-a96c-40c3-a4df-f5c093c0eeb3",
   "metadata": {},
   "outputs": [],
   "source": [
    "charges_CH3NH2"
   ]
  },
  {
   "cell_type": "markdown",
   "id": "847dc03a-a5f7-4cf9-85f4-ef944af6d8c8",
   "metadata": {},
   "source": [
    "Note that these charges may not be what one would predict - for example, its a bit strange to see a + charge on carbon (symmetry 'A'). However, we are interested less in accurately modelling the electron density and more in predicting long-range electrostatic interactions, so this is OK."
   ]
  },
  {
   "cell_type": "markdown",
   "id": "a82cf633-34e5-418f-a339-21cc259583ff",
   "metadata": {},
   "source": [
    "Save the parameters to a file:"
   ]
  },
  {
   "cell_type": "code",
   "execution_count": null,
   "id": "df1f7674-8c65-4c84-ae4f-ae14e2a388e0",
   "metadata": {},
   "outputs": [],
   "source": [
    "write_parameters(paths.Vphys.charges, charges_CH3NH2)"
   ]
  },
  {
   "cell_type": "markdown",
   "id": "3db8734e-7c75-484c-91ae-c030f2b5539d",
   "metadata": {
    "jp-MarkdownHeadingCollapsed": true,
    "tags": []
   },
   "source": [
    "## 2.2.4 Dispersion Parameters"
   ]
  },
  {
   "cell_type": "markdown",
   "id": "66f5bbad-a833-498b-b1d6-3adb4506286b",
   "metadata": {},
   "source": [
    "Next, we will calculate the dispersion coefficients ($C_{6, ij}$) and damping parameters ($d^6_{ij}$)."
   ]
  },
  {
   "cell_type": "markdown",
   "id": "891827ab-d395-495b-93f1-6ca93b5de9aa",
   "metadata": {},
   "source": [
    "The $C_{6, ij}$ are computed directly by XDM, see [QChem's documentation about the XDM module](https://manual.q-chem.com/5.4/sect_XDM.html) for more info about how."
   ]
  },
  {
   "cell_type": "markdown",
   "id": "d0624d6b-c370-433d-9110-d7bf32147b21",
   "metadata": {},
   "source": [
    "To run the XDM calculation for the methylamine-water C6, do:"
   ]
  },
  {
   "cell_type": "code",
   "execution_count": null,
   "id": "8786c75e-7e70-4720-8bc1-e2d2432a2c93",
   "metadata": {},
   "outputs": [],
   "source": [
    "C6_CH3NH2_H2O = calculate_C6_by_XDM(\n",
    "        minimized_structure_CH3NH2,\n",
    "        minimized_structure_H2O,\n",
    "        paths.logs,\n",
    "        paths.restart.dispersion_CH3NH2_H2O,\n",
    "        method=\"wb97m-v\",\n",
    "        basis=\"aug-cc-pVTZ\",\n",
    "        num_threads=16,\n",
    "        mem_mb=32000\n",
    ")"
   ]
  },
  {
   "cell_type": "markdown",
   "id": "ee0250e1-104a-4a83-8620-c124f2b6f83a",
   "metadata": {},
   "source": [
    "Which produces the C6 parameters (untis $kcal / (mol \\cdot A^6)$):"
   ]
  },
  {
   "cell_type": "code",
   "execution_count": null,
   "id": "bfc23540-5711-4b53-ba9e-3c4fcf3f4d27",
   "metadata": {},
   "outputs": [],
   "source": [
    "C6_CH3NH2_H2O"
   ]
  },
  {
   "cell_type": "markdown",
   "id": "e351a4ee-ecf9-4ea6-bb35-e7279aa33da6",
   "metadata": {},
   "source": [
    "We will also need to calcualte the CH3NH2 -- CH3NH2 dispersion parameters. While we are only seeking to model a single CH3NH2 in water for now, we still need to calculate the self-interaciton C6 to get the \"long-range\" C6 used by the reciprocal space part of the dispersion."
   ]
  },
  {
   "cell_type": "code",
   "execution_count": null,
   "id": "ed1229bd-edb8-4db4-85b2-fae27b39fd66",
   "metadata": {},
   "outputs": [],
   "source": [
    "C6_CH3NH2_CH3NH2 = calculate_C6_by_XDM(\n",
    "        minimized_structure_CH3NH2,\n",
    "        minimized_structure_CH3NH2,\n",
    "        paths.logs,\n",
    "        paths.restart.dispersion_CH3NH2_CH3NH2,\n",
    "        method=\"wb97m-v\",\n",
    "        basis=\"aug-cc-pVTZ\",\n",
    "        num_threads=16,\n",
    "        mem_mb=32000\n",
    ")"
   ]
  },
  {
   "cell_type": "markdown",
   "id": "f8aa9b71-d11c-42a8-85d2-410e04a37051",
   "metadata": {},
   "source": [
    "Which produces:"
   ]
  },
  {
   "cell_type": "code",
   "execution_count": null,
   "id": "9d2d7efe-d709-458e-9570-54bf6907a04d",
   "metadata": {},
   "outputs": [],
   "source": [
    "C6_CH3NH2_CH3NH2"
   ]
  },
  {
   "cell_type": "markdown",
   "id": "a70afc1d-7be8-449d-9af9-bbba6bd0e813",
   "metadata": {},
   "source": [
    "We will take the water -- water C6 from MB-pol:"
   ]
  },
  {
   "cell_type": "code",
   "execution_count": null,
   "id": "767e0e52-0492-4f0c-b0f5-e59ad064a3de",
   "metadata": {},
   "outputs": [],
   "source": [
    "C6_H2O_H2O = {\n",
    "    (\"E\", \"E\"): 2.373212214147944e+02,\n",
    "    (\"E\", \"F\"): 8.349556669872743e+01,\n",
    "    (\"F\", \"F\"): 2.009358600184719e+01,\n",
    "}"
   ]
  },
  {
   "cell_type": "markdown",
   "id": "c66b207e-1583-42d3-91f7-229b07489123",
   "metadata": {},
   "source": [
    "Save the C6 parameters to a file:"
   ]
  },
  {
   "cell_type": "code",
   "execution_count": null,
   "id": "7046cc8f-5788-4b56-a65c-3abddc450a02",
   "metadata": {},
   "outputs": [],
   "source": [
    "write_parameters(paths.Vphys.C6, {**C6_CH3NH2_H2O, **C6_CH3NH2_CH3NH2, **C6_H2O_H2O})"
   ]
  },
  {
   "cell_type": "markdown",
   "id": "1210c5f7-f007-4814-ad14-f688a07d28d6",
   "metadata": {},
   "source": [
    "Now we move on to the disperison damping parameters $d_{6, ij}$"
   ]
  },
  {
   "cell_type": "markdown",
   "id": "68c76e67-12ef-4ad5-b369-02dd14dbb41f",
   "metadata": {},
   "source": [
    "The damping parameters are chosen so that the dispersion is exactly half on at a distance equal to the sum of the two atom's atomic radii ($r_i + r_j$). This is done by solving the following equation for ${d}_{6, ij}$:"
   ]
  },
  {
   "cell_type": "markdown",
   "id": "e4dd3dde-51ed-446b-af61-f3c28f12528f",
   "metadata": {},
   "source": [
    "#### <center> $ \\frac{1}{2} = f({d}_{6, ij}, r_i + r_j) $ </center>"
   ]
  },
  {
   "cell_type": "markdown",
   "id": "64f2f9fe-0311-40db-9d8f-0d061859b8f6",
   "metadata": {},
   "source": [
    "We calculated the radii earlier, call the following function to solve the above equation for ${d}_{6, ij}$:"
   ]
  },
  {
   "cell_type": "code",
   "execution_count": null,
   "id": "db119180-7208-4fff-988b-b2b5e2a21126",
   "metadata": {},
   "outputs": [],
   "source": [
    "d6_CH3NH2_H2O = calculate_d6_from_radii(\n",
    "        radii1=radii_CH3NH2,\n",
    "        radii2=radii_H2O,\n",
    "        damping_at_radii_sum=0.5\n",
    ")"
   ]
  },
  {
   "cell_type": "markdown",
   "id": "c2cf5225-9421-44bd-a13b-78b6fdfe3f63",
   "metadata": {},
   "source": [
    "Here are the calculated damping parameters (units $A^{-1}$):"
   ]
  },
  {
   "cell_type": "code",
   "execution_count": null,
   "id": "9599267a-0f4e-4b93-9f9a-850e306f4b91",
   "metadata": {},
   "outputs": [],
   "source": [
    "d6_CH3NH2_H2O"
   ]
  },
  {
   "cell_type": "markdown",
   "id": "0b6d1104-bbe1-467e-9e89-2998047abb9c",
   "metadata": {},
   "source": [
    "And again for the CH3NH2 -- CH3NH2 damping parameters:"
   ]
  },
  {
   "cell_type": "code",
   "execution_count": null,
   "id": "8408e309-423f-40e9-83ce-9aedd05d8d76",
   "metadata": {},
   "outputs": [],
   "source": [
    "d6_CH3NH2_CH3NH2 = calculate_d6_from_radii(\n",
    "        radii1=radii_CH3NH2,\n",
    "        radii2=radii_CH3NH2,\n",
    "        damping_at_radii_sum=0.5\n",
    ")"
   ]
  },
  {
   "cell_type": "code",
   "execution_count": null,
   "id": "d2061249-6ba9-49c0-9af3-eac0e1752620",
   "metadata": {},
   "outputs": [],
   "source": [
    "d6_CH3NH2_CH3NH2"
   ]
  },
  {
   "cell_type": "markdown",
   "id": "74f4c284-3993-44a4-af52-72df2791b21a",
   "metadata": {},
   "source": [
    "We take the water -- water d6 from MB-pol"
   ]
  },
  {
   "cell_type": "code",
   "execution_count": null,
   "id": "47a2387b-90e4-47b3-9ecb-91e1649a3cc1",
   "metadata": {},
   "outputs": [],
   "source": [
    "d6_H2O_H2O = {\n",
    "    (\"E\", \"E\"): 9.295485815062264e+00,\n",
    "    (\"E\", \"F\"): 9.775202425217957e+00,\n",
    "    (\"F\", \"F\"): 9.406475169954112e+00,\n",
    "}"
   ]
  },
  {
   "cell_type": "code",
   "execution_count": null,
   "id": "e6824fb0-0e4e-4f5c-b4d9-60f19fa3e34a",
   "metadata": {},
   "outputs": [],
   "source": [
    "write_parameters(paths.Vphys.d6, {**d6_CH3NH2_H2O, **d6_CH3NH2_CH3NH2, **d6_H2O_H2O})"
   ]
  },
  {
   "cell_type": "markdown",
   "id": "a10365d8-f90a-4709-90b5-7c2df9225d2d",
   "metadata": {
    "jp-MarkdownHeadingCollapsed": true,
    "tags": []
   },
   "source": [
    "## 2.2.5 Screening Parameters"
   ]
  },
  {
   "cell_type": "markdown",
   "id": "dbd44ebc-dff8-4f26-ab54-72b9af9e4da0",
   "metadata": {},
   "source": [
    "The last peice of $V_{phys}$ is the electrostatic screening parameters. MB-nrg PEFs screen the electrostatics at very short range using the Tang-Toennies screening functions."
   ]
  },
  {
   "cell_type": "markdown",
   "id": "d1897b9b-d4a0-46fc-83c0-01ecf50c7e99",
   "metadata": {},
   "source": [
    "The screening for the charge-charge and charge-dipole interactions is always 0.4 (unitless):"
   ]
  },
  {
   "cell_type": "code",
   "execution_count": null,
   "id": "0c3ff16a-7558-448f-8b0f-af7bce948489",
   "metadata": {},
   "outputs": [],
   "source": [
    "aCC = 0.4"
   ]
  },
  {
   "cell_type": "code",
   "execution_count": null,
   "id": "1037f3e6-6aab-4941-a7f8-449de0e48c65",
   "metadata": {},
   "outputs": [],
   "source": [
    "aCD = 0.4"
   ]
  },
  {
   "cell_type": "markdown",
   "id": "e5aab2c4-c1ba-4ec9-a05a-2d1c027e0b68",
   "metadata": {},
   "source": [
    "Additionally, the screening for dipole-dipole non-bonded and 1-4 interactions is always 0.055:"
   ]
  },
  {
   "cell_type": "code",
   "execution_count": null,
   "id": "1d98d849-4f00-4565-ab62-218f633bb6f1",
   "metadata": {},
   "outputs": [],
   "source": [
    "aDD = 0.055\n",
    "aDD14 = 0.055"
   ]
  },
  {
   "cell_type": "markdown",
   "id": "4b6ee40d-b68e-4725-a318-92bb587ec425",
   "metadata": {},
   "source": [
    "The dipole-dipole screening parameters for 1-2 and 1-3 interactions are a bit more complicated. For CH3NH2 -- CH3NH2 and CH3NH2 -- water interactions we use 0.3, and for water -- water interactions we use 0.626 for the 1-2 and 0.055 for the 1-3 interactions. This is to maintain consistence with MB-pol."
   ]
  },
  {
   "cell_type": "code",
   "execution_count": null,
   "id": "f9470c6b-16ee-4496-9749-0af2ec37bd48",
   "metadata": {},
   "outputs": [],
   "source": [
    "\n",
    "all_symmetries = [\"A\", \"B\", \"C\", \"D\", \"E\", \"F\"]\n",
    "\n",
    "aDD12 = {tuple(sorted([symmetry1, symmetry2])): 0.3 for symmetry1, symmetry2 in itertools.combinations_with_replacement(all_symmetries, r=2)}\n",
    "aDD12[(\"E\", \"E\")] = 0.626\n",
    "aDD12[(\"E\", \"F\")] = 0.626\n",
    "aDD12[(\"F\", \"F\")] = 0.626\n",
    "\n",
    "aDD13 = {tuple(sorted([symmetry1, symmetry2])): 0.3 for symmetry1, symmetry2 in itertools.combinations_with_replacement(all_symmetries, r=2)}\n",
    "aDD13[(\"E\", \"E\")] = 0.055\n",
    "aDD13[(\"E\", \"F\")] = 0.055\n",
    "aDD13[(\"F\", \"F\")] = 0.055"
   ]
  },
  {
   "cell_type": "markdown",
   "id": "94ff9d9c-4585-4599-b41a-b8e43213f650",
   "metadata": {
    "jp-MarkdownHeadingCollapsed": true,
    "tags": []
   },
   "source": [
    "## 2.2.6 Validation of $V_{phys}$ Parametrization"
   ]
  },
  {
   "cell_type": "markdown",
   "id": "ec26eedd-be19-4724-915b-59bdae840e1d",
   "metadata": {},
   "source": [
    "Great, we have our $V_{phys}$ parameters. To get a sense of the baseline we will add our many-body PIPs to, lets compare it to the electronic structure calculations we did earlier."
   ]
  },
  {
   "cell_type": "markdown",
   "id": "97e308ac-7284-4c1a-b806-e52343cd9d56",
   "metadata": {},
   "source": [
    "Since our monomers are small enough that everything is excluded, there is no $V_{phys}$ contribution at the 1-body level, so there is nothing interesting to see there. We will jump straight to the 2-body."
   ]
  },
  {
   "cell_type": "code",
   "execution_count": null,
   "id": "9776c70e-e3b6-48d7-b9e6-f9fe6108ef08",
   "metadata": {},
   "outputs": [],
   "source": [
    "definition_CH3NH2_H2O = read_definition(paths.definitions.systems.CH3NH2_H2O)"
   ]
  },
  {
   "cell_type": "markdown",
   "id": "d108c767-82f5-4b51-951b-2fc620d5405a",
   "metadata": {},
   "source": [
    "Lets read in the first 2-body scan and calcualte the energy contribution from $V_{phys}$:"
   ]
  },
  {
   "cell_type": "code",
   "execution_count": null,
   "id": "70fa0e23-24f4-480e-ac6e-eac9d5c02622",
   "metadata": {
    "tags": []
   },
   "outputs": [],
   "source": [
    "scan_CH3NH2_H2O_1, scan_CH3NH2_H2O_1_energies = read_systems_and_nmer_energies(definition_CH3NH2_H2O, paths.scans.CH3NH2_H2O.first_energies)\n",
    "scan_CH3NH2_H2O_1_2b_energies = calculate_many_body_energies(scan_CH3NH2_H2O_1, scan_CH3NH2_H2O_1_energies)\n",
    "\n",
    "scan_CH3NH2_H2O_1_Vphys_energies = calculate_Vphys_nmer_energies(\n",
    "    definition_CH3NH2_H2O,\n",
    "    scan_CH3NH2_H2O_1,\n",
    "    symmetry_to_charge=charges_CH3NH2,\n",
    "    symmetry_to_polarizability={**polarizabilities_CH3NH2, **polarizabilities_H2O},\n",
    "    symmetry_to_polarizability_factor={**polarizability_factors_CH3NH2, **polarizability_factors_H2O},\n",
    "    symmetries_to_C6=C6_CH3NH2_H2O,\n",
    "    symmetries_to_d6=d6_CH3NH2_H2O,\n",
    "    mbpol_monomers=[False, True], # special flag to enable MB-pol geometry-dependent charges for the water molecule,\n",
    "    aCC=aCC,\n",
    "    aCD=aCD,\n",
    "    aDD=aDD,\n",
    "    aDD12=aDD12,\n",
    "    aDD13=aDD13,\n",
    "    aDD14=aDD14,\n",
    ")\n",
    "\n",
    "scan_CH3NH2_H2O_1_Vphys_2b_energies = calculate_many_body_energies(scan_CH3NH2_H2O_1, scan_CH3NH2_H2O_1_Vphys_energies)"
   ]
  },
  {
   "cell_type": "markdown",
   "id": "85d990fb-7dcf-448f-94a0-6905a61e0fe4",
   "metadata": {},
   "source": [
    "And then plot:"
   ]
  },
  {
   "cell_type": "code",
   "execution_count": null,
   "id": "f0bbe081-0c18-447c-8ed2-a60890c27aa1",
   "metadata": {},
   "outputs": [],
   "source": [
    "plot_scan(\n",
    "        scan_CH3NH2_H2O_1,\n",
    "        {\n",
    "                \"MP2/aug-cc-pVTZ\": scan_CH3NH2_H2O_1_2b_energies,\n",
    "                \"$V_{phys}$\": scan_CH3NH2_H2O_1_Vphys_2b_energies,\n",
    "        },\n",
    "        4,\n",
    "        7,\n",
    "        title=\"2-body Energies\",\n",
    "        ymin=-4,\n",
    "        ymax=2,\n",
    "        centerer=lambda system: system.atoms[4].point,\n",
    "        aligner=lambda system: (system.atoms[7].point, system.atoms[0].point)\n",
    ")"
   ]
  },
  {
   "cell_type": "markdown",
   "id": "d006a1da-50d0-4ee3-a810-723823d9bbb6",
   "metadata": {},
   "source": [
    "And similarly for the other two 2-body scans:"
   ]
  },
  {
   "cell_type": "code",
   "execution_count": null,
   "id": "5590ab3e-9109-4edb-b772-d524872f93cd",
   "metadata": {
    "tags": []
   },
   "outputs": [],
   "source": [
    "scan_CH3NH2_H2O_2, scan_CH3NH2_H2O_2_energies = read_systems_and_nmer_energies(definition_CH3NH2_H2O, paths.scans.CH3NH2_H2O.second_energies)\n",
    "scan_CH3NH2_H2O_2_2b_energies = calculate_many_body_energies(scan_CH3NH2_H2O_2, scan_CH3NH2_H2O_2_energies)\n",
    "\n",
    "scan_CH3NH2_H2O_2_Vphys_energies = calculate_Vphys_nmer_energies(\n",
    "    definition_CH3NH2_H2O,\n",
    "    scan_CH3NH2_H2O_2,\n",
    "    symmetry_to_charge=charges_CH3NH2,\n",
    "    symmetry_to_polarizability={**polarizabilities_CH3NH2, **polarizabilities_H2O},\n",
    "    symmetry_to_polarizability_factor={**polarizability_factors_CH3NH2, **polarizability_factors_H2O},\n",
    "    symmetries_to_C6=C6_CH3NH2_H2O,\n",
    "    symmetries_to_d6=d6_CH3NH2_H2O,\n",
    "    mbpol_monomers=[False, True], # special flag to enable MB-pol geometry-dependent charges for the water molecule,\n",
    "    aCC=aCC,\n",
    "    aCD=aCD,\n",
    "    aDD=aDD,\n",
    "    aDD12=aDD12,\n",
    "    aDD13=aDD13,\n",
    "    aDD14=aDD14,\n",
    ")\n",
    "\n",
    "scan_CH3NH2_H2O_2_Vphys_2b_energies = calculate_many_body_energies(scan_CH3NH2_H2O_2, scan_CH3NH2_H2O_2_Vphys_energies)"
   ]
  },
  {
   "cell_type": "code",
   "execution_count": null,
   "id": "e3275995-84c4-4816-af8e-e5412a628a31",
   "metadata": {},
   "outputs": [],
   "source": [
    "plot_scan(\n",
    "        scan_CH3NH2_H2O_2,\n",
    "        {\n",
    "                \"MP2/aug-cc-pVTZ\": scan_CH3NH2_H2O_2_2b_energies,\n",
    "                \"$V_{phys}$\": scan_CH3NH2_H2O_2_Vphys_2b_energies,\n",
    "        },\n",
    "        4,\n",
    "        7,\n",
    "        title=\"2-body Energies\",\n",
    "        ymin=-8,\n",
    "        ymax=2,\n",
    "        centerer=lambda system: system.atoms[4].point,\n",
    "        aligner=lambda system: (system.atoms[7].point, system.atoms[0].point)\n",
    ")"
   ]
  },
  {
   "cell_type": "code",
   "execution_count": null,
   "id": "eecedb51-7441-4cd3-9ce5-378b1de29f4e",
   "metadata": {
    "tags": []
   },
   "outputs": [],
   "source": [
    "scan_CH3NH2_H2O_3, scan_CH3NH2_H2O_3_energies = read_systems_and_nmer_energies(definition_CH3NH2_H2O, paths.scans.CH3NH2_H2O.third_energies)\n",
    "scan_CH3NH2_H2O_3_2b_energies = calculate_many_body_energies(scan_CH3NH2_H2O_3, scan_CH3NH2_H2O_3_energies)\n",
    "\n",
    "scan_CH3NH2_H2O_3_Vphys_energies = calculate_Vphys_nmer_energies(\n",
    "    definition_CH3NH2_H2O,\n",
    "    scan_CH3NH2_H2O_3,\n",
    "    symmetry_to_charge=charges_CH3NH2,\n",
    "    symmetry_to_polarizability={**polarizabilities_CH3NH2, **polarizabilities_H2O},\n",
    "    symmetry_to_polarizability_factor={**polarizability_factors_CH3NH2, **polarizability_factors_H2O},\n",
    "    symmetries_to_C6=C6_CH3NH2_H2O,\n",
    "    symmetries_to_d6=d6_CH3NH2_H2O,\n",
    "    mbpol_monomers=[False, True], # special flag to enable MB-pol geometry-dependent charges for the water molecule,\n",
    "    aCC=aCC,\n",
    "    aCD=aCD,\n",
    "    aDD=aDD,\n",
    "    aDD12=aDD12,\n",
    "    aDD13=aDD13,\n",
    "    aDD14=aDD14,\n",
    ")\n",
    "\n",
    "scan_CH3NH2_H2O_3_Vphys_2b_energies = calculate_many_body_energies(scan_CH3NH2_H2O_3, scan_CH3NH2_H2O_3_Vphys_energies)"
   ]
  },
  {
   "cell_type": "code",
   "execution_count": null,
   "id": "eccb376e-d477-4930-81d1-f2fb7a617bd8",
   "metadata": {},
   "outputs": [],
   "source": [
    "plot_scan(\n",
    "        scan_CH3NH2_H2O_3,\n",
    "        {\n",
    "                \"MP2/aug-cc-pVTZ\": scan_CH3NH2_H2O_3_2b_energies,\n",
    "                \"$V_{phys}$\": scan_CH3NH2_H2O_3_Vphys_2b_energies,\n",
    "        },\n",
    "        0,\n",
    "        7,\n",
    "        title=\"2-body Energies\",\n",
    "        ymin=-2,\n",
    "        ymax=2,\n",
    "        centerer=lambda system: system.atoms[0].point,\n",
    "        aligner=lambda system: (system.atoms[7].point, system.atoms[4].point)\n",
    ")"
   ]
  },
  {
   "cell_type": "markdown",
   "id": "95d0e618-b646-4a9d-9a16-fc00b88ef685",
   "metadata": {
    "tags": []
   },
   "source": [
    "Now, lets do the same for the 3-body scans:"
   ]
  },
  {
   "cell_type": "code",
   "execution_count": null,
   "id": "23b9438a-73ee-4e18-bfe2-df586f7d68d2",
   "metadata": {},
   "outputs": [],
   "source": [
    "definition_CH3NH2_H2O_H2O = read_definition(paths.definitions.systems.CH3NH2_H2O_H2O)"
   ]
  },
  {
   "cell_type": "code",
   "execution_count": null,
   "id": "7a3e7a81-4a23-405b-ae80-52e2e020535d",
   "metadata": {},
   "outputs": [],
   "source": [
    "scan_CH3NH2_H2O_H2O_1, scan_CH3NH2_H2O_H2O_1_energies = read_systems_and_nmer_energies(definition_CH3NH2_H2O_H2O, paths.scans.CH3NH2_H2O_H2O.first_energies)\n",
    "scan_CH3NH2_H2O_H2O_1_2b_energies = calculate_many_body_energies(scan_CH3NH2_H2O_H2O_1, scan_CH3NH2_H2O_H2O_1_energies)\n",
    "\n",
    "scan_CH3NH2_H2O_H2O_1_Vphys_energies = calculate_Vphys_nmer_energies(\n",
    "    definition_CH3NH2_H2O_H2O,\n",
    "    scan_CH3NH2_H2O_H2O_1,\n",
    "    symmetry_to_charge=charges_CH3NH2,\n",
    "    symmetry_to_polarizability={**polarizabilities_CH3NH2, **polarizabilities_H2O},\n",
    "    symmetry_to_polarizability_factor={**polarizability_factors_CH3NH2, **polarizability_factors_H2O},\n",
    "    symmetries_to_C6={**C6_CH3NH2_H2O, **C6_H2O_H2O},\n",
    "    symmetries_to_d6={**d6_CH3NH2_H2O, **d6_H2O_H2O},\n",
    "    mbpol_monomers=[False, True, True], # special flag to enable MB-pol geometry-dependent charges for the water molecule,\n",
    "    aCC=aCC,\n",
    "    aCD=aCD,\n",
    "    aDD=aDD,\n",
    "    aDD12=aDD12,\n",
    "    aDD13=aDD13,\n",
    "    aDD14=aDD14,\n",
    ")\n",
    "\n",
    "scan_CH3NH2_H2O_H2O_1_Vphys_2b_energies = calculate_many_body_energies(scan_CH3NH2_H2O_H2O_1, scan_CH3NH2_H2O_H2O_1_Vphys_energies)"
   ]
  },
  {
   "cell_type": "code",
   "execution_count": null,
   "id": "a5c55037-09fc-44a7-aada-d3377e0cc750",
   "metadata": {},
   "outputs": [],
   "source": [
    "plot_scan(\n",
    "        scan_CH3NH2_H2O_H2O_1,\n",
    "        {\n",
    "                \"MP2/aug-cc-pVTZ\": scan_CH3NH2_H2O_H2O_1_2b_energies,\n",
    "                \"$V_{phys}$\": scan_CH3NH2_H2O_H2O_1_Vphys_2b_energies,\n",
    "        },\n",
    "        4,\n",
    "        -3,\n",
    "        title=\"3-body Energies\",\n",
    "        ymax=2,\n",
    "        centerer=lambda system: system.atoms[4].point,\n",
    "        aligner=lambda system: (system.atoms[10].point, system.atoms[0].point)\n",
    ")"
   ]
  },
  {
   "cell_type": "code",
   "execution_count": null,
   "id": "6dc10caa-1d5a-4178-92a0-c2b425797b64",
   "metadata": {
    "tags": []
   },
   "outputs": [],
   "source": [
    "scan_CH3NH2_H2O_H2O_2, scan_CH3NH2_H2O_H2O_2_energies = read_systems_and_nmer_energies(definition_CH3NH2_H2O_H2O, paths.scans.CH3NH2_H2O_H2O.second_energies)\n",
    "scan_CH3NH2_H2O_H2O_2_2b_energies = calculate_many_body_energies(scan_CH3NH2_H2O_H2O_2, scan_CH3NH2_H2O_H2O_2_energies)\n",
    "\n",
    "scan_CH3NH2_H2O_H2O_2_Vphys_energies = calculate_Vphys_nmer_energies(\n",
    "    definition_CH3NH2_H2O_H2O,\n",
    "    scan_CH3NH2_H2O_H2O_2,\n",
    "    symmetry_to_charge=charges_CH3NH2,\n",
    "    symmetry_to_polarizability={**polarizabilities_CH3NH2, **polarizabilities_H2O},\n",
    "    symmetry_to_polarizability_factor={**polarizability_factors_CH3NH2, **polarizability_factors_H2O},\n",
    "    symmetries_to_C6={**C6_CH3NH2_H2O, **C6_H2O_H2O},\n",
    "    symmetries_to_d6={**d6_CH3NH2_H2O, **d6_H2O_H2O},\n",
    "    mbpol_monomers=[False, True, True], # special flag to enable MB-pol geometry-dependent charges for the water molecule,\n",
    "    aCC=aCC,\n",
    "    aCD=aCD,\n",
    "    aDD=aDD,\n",
    "    aDD12=aDD12,\n",
    "    aDD13=aDD13,\n",
    "    aDD14=aDD14,\n",
    ")\n",
    "\n",
    "scan_CH3NH2_H2O_H2O_2_Vphys_2b_energies = calculate_many_body_energies(scan_CH3NH2_H2O_H2O_2, scan_CH3NH2_H2O_H2O_2_Vphys_energies)"
   ]
  },
  {
   "cell_type": "code",
   "execution_count": null,
   "id": "71f1042e-a64d-42e2-bab3-5c6a086edb34",
   "metadata": {},
   "outputs": [],
   "source": [
    "plot_scan(\n",
    "        scan_CH3NH2_H2O_H2O_2,\n",
    "        {\n",
    "                \"MP2/aug-cc-pVTZ\": scan_CH3NH2_H2O_H2O_2_2b_energies,\n",
    "                \"$V_{phys}$\": scan_CH3NH2_H2O_H2O_2_Vphys_2b_energies,\n",
    "        },\n",
    "        4,\n",
    "        -3,\n",
    "        title=\"3-body Energies\",\n",
    "        ymax=2,\n",
    "        centerer=lambda system: system.atoms[4].point,\n",
    "        aligner=lambda system: (system.atoms[10].point, system.atoms[0].point)\n",
    ")"
   ]
  },
  {
   "cell_type": "code",
   "execution_count": null,
   "id": "3294b0f6-0758-432f-8073-3d3af49f9be4",
   "metadata": {
    "tags": []
   },
   "outputs": [],
   "source": [
    "scan_CH3NH2_H2O_H2O_3, scan_CH3NH2_H2O_H2O_3_energies = read_systems_and_nmer_energies(definition_CH3NH2_H2O_H2O, paths.scans.CH3NH2_H2O_H2O.third_energies)\n",
    "scan_CH3NH2_H2O_H2O_3_2b_energies = calculate_many_body_energies(scan_CH3NH2_H2O_H2O_3, scan_CH3NH2_H2O_H2O_3_energies)\n",
    "\n",
    "scan_CH3NH2_H2O_H2O_3_Vphys_energies = calculate_Vphys_nmer_energies(\n",
    "    definition_CH3NH2_H2O_H2O,\n",
    "    scan_CH3NH2_H2O_H2O_3,\n",
    "    symmetry_to_charge=charges_CH3NH2,\n",
    "    symmetry_to_polarizability={**polarizabilities_CH3NH2, **polarizabilities_H2O},\n",
    "    symmetry_to_polarizability_factor={**polarizability_factors_CH3NH2, **polarizability_factors_H2O},\n",
    "    symmetries_to_C6={**C6_CH3NH2_H2O, **C6_H2O_H2O},\n",
    "    symmetries_to_d6={**d6_CH3NH2_H2O, **d6_H2O_H2O},\n",
    "    mbpol_monomers=[False, True, True], # special flag to enable MB-pol geometry-dependent charges for the water molecule,\n",
    "    aCC=aCC,\n",
    "    aCD=aCD,\n",
    "    aDD=aDD,\n",
    "    aDD12=aDD12,\n",
    "    aDD13=aDD13,\n",
    "    aDD14=aDD14,\n",
    ")\n",
    "\n",
    "scan_CH3NH2_H2O_H2O_3_Vphys_2b_energies = calculate_many_body_energies(scan_CH3NH2_H2O_H2O_3, scan_CH3NH2_H2O_H2O_3_Vphys_energies)"
   ]
  },
  {
   "cell_type": "code",
   "execution_count": null,
   "id": "ea04b33e-8a68-4de4-8f8d-bccc0ae5b178",
   "metadata": {},
   "outputs": [],
   "source": [
    "plot_scan(\n",
    "        scan_CH3NH2_H2O_H2O_3,\n",
    "        {\n",
    "                \"MP2/aug-cc-pVTZ\": scan_CH3NH2_H2O_H2O_3_2b_energies,\n",
    "                \"$V_{phys}$\": scan_CH3NH2_H2O_H2O_3_Vphys_2b_energies,\n",
    "        },\n",
    "        4,\n",
    "        -3,\n",
    "        title=\"3-body Energies\",\n",
    "        ymax=2,\n",
    "        centerer=lambda system: system.atoms[4].point,\n",
    "        aligner=lambda system: (system.atoms[10].point, system.atoms[0].point)\n",
    ")"
   ]
  },
  {
   "cell_type": "markdown",
   "id": "3e2fe7c7-1ab4-4851-9fca-4403076d5a14",
   "metadata": {},
   "source": [
    "Since we will build polynomials only for 1-, 2-, and 3- body interactions, its worth seeing how $V_{phys}$ performs on these higher-body energies:"
   ]
  },
  {
   "cell_type": "code",
   "execution_count": null,
   "id": "0e15b6b5-cf8b-43dc-a2eb-23d3f25aaca8",
   "metadata": {},
   "outputs": [],
   "source": [
    "definition_tetramer = read_definition(paths.definitions.systems.tetramer)\n",
    "clusters_tetramer, clusters_tetramer_energies = read_systems_and_nmer_energies(definition_tetramer, paths.clusters.tetramer_energies)\n",
    "\n",
    "clusters_tetramer_Vphys_energies = calculate_Vphys_nmer_energies(\n",
    "    definition_tetramer,\n",
    "    clusters_tetramer,\n",
    "    symmetry_to_charge=charges_CH3NH2,\n",
    "    symmetry_to_polarizability={**polarizabilities_CH3NH2, **polarizabilities_H2O},\n",
    "    symmetry_to_polarizability_factor={**polarizability_factors_CH3NH2, **polarizability_factors_H2O},\n",
    "    symmetries_to_C6={**C6_CH3NH2_H2O, **C6_H2O_H2O},\n",
    "    symmetries_to_d6={**d6_CH3NH2_H2O, **d6_H2O_H2O},\n",
    "    mbpol_monomers=[False, True, True, True], # special flag to enable MB-pol geometry-dependent charges for the water molecule,\n",
    "    aCC=aCC,\n",
    "    aCD=aCD,\n",
    "    aDD=aDD,\n",
    "    aDD12=aDD12,\n",
    "    aDD13=aDD13,\n",
    "    aDD14=aDD14,\n",
    ")"
   ]
  },
  {
   "cell_type": "code",
   "execution_count": null,
   "id": "f12faa0b-d496-4214-a246-af31ae2eb8c9",
   "metadata": {},
   "outputs": [],
   "source": [
    "plot_clusters(\n",
    "        clusters_tetramer,\n",
    "        {\n",
    "            \"MP2/aug-cc-pVTZ\": calculate_many_body_energies(clusters_tetramer, clusters_tetramer_energies),\n",
    "            \"$V_{phys}$\": calculate_many_body_energies(clusters_tetramer, clusters_tetramer_Vphys_energies),\n",
    "        },\n",
    "        centerer=lambda system: system.atoms[0].point,\n",
    "        aligner=lambda system: (system.atoms[4].point, system.atoms[1].point),\n",
    "        ymin=-9,\n",
    "        render_scale=0.2,\n",
    "        title=\"Cluster 4-body Energies\"\n",
    ")"
   ]
  },
  {
   "cell_type": "code",
   "execution_count": null,
   "id": "d0ad3992-417a-40f6-b1a3-212480d186c1",
   "metadata": {},
   "outputs": [],
   "source": [
    "definition_pentamer = read_definition(paths.definitions.systems.pentamer)\n",
    "clusters_pentamer, clusters_pentamer_energies = read_systems_and_nmer_energies(definition_pentamer, paths.clusters.pentamer_energies)\n",
    "\n",
    "clusters_pentamer_Vphys_energies = calculate_Vphys_nmer_energies(\n",
    "    definition_pentamer,\n",
    "    clusters_pentamer,\n",
    "    symmetry_to_charge=charges_CH3NH2,\n",
    "    symmetry_to_polarizability={**polarizabilities_CH3NH2, **polarizabilities_H2O},\n",
    "    symmetry_to_polarizability_factor={**polarizability_factors_CH3NH2, **polarizability_factors_H2O},\n",
    "    symmetries_to_C6={**C6_CH3NH2_H2O, **C6_H2O_H2O},\n",
    "    symmetries_to_d6={**d6_CH3NH2_H2O, **d6_H2O_H2O},\n",
    "    mbpol_monomers=[False, True, True, True, True], # special flag to enable MB-pol geometry-dependent charges for the water molecule,\n",
    "    aCC=aCC,\n",
    "    aCD=aCD,\n",
    "    aDD=aDD,\n",
    "    aDD12=aDD12,\n",
    "    aDD13=aDD13,\n",
    "    aDD14=aDD14,\n",
    ")"
   ]
  },
  {
   "cell_type": "code",
   "execution_count": null,
   "id": "855efc5f-92fb-4f0c-bf36-a9987bcbcc6b",
   "metadata": {},
   "outputs": [],
   "source": [
    "plot_clusters(\n",
    "        clusters_pentamer,\n",
    "        {\n",
    "            \"MP2/aug-cc-pVTZ\": calculate_many_body_energies(clusters_pentamer, clusters_pentamer_energies),\n",
    "            \"$V_{phys}$\": calculate_many_body_energies(clusters_pentamer, clusters_pentamer_Vphys_energies),\n",
    "        },\n",
    "        centerer=lambda system: system.atoms[0].point,\n",
    "        aligner=lambda system: (system.atoms[4].point, system.atoms[1].point),\n",
    "        ymin=-9,\n",
    "        render_scale=0.2,\n",
    "        title=\"Cluster 5-body Energies\"\n",
    ")"
   ]
  },
  {
   "cell_type": "markdown",
   "id": "9ae2d05c-81a6-41ef-91ca-00ee95bddc31",
   "metadata": {},
   "source": [
    "Of course, there isn't really anything interesting to see here at the 5-body level, since the energies are basically 0."
   ]
  },
  {
   "cell_type": "markdown",
   "id": "ad066b27-c2e1-4abf-9516-ba624c3fb6c8",
   "metadata": {
    "jp-MarkdownHeadingCollapsed": true,
    "tags": []
   },
   "source": [
    "## 2.2.7 Implementation in MBX"
   ]
  },
  {
   "cell_type": "markdown",
   "id": "149e890d-67c0-40db-8a55-5f95bf6eac82",
   "metadata": {},
   "source": [
    "Now, lets put the $V_{phys}$ part of our PEF in MBX."
   ]
  },
  {
   "cell_type": "markdown",
   "id": "0740b8a1-db34-4ae8-adbb-2f030c8aec90",
   "metadata": {},
   "source": [
    "First, create a fresh copy of MBX (this clones our MBX GitHub repository):"
   ]
  },
  {
   "cell_type": "code",
   "execution_count": null,
   "id": "b8145016-089e-4d28-8664-3fdfcd812714",
   "metadata": {},
   "outputs": [],
   "source": [
    "initialize_mbx(\n",
    "        paths.MBX\n",
    ")"
   ]
  },
  {
   "cell_type": "markdown",
   "id": "a1fc621a-bf2b-497c-8cc3-74637462a09d",
   "metadata": {},
   "source": [
    "Then, we add each part of $V_{phys}$ to MBX:"
   ]
  },
  {
   "cell_type": "code",
   "execution_count": null,
   "id": "a200b005-c1bc-4c04-b96c-20a4846b2c2b",
   "metadata": {},
   "outputs": [],
   "source": [
    "add_monomer_type_to_MBX(\n",
    "        paths.MBX,\n",
    "        definition_CH3NH2,\n",
    "        \"ch3nh2\",\n",
    ")"
   ]
  },
  {
   "cell_type": "code",
   "execution_count": null,
   "id": "d89243f0-7ad0-4c64-858a-45b506e963a2",
   "metadata": {},
   "outputs": [],
   "source": [
    "add_excluded_pairs(\n",
    "        paths.MBX,\n",
    "        definition_CH3NH2,\n",
    "        \"ch3nh2\",\n",
    ")"
   ]
  },
  {
   "cell_type": "code",
   "execution_count": null,
   "id": "1ced24f3-4480-4031-8a3f-928862570f03",
   "metadata": {},
   "outputs": [],
   "source": [
    "add_charges_to_MBX(\n",
    "        paths.MBX,\n",
    "        definition_CH3NH2,\n",
    "        \"ch3nh2\",\n",
    "        symmetry_to_charge=charges_CH3NH2\n",
    ")"
   ]
  },
  {
   "cell_type": "code",
   "execution_count": null,
   "id": "960e59ff-eec8-4603-a613-fe63025d7524",
   "metadata": {},
   "outputs": [],
   "source": [
    "add_polarizability_factors_to_MBX(\n",
    "        paths.MBX,\n",
    "        definition_CH3NH2,\n",
    "        \"ch3nh2\",\n",
    "        symmetry_to_polarizability_factor=polarizability_factors_CH3NH2\n",
    ")"
   ]
  },
  {
   "cell_type": "code",
   "execution_count": null,
   "id": "4de33298-f579-42ef-9464-2b3053c973b3",
   "metadata": {},
   "outputs": [],
   "source": [
    "add_polarizabilities_to_MBX(\n",
    "        paths.MBX,\n",
    "        definition_CH3NH2,\n",
    "        \"ch3nh2\",\n",
    "        symmetry_to_polarizabilities=polarizabilities_CH3NH2\n",
    ")"
   ]
  },
  {
   "cell_type": "code",
   "execution_count": null,
   "id": "adfafddc-6a55-4ace-a1b1-77b3807d23ea",
   "metadata": {},
   "outputs": [],
   "source": [
    "add_reciprocal_space_C6_to_MBX(\n",
    "        paths.MBX,\n",
    "        definition_CH3NH2,\n",
    "        \"ch3nh2\",\n",
    "        symmetry_to_reciprocal_space_C6={\n",
    "                \"A\": C6_CH3NH2_CH3NH2[(\"A\", \"A\")] ** (1/2),\n",
    "                \"B\": C6_CH3NH2_CH3NH2[(\"B\", \"B\")] ** (1/2),\n",
    "                \"C\": C6_CH3NH2_CH3NH2[(\"C\", \"C\")] ** (1/2),\n",
    "                \"D\": C6_CH3NH2_CH3NH2[(\"D\", \"D\")] ** (1/2),\n",
    "        }\n",
    ")"
   ]
  },
  {
   "cell_type": "code",
   "execution_count": null,
   "id": "895c67bb-960f-44a9-9ce6-49bb05deca1e",
   "metadata": {},
   "outputs": [],
   "source": [
    "add_C6_and_d6_to_MBX(\n",
    "        paths.MBX,\n",
    "        definition_CH3NH2,\n",
    "        definition_H2O,\n",
    "        \"ch3nh2\",\n",
    "        \"h2o\",\n",
    "        symmetries_to_C6=C6_CH3NH2_H2O,\n",
    "        symmetries_to_d6=d6_CH3NH2_H2O\n",
    ")"
   ]
  },
  {
   "cell_type": "code",
   "execution_count": null,
   "id": "407eca98-e9e5-40c7-958e-48e395ab2d57",
   "metadata": {},
   "outputs": [],
   "source": [
    "add_C6_and_d6_to_MBX(\n",
    "        paths.MBX,\n",
    "        definition_CH3NH2,\n",
    "        definition_CH3NH2,\n",
    "        \"ch3nh2\",\n",
    "        \"ch3nh2\",\n",
    "        symmetries_to_C6=C6_CH3NH2_CH3NH2,\n",
    "        symmetries_to_d6=d6_CH3NH2_CH3NH2\n",
    ")"
   ]
  },
  {
   "cell_type": "markdown",
   "id": "e93797b2-f064-453a-97aa-3b42d8af21b0",
   "metadata": {},
   "source": [
    "Finally, lets compile MBX. We will compile with optimizations off so that compilation will be fast, but this means that evaluation may be slower later."
   ]
  },
  {
   "cell_type": "code",
   "execution_count": null,
   "id": "0bb71bec-231e-4e61-b5f9-7fe79efffc7d",
   "metadata": {},
   "outputs": [],
   "source": [
    "compile_mbx(\n",
    "        paths.MBX,\n",
    "        configure_arguments=[\n",
    "                \"CXX=icpc\",\n",
    "                \"CC=icc\",\n",
    "                \"--disable-optimization\"\n",
    "        ],\n",
    "        configure=True,\n",
    "        clean=True,\n",
    "        num_threads=4\n",
    ")"
   ]
  }
 ],
 "metadata": {
  "kernelspec": {
   "display_name": "Python 3 (ipykernel)",
   "language": "python",
   "name": "python3"
  },
  "language_info": {
   "codemirror_mode": {
    "name": "ipython",
    "version": 3
   },
   "file_extension": ".py",
   "mimetype": "text/x-python",
   "name": "python",
   "nbconvert_exporter": "python",
   "pygments_lexer": "ipython3",
   "version": "3.10.10"
  }
 },
 "nbformat": 4,
 "nbformat_minor": 5
}
