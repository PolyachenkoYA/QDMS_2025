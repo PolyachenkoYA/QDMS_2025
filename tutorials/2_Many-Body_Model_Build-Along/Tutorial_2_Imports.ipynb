{
 "cells": [
  {
   "cell_type": "markdown",
   "id": "ff59a5ee-f989-4ad0-93af-571c59626ff1",
   "metadata": {
    "tags": []
   },
   "source": [
    "# Tutorial 2.0.1: Imports"
   ]
  },
  {
   "cell_type": "markdown",
   "id": "e312a257-3ad7-41b5-9542-47b3feb05b18",
   "metadata": {},
   "source": [
    "Below are all the python imports required to run Tutorial 2. This notebook will be called from each other notebook so that the imports will be available in all the notebooks."
   ]
  },
  {
   "cell_type": "markdown",
   "id": "e23456ae-a6c2-4f56-bb0f-71912ce2b11f",
   "metadata": {},
   "source": [
    "This adds MB-Fit to your path so that it can be imported below. If you are running this notebook at QDMS 2025, the below path will work for you, if not, you will have to specify the path to your MB-Fit installation or make sure MB-Fit is on your PATH or PYTHONPATH another way."
   ]
  },
  {
   "cell_type": "code",
   "execution_count": null,
   "id": "b5715f1c-b10b-4222-8887-22d18cd218ce",
   "metadata": {},
   "outputs": [],
   "source": [
    "import sys\n",
    "sys.path.append(\"/expanse/projects/qstore/csd973/MB-Fit_dev\")"
   ]
  },
  {
   "cell_type": "markdown",
   "id": "dda1d325-35e6-4a37-b8b3-831baa068d0a",
   "metadata": {},
   "source": [
    "This is a bit of Jupyter magic that is mostly useful during development and testing."
   ]
  },
  {
   "cell_type": "code",
   "execution_count": null,
   "id": "f39148db-d262-4fe5-bf3c-18e234a2d9a4",
   "metadata": {},
   "outputs": [],
   "source": [
    "%load_ext autoreload\n",
    "%autoreload 2"
   ]
  },
  {
   "cell_type": "markdown",
   "id": "7b139906-06c5-4ca6-8e14-959acbd574bf",
   "metadata": {},
   "source": [
    "This tells matplotlib how we want to render our figures and animations."
   ]
  },
  {
   "cell_type": "code",
   "execution_count": null,
   "id": "45f1e0d7-77f7-4753-ab09-22be06019cb2",
   "metadata": {},
   "outputs": [],
   "source": [
    "%matplotlib agg"
   ]
  },
  {
   "cell_type": "markdown",
   "id": "d4011f53-d4a8-4e7b-a618-52dba9f5cebb",
   "metadata": {},
   "source": [
    "Common python libraries:"
   ]
  },
  {
   "cell_type": "code",
   "execution_count": null,
   "id": "c95b754a-0708-422e-932f-6b556ce5e63b",
   "metadata": {},
   "outputs": [],
   "source": [
    "import numpy\n",
    "from IPython.display import HTML\n",
    "import itertools"
   ]
  },
  {
   "cell_type": "markdown",
   "id": "206dbeef-c8ee-47ae-bd9a-35ea2ad26057",
   "metadata": {},
   "source": [
    "`mbfit.system` contains the backbone of MB-Fit, the `System` and associated classes:"
   ]
  },
  {
   "cell_type": "code",
   "execution_count": null,
   "id": "b4cf99c2-0e5e-4231-a2a4-1ee2417360db",
   "metadata": {},
   "outputs": [],
   "source": [
    "from mbfit.system import BasicCompound\n",
    "from mbfit.system.system_like import BondType\n",
    "from mbfit.system.definition import BasicFragmentDefinition, BasicCompoundDefinition, AtomDefinition, BondDefinition\n",
    "from mbfit.system.initializer import VSEPRInitializer\n",
    "from mbfit.system.descriptor import fragment_definition_to_xyz, compound_definition_to_xyz, compound_to_xyz, compound_to_commented_xyz\n",
    "from mbfit.system.parser import xyz_to_compound_definition, xyz_to_compound_definition, xyz_to_compound_by_definition\n",
    "from mbfit.system.transformer import SystemTransformer\n",
    "from mbfit.system.copier import CompoundCopier\n",
    "from mbfit.system.transformer import make_scan\n",
    "from mbfit.system.region import BasicMutableRegionManager\n",
    "# from mbfit.system.descriptor.energy_decomposition_comment_line_descriptor import EnergyDecompositionCommentLineDescriptor\n",
    "\n",
    "from mbfit.system.io import write_fragment_definition, write_definition, write_system, write_systems, read_fragment_definition, read_definition, read_system, read_systems, write_system_and_energy, write_systems_and_energies, read_system_and_energy, read_systems_and_energies\n",
    "from mbfit.system.io import write_system_and_nmer_energies, write_systems_and_nmer_energies, read_system_and_nmer_energy, read_systems_and_nmer_energies\n",
    "from mbfit.system.io import write_training_set_file"
   ]
  },
  {
   "cell_type": "markdown",
   "id": "d89b7c76-1f61-4a4e-b932-824b56075785",
   "metadata": {},
   "source": [
    "`mbfit.calculator` contains wrappers for QM software and functions to help us manipulate electronic structure data:"
   ]
  },
  {
   "cell_type": "code",
   "execution_count": null,
   "id": "2c784c2e-0bbd-4690-b832-908c2f568ac5",
   "metadata": {},
   "outputs": [],
   "source": [
    "from mbfit.calculator import QchemCalculator, OrcaCalculator, Psi4Calculator\n",
    "from mbfit.calculator import calculate_energy, calculate_energies, minimize_structures, minimize_structure, calculate_vibrational_modes, write_vibrational_modes, read_vibrational_modes, calculate_nmer_energies, find_clusters\n",
    "from mbfit.calculator import calculate_many_body_energies, calculate_many_body_energy, calculate_binding_energies, calculate_binding_energy, calculate_many_body_contributions\n",
    "from mbfit.calculator import write_multiple_vibrational_modes, read_multiple_vibrational_modes, discard_failed_configurations"
   ]
  },
  {
   "cell_type": "markdown",
   "id": "d3655f88-2e90-4918-b41e-7cc86aa7b4d6",
   "metadata": {},
   "source": [
    "`mbfit.visualization` contains functions to make plots and structure renders:"
   ]
  },
  {
   "cell_type": "code",
   "execution_count": null,
   "id": "579df286-e7ef-4ba5-b446-8925b072cb6e",
   "metadata": {},
   "outputs": [],
   "source": [
    "from mbfit.visualization import render_system, render_systems, render_overlayed_systems\n",
    "from mbfit.visualization import plot_scan, plot_clusters, plot_correlation"
   ]
  },
  {
   "cell_type": "markdown",
   "id": "b815c0aa-7ef0-4002-ba7a-592887a45ae9",
   "metadata": {},
   "source": [
    "`mbfit.parametrization` will allow us to parametrize $V_{phys}$ and the PIPs:"
   ]
  },
  {
   "cell_type": "code",
   "execution_count": null,
   "id": "adf2e39a-998b-49e2-9446-d1edefd38eb5",
   "metadata": {},
   "outputs": [],
   "source": [
    "from mbfit.polynomials_old import generate_polynomial\n",
    "from mbfit.parametrization import calculate_polarizabilities_by_XDM, calculate_radii_by_XDM, calculate_C6_by_XDM, calculate_d6_from_radii, get_ESP_grid_points, calculate_ESP_at_grid_points, fit_charges_to_ESP\n",
    "from mbfit.parametrization import generate_pip_parametizer, parametrize_pip, evaluate_pip, read_parameters, write_parameters"
   ]
  },
  {
   "cell_type": "markdown",
   "id": "764fc96b-3264-4fc9-ad66-14bad10a9fe8",
   "metadata": {},
   "source": [
    "`mbfit.configurations` has tools to generate configurations for our training sets:"
   ]
  },
  {
   "cell_type": "code",
   "execution_count": null,
   "id": "1878874c-0116-4e6b-99fd-54029ad61c0e",
   "metadata": {},
   "outputs": [],
   "source": [
    "from mbfit.configurations import NormalModesConfigurationGenerator, get_pbmetad_parameters, perform_pbmetad_simulation, RandomDistanceAndRotationConfigurationGenerator"
   ]
  },
  {
   "cell_type": "markdown",
   "id": "a3528a83-771b-46f2-b514-e359e0549e9b",
   "metadata": {},
   "source": [
    "`mbfit.potential` has the functions to evaluate $V_{phys}$ and other energy contributions."
   ]
  },
  {
   "cell_type": "code",
   "execution_count": null,
   "id": "4dfcf6d5-2fc0-4bcf-b8ed-51b1521b5f0d",
   "metadata": {},
   "outputs": [],
   "source": [
    "from mbfit.potential import calculate_Vphys_energies, calculate_Vphys_nmer_energies"
   ]
  },
  {
   "cell_type": "markdown",
   "id": "e520db69-0f5d-4010-88b6-df86967aa35b",
   "metadata": {},
   "source": [
    "`mbfit.sampling` has the tools we will use to choose the configurations for our training set."
   ]
  },
  {
   "cell_type": "code",
   "execution_count": null,
   "id": "e881bf5d-6d61-4ea3-bb8a-ee3c43c2f044",
   "metadata": {},
   "outputs": [],
   "source": [
    "from mbfit.sampling import perform_fps, split_pool, SplitStrategy, filter_configs_by_cutoff"
   ]
  },
  {
   "cell_type": "markdown",
   "id": "b80224d1-e73e-4668-9686-a30aa3aaa5e1",
   "metadata": {},
   "source": [
    "`mbfit.implementation` will help us generate the C++ code required to evaluate the PEF in MBX."
   ]
  },
  {
   "cell_type": "code",
   "execution_count": null,
   "id": "d9e45436-f070-4dab-8987-6e62a1823b98",
   "metadata": {},
   "outputs": [],
   "source": [
    "from mbfit.implementation import initialize_mbx, add_monomer_type_to_MBX, add_excluded_pairs, add_charges_to_MBX, add_polarizability_factors_to_MBX, add_polarizabilities_to_MBX, add_reciprocal_space_C6_to_MBX, add_C6_and_d6_to_MBX, compile_mbx, add_PIP_to_MBX, calculate_MBX_energy, calculate_MBX_nmer_energies"
   ]
  },
  {
   "cell_type": "markdown",
   "id": "b492fb92-a011-483a-8a68-3d3d9cdc59f3",
   "metadata": {},
   "source": [
    "Finally, `mbfit.utils` contains a few helpful functions."
   ]
  },
  {
   "cell_type": "code",
   "execution_count": null,
   "id": "fd7c8f56-42f7-42ee-b8c3-ba5699a24467",
   "metadata": {
    "tags": []
   },
   "outputs": [],
   "source": [
    "from mbfit.utils.filesystem import Directory\n",
    "# from mbfit.utils.job_manager import SLURMJobManager, JobManager, LocalJobManager\n",
    "# from mbfit.utils import constants"
   ]
  },
  {
   "cell_type": "markdown",
   "id": "98b4d49a-a391-4b64-96a4-43d32721f991",
   "metadata": {
    "jp-MarkdownHeadingCollapsed": true,
    "tags": []
   },
   "source": [
    "## Don't look here (this part is intended to be removed before the workshop, so if you see this I forgot.)"
   ]
  },
  {
   "cell_type": "code",
   "execution_count": null,
   "id": "d3de1d1d-705f-4404-8716-0ac60ce0a932",
   "metadata": {},
   "outputs": [],
   "source": [
    "# qchem_job_template=\"\"\"\n",
    "# module load cpu/0.15.4  gcc/10.2.0  mvapich2/2.3.6 qchem/5.4\n",
    "# conda activate p310\n",
    "# cd ~/software/development/MB-Fit_versions/QDMS_2025\n",
    "# export MBFIT_HOME=$PWD\n",
    "# source sourceme.sh\n",
    "# cd -\n",
    "\n",
    "# export QCSCRATCH=/expanse/lustre/scratch/$USER/temp_project/qscratch\n",
    "# export QCLOCALSCR=/scratch/$USER/job_$SLURM_JOB_ID\n",
    "\n",
    "# \"\"\"\n",
    "\n",
    "# def get_qchem_job_manager(job_scratch_directory: Directory) -> JobManager:\n",
    "#     job_scratch_directory.create()\n",
    "#     return LocalJobManager()\n",
    "#     return SLURMJobManager(\n",
    "#             input_path=f\"{job_scratch_directory}/job.in\",\n",
    "#             output_path=f\"{job_scratch_directory}/job.out\",\n",
    "#             log_path=f\"{job_scratch_directory}/job.log\",\n",
    "#             job_path=f\"{job_scratch_directory}/job.job\",\n",
    "#             job_output_path=f\"{job_scratch_directory}/job.stdout\",\n",
    "#             job_error_path=f\"{job_scratch_directory}/job.stderr\",\n",
    "#             max_queue_size=10,\n",
    "#             job_name=\"slurm_job_manager\",\n",
    "#             allocation=\"csd888\",\n",
    "#             reservation=None,\n",
    "#             partition=\"shared\",\n",
    "#             qos=None,\n",
    "#             max_walltime_minutes=60,\n",
    "#             nodes=1,\n",
    "#             tasks=1,\n",
    "#             processors_per_task=32,\n",
    "#             template=qchem_job_template\n",
    "#     )"
   ]
  },
  {
   "cell_type": "code",
   "execution_count": null,
   "id": "da9fd5e7-d86c-4453-bf12-675ac7b87077",
   "metadata": {},
   "outputs": [],
   "source": [
    "psi4_job_template=\"\"\"\n",
    "source ~/.bashrc\n",
    "conda activate qdms_tutorial_2\n",
    "\n",
    "cd /expanse/projects/qstore/csd973/MB-Fit_dev\n",
    "export MBFIT_HOME=$PWD\n",
    "source sourceme.sh\n",
    "cd -\n",
    "\"\"\"\n",
    "\n",
    "from mbfit.utils.job_manager import SLURMJobManager, CompoundJobManager\n",
    "\n",
    "def get_psi4_job_manager(job_scratch_directory: Directory):\n",
    "    job_scratch_directory.create()\n",
    "    return CompoundJobManager(\n",
    "        [\n",
    "            SLURMJobManager(\n",
    "                input_path=f\"{job_scratch_directory}/job{i}.in\",\n",
    "                output_path=f\"{job_scratch_directory}/job{i}.out\",\n",
    "                log_path=f\"{job_scratch_directory}/job{i}.log\",\n",
    "                job_path=f\"{job_scratch_directory}/job{i}.job\",\n",
    "                job_output_path=f\"{job_scratch_directory}/job{i}.stdout\",\n",
    "                job_error_path=f\"{job_scratch_directory}/job{i}.stderr\",\n",
    "                max_queue_size=10,\n",
    "                job_name=\"slurm_job_manager{i}\",\n",
    "                allocation=\"csd973\",\n",
    "                reservation=None,\n",
    "                partition=\"shared\",\n",
    "                qos=None,\n",
    "                max_walltime_minutes=120,\n",
    "                nodes=1,\n",
    "                tasks=1,\n",
    "                processors_per_task=4,\n",
    "                template=psi4_job_template\n",
    "            )\n",
    "            for i in range(10)\n",
    "        ]\n",
    "    )\n",
    "    return SLURMJobManager(\n",
    "            input_path=f\"{job_scratch_directory}/job.in\",\n",
    "            output_path=f\"{job_scratch_directory}/job.out\",\n",
    "            log_path=f\"{job_scratch_directory}/job.log\",\n",
    "            job_path=f\"{job_scratch_directory}/job.job\",\n",
    "            job_output_path=f\"{job_scratch_directory}/job.stdout\",\n",
    "            job_error_path=f\"{job_scratch_directory}/job.stderr\",\n",
    "            max_queue_size=10,\n",
    "            job_name=\"slurm_job_manager\",\n",
    "            allocation=\"csd973\",\n",
    "            reservation=None,\n",
    "            partition=\"shared\",\n",
    "            qos=None,\n",
    "            max_walltime_minutes=60,\n",
    "            nodes=1,\n",
    "            tasks=1,\n",
    "            processors_per_task=4,\n",
    "            template=psi4_job_template\n",
    "    )"
   ]
  },
  {
   "cell_type": "code",
   "execution_count": null,
   "id": "bdd86a93-9f5c-467d-adde-fb677ea2d073",
   "metadata": {},
   "outputs": [],
   "source": []
  }
 ],
 "metadata": {
  "kernelspec": {
   "display_name": "Python 3 (ipykernel)",
   "language": "python",
   "name": "python3"
  },
  "language_info": {
   "codemirror_mode": {
    "name": "ipython",
    "version": 3
   },
   "file_extension": ".py",
   "mimetype": "text/x-python",
   "name": "python",
   "nbconvert_exporter": "python",
   "pygments_lexer": "ipython3",
   "version": "3.10.10"
  }
 },
 "nbformat": 4,
 "nbformat_minor": 5
}
