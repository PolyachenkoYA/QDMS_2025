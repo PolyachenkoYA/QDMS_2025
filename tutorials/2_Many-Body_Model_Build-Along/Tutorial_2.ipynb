{
 "cells": [
  {
   "cell_type": "markdown",
   "metadata": {
    "tags": []
   },
   "source": [
    "# Tutorial 2: Many-Body Model Build-Along"
   ]
  },
  {
   "cell_type": "markdown",
   "metadata": {},
   "source": [
    "Welcome to Tutorial 2. This tutorial is meant for users who want to learn how to use MB-Fit to construct MB-nrg-style potential energy functions for small molecules.\n",
    "We will demonstrate how to construct such potential energy functions for small molecules using methylamine (CH3-NH2) in water as an example.\n",
    "The choice of methylamine is arbitrary, and the process outlined here should work for most small molecules. (Up to 12 or so atoms.)"
   ]
  },
  {
   "cell_type": "markdown",
   "metadata": {},
   "source": [
    "The construction of the PEF is broken into 5 steps:\n",
    "\n",
    "* In section 2.1, we will generate all the input files that will be needed, as well as getting some scans, clusters, etc. that will be used during the PEF construction process.\n",
    "* In section 2.2, we will parametrize V$_{phys}$, the \"physics-based\" disperison+electrostatics part of MB-nrg PEFs.\n",
    "* In section 2.3, we will build the 1-body polynomial for the gas-phase CH$_3$-NH$_2$ monomer.\n",
    "* In section 2.4, we will plunge our CH$_3$-NH$_2$ into water by developing the 2-body polynomial for CH$_3$-NH$_2$ -- H$_2$O interactions.\n",
    "* In section 2.5 we refine our model for solvated methylamine by adding a polynomial for 3-body CH$_3$-NH$_2$ -- H$_2$O -- H$_2$O interactions.\n",
    "\n",
    "At each step along the way, we will carefully compare to electronic structure reference data to assess the quality of the PEF we are constructing."
   ]
  },
  {
   "cell_type": "markdown",
   "metadata": {},
   "source": [
    "For some steps that would normally be computationally intensive, such as performing the reference electronic structure calculations or parameterizing the permutationally invariant polynomials, the computational work has been pre-done and the data will just be loaded from \"restart\" files."
   ]
  },
  {
   "cell_type": "markdown",
   "metadata": {},
   "source": [
    "## [Tutorial 2.0.1: Imports](Tutorial_2_Imports.ipynb)"
   ]
  },
  {
   "cell_type": "markdown",
   "metadata": {},
   "source": [
    "## [Tutorial 2.0.2: Filesystem and Paths](Tutorial_2_Paths.ipynb)"
   ]
  },
  {
   "cell_type": "markdown",
   "metadata": {},
   "source": [
    "## [Tutorial 2.1: Inputs, Files, & Scans](Tutorial_2.1.ipynb)"
   ]
  },
  {
   "cell_type": "markdown",
   "metadata": {},
   "source": [
    "## [Tutorial 2.2: $V_{phys}$ Parametrization](Tutorial_2.2.ipynb)"
   ]
  },
  {
   "cell_type": "markdown",
   "metadata": {
    "tags": []
   },
   "source": [
    "## [Tutorial 2.3: One-Body Potential Energy Surface](Tutorial_2.3.ipynb)"
   ]
  },
  {
   "cell_type": "markdown",
   "metadata": {},
   "source": [
    "## [Tutorial 2.4: Two-Body Potential Energy Surface](Tutorial_2.4.ipynb)"
   ]
  },
  {
   "cell_type": "markdown",
   "metadata": {},
   "source": [
    "## [Tutorial 2.5: Three-Body Potential Energy Surface](Tutorial_2.5.ipynb)"
   ]
  },
  {
   "cell_type": "code",
   "execution_count": null,
   "metadata": {},
   "outputs": [],
   "source": []
  }
 ],
 "metadata": {
  "kernelspec": {
   "display_name": "Python 3 (ipykernel)",
   "language": "python",
   "name": "python3"
  },
  "language_info": {
   "codemirror_mode": {
    "name": "ipython",
    "version": 3
   },
   "file_extension": ".py",
   "mimetype": "text/x-python",
   "name": "python",
   "nbconvert_exporter": "python",
   "pygments_lexer": "ipython3",
   "version": "3.10.10"
  }
 },
 "nbformat": 4,
 "nbformat_minor": 4
}
