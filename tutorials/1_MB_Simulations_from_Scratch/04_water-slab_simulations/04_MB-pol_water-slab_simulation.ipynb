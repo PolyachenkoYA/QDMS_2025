{
 "cells": [
  {
   "cell_type": "markdown",
   "id": "7027f34e",
   "metadata": {},
   "source": [
    "# MB-pol Air-Water Simulation Setup\n",
    "\n",
    "This notebook walks you **step-by-step** through preparing and running a air-water interface simulation using the polarizable **MB-pol** potential with LAMMPS + MBX.  \n",
    "You'll:  \n",
    "\n",
    "1. Build the required MBX, MB-pol and LAMMPS input files.  \n",
    "2. Submit the production NPT run on an HPC cluster.    \n",
    "\n",
    "Feel free to skim the headings first to see the overall workflow before executing the cells.\n"
   ]
  },
  {
   "cell_type": "markdown",
   "id": "d011c468",
   "metadata": {},
   "source": [
    "### 1 Copy `mbx.json` and  `mbpol.param`\n",
    "Copies the `mbx.json` and `mbpol.param` into the current folder so LAMMPS can locate MB-pol tables at runtime.  "
   ]
  },
  {
   "cell_type": "code",
   "execution_count": 1,
   "id": "75aef6ab",
   "metadata": {},
   "outputs": [],
   "source": [
    "!cp ../02_bulk_water_simulations/mbx.json .\n",
    "!cp ../02_bulk_water_simulations/mbpol.param ."
   ]
  },
  {
   "cell_type": "markdown",
   "id": "062ba455",
   "metadata": {},
   "source": [
    "## 2  Create the **`start.lmp`** production input\n",
    "\n",
    "This comprehensive LAMMPS script performs a **constant-volume (NVT)** run with MB-pol:\n",
    "\n",
    "* Defines user-friendly **variables** for temperature, pressure, time-step, frequencies, etc.  \n",
    "* Reads the `data.system` file and **includes** `mbpol.param` for the force-field setup.  \n",
    "* Uses **`fix NPT`** to control temperature and isotropic pressure.  \n",
    "* Prints thermodynamic output every `thermo_freq` steps and dumps coordinates every `dump_freq`.  \n",
    "* Writes periodic **restart files** so the job can resume if interrupted.  \n",
    "* At the end, saves a clean `final_data.system` snapshot.\n",
    "\n",
    "All parameters are gathered near the top so you can quickly test different conditions.\n",
    "\n",
    "**Challenge 2**: Go back to Tutorial 1 and modify the input files so it creates a slab of 512 waters having the box dimention `24.8x24.8x100` where the water will be in the middle and in the top and bottom will be vaccume. \n"
   ]
  },
  {
   "cell_type": "markdown",
   "id": "9b1e1347",
   "metadata": {},
   "source": [
    "### Description\n",
    "\n",
    "Generates the multi-line string **`start_lmp_script`** and writes it to `start.lmp`.  \n",
    "Scroll through the string to see exactly which variables and fixes are used – it doubles as in-file documentation.\n"
   ]
  },
  {
   "cell_type": "code",
   "execution_count": 2,
   "id": "52ee1368",
   "metadata": {},
   "outputs": [],
   "source": [
    "start_lmp_script = r\"\"\"\n",
    "# MB-pol water-slab simulation\n",
    "\n",
    "# Define the required variables\n",
    "variable        temp        equal  298.0  # simulation temperature\n",
    "variable        dt          equal  0.5    # time step in fs\n",
    "variable        thermo_freq equal  8      # themo printing frequeny\n",
    "variable        dump_freq   equal  8      # traj printing frequeny\n",
    "variable        nsteps      equal  200000    # number of simulation steps\n",
    "variable        print_freq  equal  10      # priting freqency\n",
    "variable        seed        equal  124678 # random seed\n",
    "\n",
    "timer           timeout 23:50:00 every 1000\n",
    "\n",
    "processors * * * map xyz\n",
    "\n",
    "units real\n",
    "atom_style full\n",
    "boundary        p p p\n",
    "\n",
    "# reading the initial configaration\n",
    "read_data data.system\n",
    "\n",
    "# Defining atom types for the system\n",
    "variable        O equal 1\n",
    "variable        H equal 2\n",
    "\n",
    "# MB-pol parameter file\n",
    "include mbpol.param\n",
    "\n",
    "# Try to Google this command and find out what it does\n",
    "neighbor        2.0 bin\n",
    "neigh_modify    every 1 delay 10 check yes\n",
    "\n",
    "# Defining the timestep\n",
    "timestep        ${dt}\n",
    "\n",
    "# \n",
    "thermo_style    custom step time temp etotal pe press vol density lx\n",
    "thermo          ${thermo_freq}\n",
    "thermo_modify   flush yes\n",
    "\n",
    "velocity        all create ${temp} ${seed} rot yes dist gaussian\n",
    "\n",
    "# Printing desierd properites to a file\n",
    "fix             mbx_print all print ${print_freq} \"$(time) $(c_mbx[1]) $(c_mbx[2]) $(c_mbx[3]) $(c_mbx[4]) $(c_mbx[6]) $(c_mbx[6]) $(c_mbx[7]) $(c_mbx[8])\" file mbx_thermo.out screen no title \"# time e1bpip e2bpip e3bpip e4bpip edisp ebuck eele etot\"\n",
    "fix             thermo_print all print ${print_freq} \"$(step) $(time) $(temp) $(etotal) $(ke) $(pe) $(enthalpy) $(density) $(lx) $(ly) $(lz) $(vol) $(pxx) $(pyy) $(pzz) $(press)\" file thermo.out screen no title \"# step time temp etotal ke pe enthalpy density lx ly lz vol pxx pyy pzz press\"\n",
    "\n",
    "# NVT simulation\n",
    "fix             NVT all nvt temp ${temp} ${temp} $(100.0*dt)\n",
    "\n",
    "# For printing the trajectory file\n",
    "dump            DUMP all custom ${dump_freq} traj_nvt.lammpstrj id type x y z\n",
    "dump_modify     DUMP sort id\n",
    "\n",
    "# writing restart files in between the simulation\n",
    "restart         1000 restart.1 restart.2\n",
    "\n",
    "# run the simulaiton\n",
    "run             ${nsteps}\n",
    "\n",
    "# write teh final configaration to a file\n",
    "write_data final_data.system nocoeff\n",
    "\"\"\"\n",
    "\n",
    "with open('start.lmp', 'w') as f:\n",
    "    f.write(start_lmp_script)"
   ]
  },
  {
   "cell_type": "markdown",
   "id": "425f0518",
   "metadata": {},
   "source": [
    "## 4  Create the **`sub.sh`** SLURM submission script \n",
    "\n"
   ]
  },
  {
   "cell_type": "code",
   "execution_count": 3,
   "id": "a3aef9d3",
   "metadata": {},
   "outputs": [],
   "source": [
    "sub_sh_script = r\"\"\"#!/bin/bash\n",
    "\n",
    "#SBATCH --job-name=\"air-water\"\n",
    "#SBATCH --partition=shared\n",
    "#SBATCH --nodes=1\n",
    "#SBATCH --ntasks-per-node=1\n",
    "#SBATCH --cpus-per-task=16\n",
    "#SBATCH --mem=32GB\n",
    "#SBATCH --reservation=QDMS-CPU\n",
    "#SBATCH -A csd973\n",
    "#SBATCH --export=ALL\n",
    "#SBATCH -t 24:00:00\n",
    "\n",
    "module purge\n",
    "module load shared slurm/expanse/23.02.7 sdsc/1.0 DefaultModules slurm/expanse/23.02.7 cpu/0.17.3b intel/19.1.3.304/6pv46so intel-tbb/2020.3/lfesfxm intel-mpi/2019.10.317/ezrfjne fftw/3.3.10/tqkvj37\n",
    "\n",
    "lammps=/expanse/projects/qstore/csd973/bin/lmp_mpi_mbx\n",
    "\n",
    "export OMP_NUM_THREADS=16\n",
    "\n",
    "$lammps -in start.lmp\n",
    "\"\"\"\n",
    "\n",
    "with open('sub.sh', 'w') as f:\n",
    "    f.write(sub_sh_script)"
   ]
  },
  {
   "cell_type": "markdown",
   "id": "ce24c66e",
   "metadata": {},
   "source": [
    "## 5  Submit the simulation\n",
    "\n",
    "With all input files in place we can queue the job on the cluster.  \n"
   ]
  },
  {
   "cell_type": "markdown",
   "id": "2207df72",
   "metadata": {},
   "source": [
    "Simply calls **`sbatch sub.sh`** to submit the job to SLURM.  \n",
    "The command prints the **job ID** so you can monitor progress.\n"
   ]
  },
  {
   "cell_type": "code",
   "execution_count": 4,
   "id": "67ee815e",
   "metadata": {},
   "outputs": [
    {
     "name": "stdout",
     "output_type": "stream",
     "text": [
      "Submitted batch job 41156694\n"
     ]
    }
   ],
   "source": [
    "!sbatch sub.sh"
   ]
  },
  {
   "cell_type": "markdown",
   "id": "05fb1ac8",
   "metadata": {},
   "source": [
    "Check the job queue periodically to see whether your simulation is still running, waiting or finished.\n"
   ]
  },
  {
   "cell_type": "code",
   "execution_count": 6,
   "id": "9fa7be2b",
   "metadata": {},
   "outputs": [
    {
     "name": "stdout",
     "output_type": "stream",
     "text": [
      "             JOBID PARTITION     NAME     USER ST       TIME  NODES NODELIST(REASON)\n",
      "          41156643    shared ion-wate ypolyach  R       8:29      1 exp-2-45\n",
      "          41156694    shared air-wate ypolyach  R       6:48      1 exp-2-45\n"
     ]
    }
   ],
   "source": [
    "!squeue --me"
   ]
  },
  {
   "cell_type": "code",
   "execution_count": null,
   "id": "baa045ae-f748-4989-a7fa-10f18a7922c1",
   "metadata": {},
   "outputs": [],
   "source": []
  }
 ],
 "metadata": {
  "kernelspec": {
   "display_name": "Python 3 (ipykernel)",
   "language": "python",
   "name": "python3"
  },
  "language_info": {
   "codemirror_mode": {
    "name": "ipython",
    "version": 3
   },
   "file_extension": ".py",
   "mimetype": "text/x-python",
   "name": "python",
   "nbconvert_exporter": "python",
   "pygments_lexer": "ipython3",
   "version": "3.10.10"
  }
 },
 "nbformat": 4,
 "nbformat_minor": 5
}
