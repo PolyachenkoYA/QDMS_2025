{
 "cells": [
  {
   "cell_type": "markdown",
   "id": "73a87abf",
   "metadata": {},
   "source": [
    "# Creating a Waterbox and Performing a Quick Equilibration\n",
    "\n",
    "This notebook walks you through **building a periodic box of water**, running an **energy minimisation**, and carrying out a short **NPT equilibration** with **LAMMPS**.  \n",
    "By the end you will have:\n",
    "\n",
    "* `waterbox_initial.lmp` – the as-built, un-equilibrated system  \n",
    "* `equil_waterbox.lmp` – the box after minimisation + equilibration  \n",
    "* Thermodynamic logs (`log.waterbox`, `log.equil`) and a density plot for quick inspection.\n"
   ]
  },
  {
   "cell_type": "markdown",
   "id": "a7e2cd04",
   "metadata": {},
   "source": [
    "<!-- Cell 2 -->\n",
    "### 1 · Environment preparation"
   ]
  },
  {
   "cell_type": "markdown",
   "id": "f6c882f0",
   "metadata": {},
   "source": [
    "1. Loads the required software modules  \n",
    "2. Exports `LAMMPS_EXE` pointing to the **MBX + LAMPPS** build  \n",
    "3. Prints the first two help-screen lines to confirm the binary is found and runnable\n"
   ]
  },
  {
   "cell_type": "code",
   "execution_count": 2,
   "id": "cc18b3c0",
   "metadata": {},
   "outputs": [
    {
     "name": "stdout",
     "output_type": "stream",
     "text": [
      "\n",
      "LAMMPS_EXE = /expanse/projects/qstore/csd973/bin/lmp_mpi_mbx\n",
      "\n",
      "Large-scale Atomic/Molecular Massively Parallel Simulator - 29 Aug 2024 - Update 3\n"
     ]
    },
    {
     "name": "stderr",
     "output_type": "stream",
     "text": [
      "Fatal Python error: Failed to import encodings module\n",
      "Python runtime state: core initialized\n",
      "ModuleNotFoundError: No module named 'encodings'\n",
      "\n",
      "Current thread 0x0000155555536740 (most recent call first):\n",
      "  <no Python frame>\n"
     ]
    }
   ],
   "source": [
    "%%bash --login\n",
    "\n",
    "module purge\n",
    "module load shared slurm/expanse/23.02.7 sdsc/1.0 DefaultModules slurm/expanse/23.02.7 \n",
    "module load cpu/0.17.3b intel/19.1.3.304/6pv46so intel-tbb/2020.3/lfesfxm intel-mpi/2019.10.317/ezrfjne fftw/3.3.10/tqkvj37\n",
    "\n",
    "export LAMMPS_EXE=/expanse/projects/qstore/csd973/bin/lmp_mpi_mbx\n",
    "echo\n",
    "echo \"LAMMPS_EXE = $LAMMPS_EXE\"\n",
    "\"$LAMMPS_EXE\" -h | head -n 2      # quick sanity-check"
   ]
  },
  {
   "cell_type": "markdown",
   "id": "43bcc9ee",
   "metadata": {},
   "source": [
    "<!-- Cell 4 -->\n",
    "### 2 · Creating the water-molecule template\n",
    "\n",
    "`water.mol` will contain atom IDs, coordinates, and topology of a water molecule in **LAMMPS “molecule” format**.  \n"
   ]
  },
  {
   "cell_type": "markdown",
   "id": "9fdeb0c2",
   "metadata": {},
   "source": [
    "<!-- Cell 5 (code follows) -->\n",
    "#### Create `water.mol`"
   ]
  },
  {
   "cell_type": "code",
   "execution_count": 3,
   "id": "470ef178",
   "metadata": {},
   "outputs": [
    {
     "name": "stdout",
     "output_type": "stream",
     "text": [
      "water.mol is created.\n"
     ]
    }
   ],
   "source": [
    "from pathlib import Path\n",
    "\n",
    "water_mol = r'''\n",
    "# Water molecule\n",
    "\n",
    "3 atoms\n",
    "2 bonds\n",
    "1 angles\n",
    "\n",
    "Coords\n",
    "\n",
    "1    0.00000  -0.06556   0.00000\n",
    "2    0.75695   0.52032   0.00000\n",
    "3   -0.75695   0.52032   0.00000\n",
    "\n",
    "Types\n",
    "\n",
    "1        1   # O\n",
    "2        2   # H\n",
    "3        2   # H\n",
    "\n",
    "Charges\n",
    "\n",
    "1       -0.834\n",
    "2        0.417\n",
    "3        0.417\n",
    "\n",
    "Bonds\n",
    "\n",
    "1   1      1      2\n",
    "2   1      1      3\n",
    "\n",
    "Angles\n",
    "\n",
    "1   1      2      1      3\n",
    "'''\n",
    "\n",
    "Path('water.mol').write_text(water_mol)\n",
    "print('water.mol is created.')"
   ]
  },
  {
   "cell_type": "markdown",
   "id": "a7075db0",
   "metadata": {},
   "source": [
    "<!-- Cell 6 (code follows) -->\n",
    "#### Create `tip4pEw.param`\n",
    "\n",
    "We will do a quick equlibration using TIP4P-Ew water model.\n",
    "`tip4pEw.param` holds the **TIP4P-Ew charges, LJ terms, and harmonic OH/HOH parameters** that will be included later.\n",
    "\n",
    "Similarly, this cell writes the full TIP4P-Ew parameter block, including:\n",
    "\n",
    "* `pair_style lj/cut/tip4p/long` with the M-site offset  \n",
    "* LJ coefficients for O–O and H–H  \n",
    "* Grouping all O/H atoms into `h2o`\n"
   ]
  },
  {
   "cell_type": "code",
   "execution_count": 4,
   "id": "c01be721",
   "metadata": {},
   "outputs": [
    {
     "name": "stdout",
     "output_type": "stream",
     "text": [
      "tip4pEw.param is created.\n"
     ]
    }
   ],
   "source": [
    "from pathlib import Path\n",
    "\n",
    "tip4pEw = r'''\n",
    "## H2O ## TIP4P-Ew\n",
    "set             type ${O} charge  -1.04844\n",
    "set             type ${H} charge   0.52422\n",
    "\n",
    "bond_coeff      ${OH_bond} 5000.0  0.9572\n",
    "angle_coeff     ${OH_angle} 5000.0  104.52\n",
    "\n",
    "variable OM_dist equal 0.1250\n",
    "\n",
    "# pair style\n",
    "pair_style &\n",
    "  lj/cut/tip4p/long ${O} ${H} ${OH_bond} ${OH_angle} ${OM_dist} 9.0 9.0\n",
    "\n",
    "# this is for soft pair style\n",
    "# if you are not using soft, just remove the last column \n",
    "pair_coeff      ${O} ${O}  0.162750     3.16435\n",
    "pair_coeff      ${H} ${H}  0.000000     1.0000   \n",
    "pair_coeff      ${H}  *    0.000000     1.0000   \n",
    "\n",
    "group h2o type ${O} ${H}\n",
    "'''\n",
    "\n",
    "Path('tip4pEw.param').write_text(tip4pEw)\n",
    "print('tip4pEw.param is created.')"
   ]
  },
  {
   "cell_type": "markdown",
   "id": "099ff0c1",
   "metadata": {},
   "source": [
    "<!-- Cell 8 (code follows) -->\n",
    "#### Generate `build.in`\n",
    "\n",
    "Key points:\n",
    "\n",
    "* Calculates `box_dim` analytically from `num_water` and target `density`  \n",
    "* Uses `create_atoms … mol water` to place molecules at random, allowing small overlaps  \n",
    "* Includes the parameter file but **defers LJ mixing & k-space settings** to keep the file lightweight  \n",
    "* Writes `waterbox_initial.lmp` without coefficients (`nocoeff`)\n"
   ]
  },
  {
   "cell_type": "code",
   "execution_count": 5,
   "id": "885c1f78",
   "metadata": {},
   "outputs": [
    {
     "name": "stdout",
     "output_type": "stream",
     "text": [
      "build.in is created.\n"
     ]
    }
   ],
   "source": [
    "from pathlib import Path\n",
    "\n",
    "build_in = r'''\n",
    "#############################################\n",
    "#  build_waterbox.in\n",
    "#  – Create a water box and write it\n",
    "#############################################\n",
    "\n",
    "# Variables\n",
    "variable     num_water      equal 256        # number of water molecules\n",
    "variable     density        equal 0.70       # g cm-3 (loose – will relax later)\n",
    "\n",
    "# Calculate cubic box dimension (Å) from number of waters, density, and Avogadro's number\n",
    "variable     box_dim        equal (180*${num_water}/(6.022*${density}))^(1/3)\n",
    "\n",
    "# System definition\n",
    "processors * * * map xyz\n",
    "units      real\n",
    "atom_style full\n",
    "bond_style harmonic\n",
    "angle_style harmonic\n",
    "boundary p p p\n",
    "\n",
    "# Define a cubic simulation region of size box_dim\n",
    "region box block 0 ${box_dim} 0 ${box_dim} 0 ${box_dim}\n",
    "# Create simulation box for two atom types (O and H)\n",
    "create_box 2 box bond/types 1 angle/types 1 &\n",
    "           extra/bond/per/atom 2 extra/angle/per/atom 1 extra/special/per/atom 2\n",
    "\n",
    "# Masses\n",
    "mass 1 15.9994\n",
    "mass 2 1.008\n",
    "\n",
    "variable O        equal 1\n",
    "variable H        equal 2\n",
    "variable OH_bond  equal 1\n",
    "variable OH_angle equal 1\n",
    "\n",
    "molecule water water.mol\n",
    "# Populate the box with water molecules at random positions\n",
    "# seed = 34564, 25678 target num_water molecules, allow small overlaps\n",
    "create_atoms 0 random ${num_water} 34564 NULL mol water 25678 overlap 1.33\n",
    "\n",
    "bond_style   harmonic\n",
    "angle_style  harmonic\n",
    "include      tip4pEw.param         # force-field coefficients\n",
    "kspace_style pppm/tip4p 1.0e-5\n",
    "\n",
    "# Write the box\n",
    "write_data waterbox_initial.lmp nocoeff\n",
    "'''\n",
    "\n",
    "Path('build.in').write_text(build_in)\n",
    "print('build.in is created.')"
   ]
  },
  {
   "cell_type": "markdown",
   "id": "fbb76b3a",
   "metadata": {},
   "source": [
    "<!-- Cell 10 (code follows) -->\n",
    "#### Build the initial box with LAMMPS\n",
    "\n",
    "Runs `lmp_mpi_mbx`, logging output to `log.waterbox`.  \n",
    "Expect this to finish in a few seconds because no dynamics are performed yet.\n"
   ]
  },
  {
   "cell_type": "code",
   "execution_count": 6,
   "id": "9226d463",
   "metadata": {},
   "outputs": [
    {
     "name": "stdout",
     "output_type": "stream",
     "text": [
      "LAMMPS (29 Aug 2024 - Update 3)\n",
      "OMP_NUM_THREADS environment is not set. Defaulting to 1 thread. (../comm.cpp:99)\n",
      "  using 1 OpenMP thread(s) per MPI task\n",
      "Created orthogonal box = (0 0 0) to (22.193437 22.193437 22.193437)\n",
      "  1 by 1 by 1 MPI processor grid\n",
      "Read molecule template water:\n",
      "(no title)\n",
      "  1 molecules\n",
      "  0 fragments\n",
      "  3 atoms with max type 2\n",
      "  2 bonds with max type 1\n",
      "  1 angles with max type 1\n",
      "  0 dihedrals with max type 0\n",
      "  0 impropers with max type 0\n",
      "Created 768 atoms\n",
      "  using lattice units in orthogonal box = (0 0 0) to (22.193437 22.193437 22.193437)\n",
      "  create_atoms CPU = 0.008 seconds\n",
      "Setting atom values ...\n",
      "  256 settings made for charge\n",
      "Setting atom values ...\n",
      "  512 settings made for charge\n",
      "768 atoms in group h2o\n",
      "System init for write_data ...\n",
      "PPPM initialization ...\n",
      "  extracting TIP4P info from pair style\n",
      "  using 12-bit tables for long-range coulomb (../kspace.cpp:342)\n",
      "  G vector (1/distance) = 0.34798202\n",
      "  grid = 24 24 24\n",
      "  stencil order = 5\n",
      "  estimated absolute RMS force accuracy = 0.0025080303\n",
      "  estimated relative force accuracy = 7.5528588e-06\n",
      "  using double precision FFTW3\n",
      "  3d grid and FFT values/proc = 29791 13824\n",
      "WARNING: Communication cutoff 0 is shorter than a bond length based estimate of 3.4358. This may lead to errors. (../comm.cpp:731)\n",
      "WARNING: Increasing communication cutoff to 12.0822 for TIP4P pair style (../pair_lj_cut_tip4p_long.cpp:497)\n",
      "Generated 1 of 1 mixed pair_coeff terms from geometric mixing rule\n",
      "Neighbor list info ...\n",
      "  update: every = 1 steps, delay = 0 steps, check = yes\n",
      "  max neighbors/atom: 2000, page size: 100000\n",
      "  master list distance cutoff = 11.25\n",
      "  ghost atom cutoff = 12.0822\n",
      "  binsize = 5.625, bins = 4 4 4\n",
      "  1 neighbor lists, perpetual/occasional/extra = 1 0 0\n",
      "  (1) pair lj/cut/tip4p/long, perpetual\n",
      "      attributes: half, newton on\n",
      "      pair build: half/bin/newton\n",
      "      stencil: half/bin/3d\n",
      "      bin: standard\n",
      "Total wall time: 0:00:00\n"
     ]
    },
    {
     "name": "stderr",
     "output_type": "stream",
     "text": [
      "Fatal Python error: Failed to import encodings module\n",
      "Python runtime state: core initialized\n",
      "ModuleNotFoundError: No module named 'encodings'\n",
      "\n",
      "Current thread 0x0000155555536740 (most recent call first):\n",
      "  <no Python frame>\n"
     ]
    }
   ],
   "source": [
    "%%bash --login\n",
    "module purge\n",
    "module load shared slurm/expanse/23.02.7 sdsc/1.0 DefaultModules slurm/expanse/23.02.7 \n",
    "module load cpu/0.17.3b intel/19.1.3.304/6pv46so intel-tbb/2020.3/lfesfxm intel-mpi/2019.10.317/ezrfjne fftw/3.3.10/tqkvj37\n",
    "\n",
    "export LAMMPS_EXE=/expanse/projects/qstore/csd973/bin/lmp_mpi_mbx\n",
    "\n",
    "\"$LAMMPS_EXE\"  -in build.in  -log log.waterbox"
   ]
  },
  {
   "cell_type": "markdown",
   "id": "fc326ac1",
   "metadata": {},
   "source": [
    "<!-- Cell 11 -->\n",
    "### 4 · Prepare minimisation & equilibration inputs – overview\n",
    "\n",
    "We’ll minimise potential energy and then equilibrate at **298 K, 1 atm** for **10 ps** (10 000 × 1 fs).  \n",
    "A fresh `equil.in` is created so the workflow remains reproducible.\n"
   ]
  },
  {
   "cell_type": "markdown",
   "id": "e61cfefb",
   "metadata": {},
   "source": [
    "<!-- Cell 12 (code follows) -->\n",
    "#### Generate `equil.in`\n",
    "\n",
    "Highlights:\n",
    "\n",
    "* Defines temperature, timestep, pressure, and thermo print frequency  \n",
    "* Reads `waterbox_initial.lmp` and re-applies `tip4pEw.param`  \n",
    "* Performs a **steepest-descent minimisation** (`minimize 1.0e-4 1.0e-6 500 2000`)  \n",
    "* Switches to **NPT** with SHAKE constraints for rigid water geometry  \n",
    "* Writes the equilibrated structure to `equil_waterbox.lmp`\n"
   ]
  },
  {
   "cell_type": "code",
   "execution_count": 7,
   "id": "f6c5b4a3",
   "metadata": {},
   "outputs": [
    {
     "name": "stdout",
     "output_type": "stream",
     "text": [
      "equil.in created\n"
     ]
    }
   ],
   "source": [
    "from pathlib import Path\n",
    "\n",
    "equil_in = r'''\n",
    "############################################################\n",
    "#  equilibrate_waterbox.in\n",
    "#  Minimise and NPT-equilibrate the pre-built water box\n",
    "############################################################\n",
    "\n",
    "# Variables\n",
    "variable     temp           equal 298.0      # K\n",
    "variable     dt             equal 1.0        # fs\n",
    "variable     P              equal 1          # atm\n",
    "variable     thermo_freq    equal 100        # steps\n",
    "\n",
    "variable O        equal 1\n",
    "variable H        equal 2\n",
    "variable OH_bond  equal 1\n",
    "variable OH_angle equal 1\n",
    "\n",
    "# System initialisation\n",
    "processors * * * map xyz\n",
    "units      real\n",
    "atom_style full\n",
    "\n",
    "read_data  waterbox_initial.lmp\n",
    "\n",
    "bond_style   harmonic\n",
    "angle_style  harmonic\n",
    "include      tip4pEw.param         # force-field coefficients\n",
    "\n",
    "pair_modify  mix arithmetic tail yes\n",
    "kspace_style pppm/tip4p 1.0e-5\n",
    "\n",
    "# Neighbor list settings\n",
    "neighbor 2.0 bin\n",
    "neigh_modify every 1 delay 10 check yes\n",
    "\n",
    "timestep ${dt}\n",
    "thermo_style custom step time temp etotal pe press vol density lx\n",
    "thermo ${thermo_freq}\n",
    "\n",
    "# Initialize velocities to target temperature with Gaussian distribution\n",
    "velocity all create ${temp} 428879 rot yes dist gaussian\n",
    "\n",
    "# Energy minimisation\n",
    "minimize 1.0e-4 1.0e-6 500 2000\n",
    "\n",
    "# NPT equilibration\n",
    "fix SHAKE all shake 1e-5 50 0 b ${OH_bond} a ${OH_angle}\n",
    "fix NPT  all npt temp ${temp} ${temp} $(100.0*dt)  iso ${P} ${P} $(1000.0*dt)\n",
    "\n",
    "run 10000\n",
    "\n",
    "# Write final data file without force field coefficients\n",
    "write_data equil_waterbox.lmp nocoeff\n",
    "'''\n",
    "Path('equil.in').write_text(equil_in)\n",
    "print('equil.in created')"
   ]
  },
  {
   "cell_type": "markdown",
   "id": "4fef2c58",
   "metadata": {},
   "source": [
    "<!-- Cell 13 -->\n",
    "##### Submitting the job  \n"
   ]
  },
  {
   "cell_type": "code",
   "execution_count": 8,
   "id": "878efcda",
   "metadata": {},
   "outputs": [],
   "source": [
    "sub_sh_script = r\"\"\"#!/bin/bash\n",
    "\n",
    "#SBATCH --job-name=\"equil\"\n",
    "#SBATCH --output=\"equil.out\"\n",
    "#SBATCH --partition=debug\n",
    "#SBATCH --nodes=1\n",
    "#SBATCH --ntasks-per-node=1\n",
    "#SBATCH --cpus-per-task=16\n",
    "#SBATCH --mem=32GB\n",
    "#SBATCH -A csd973\n",
    "#SBATCH --export=ALL\n",
    "#SBATCH -t 00:10:00\n",
    "\n",
    "module purge\n",
    "module load shared slurm/expanse/23.02.7 sdsc/1.0 DefaultModules slurm/expanse/23.02.7 cpu/0.17.3b intel/19.1.3.304/6pv46so intel-tbb/2020.3/lfesfxm intel-mpi/2019.10.317/ezrfjne fftw/3.3.10/tqkvj37\n",
    "\n",
    "lammps=/expanse/projects/qstore/csd973/bin/lmp_mpi_mbx\n",
    "\n",
    "export OMP_NUM_THREADS=16\n",
    "\n",
    "$lammps -in equil.in  -log log.equil\n",
    "\"\"\"\n",
    "\n",
    "with open('sub.sh', 'w') as f:\n",
    "    f.write(sub_sh_script)"
   ]
  },
  {
   "cell_type": "code",
   "execution_count": 9,
   "id": "72ce0e82",
   "metadata": {},
   "outputs": [
    {
     "name": "stdout",
     "output_type": "stream",
     "text": [
      "Submitted batch job 41140899\n"
     ]
    }
   ],
   "source": [
    "!sbatch sub.sh"
   ]
  },
  {
   "cell_type": "code",
   "execution_count": 10,
   "id": "199b3fac",
   "metadata": {},
   "outputs": [
    {
     "name": "stdout",
     "output_type": "stream",
     "text": [
      "             JOBID PARTITION     NAME     USER ST       TIME  NODES NODELIST(REASON)\n",
      "          41140899     debug    equil ypolyach  R       0:01      1 exp-9-55\n"
     ]
    }
   ],
   "source": [
    "!squeue --me"
   ]
  },
  {
   "cell_type": "code",
   "execution_count": 11,
   "id": "94cdff66",
   "metadata": {},
   "outputs": [
    {
     "name": "stdout",
     "output_type": "stream",
     "text": [
      "       100   61             737.88587     -343.28642     -1467.2297      249.46412      11083          0.69099609     22.295597    \n",
      "       200   161            533.49634     -830.16198     -1642.7804     -1750.2612      11386.156      0.67259837     22.497057    \n",
      "       300   261            441.71397     -1188.2063     -1861.0224     -1838.4815      11454.261      0.66859924     22.541822    \n",
      "       400   361            396.37883     -1473.2939     -2077.0557     -1367.1297      11313.159      0.6769382      22.448878    \n",
      "       500   461            361.34638     -1699.7974     -2250.198      -2051.3014      11059.902      0.69243919     22.280098    \n",
      "       600   561            322.47239     -1878.8025     -2369.9905     -1825.6131      10713.025      0.71485971     22.044692    \n",
      "       700   661            301.85687     -2008.2566     -2468.0431     -1104.7884      10361.303      0.73912616     21.800751    \n",
      "       800   761            295.13822     -2097.5789     -2547.1317     -1273.8298      10058.633      0.7613669      21.586372    \n",
      "       900   861            291.79499     -2150.8182     -2595.2785     -1417.1964      9771.5665      0.7837341      21.379033    \n",
      "      1000   961            295.8931      -2168.7172     -2619.4198     -1525.5271      9486.77        0.8072621      21.169282    \n"
     ]
    }
   ],
   "source": [
    "!tail equil.out"
   ]
  },
  {
   "cell_type": "markdown",
   "id": "b86a6c39",
   "metadata": {},
   "source": [
    "<!-- Cell 15 -->\n",
    "### 6 · Checking the density\n",
    "\n",
    "A quick plot of density vs. simulation time lets us judge whether:\n",
    "\n",
    "* The system has stabilised near **1 g cm⁻³**  \n"
   ]
  },
  {
   "cell_type": "code",
   "execution_count": 1,
   "id": "9f7e7aba",
   "metadata": {},
   "outputs": [
    {
     "ename": "ModuleNotFoundError",
     "evalue": "No module named 'numpy'",
     "output_type": "error",
     "traceback": [
      "\u001b[0;31m---------------------------------------------------------------------------\u001b[0m",
      "\u001b[0;31mModuleNotFoundError\u001b[0m                       Traceback (most recent call last)",
      "\u001b[0;32m/tmp/ipykernel_1156276/2968845051.py\u001b[0m in \u001b[0;36m<module>\u001b[0;34m\u001b[0m\n\u001b[0;32m----> 1\u001b[0;31m \u001b[0;32mimport\u001b[0m \u001b[0mnumpy\u001b[0m \u001b[0;32mas\u001b[0m \u001b[0mnp\u001b[0m\u001b[0;34m\u001b[0m\u001b[0;34m\u001b[0m\u001b[0m\n\u001b[0m\u001b[1;32m      2\u001b[0m \u001b[0;32mimport\u001b[0m \u001b[0mre\u001b[0m\u001b[0;34m\u001b[0m\u001b[0;34m\u001b[0m\u001b[0m\n\u001b[1;32m      3\u001b[0m \u001b[0;32mimport\u001b[0m \u001b[0mmatplotlib\u001b[0m\u001b[0;34m.\u001b[0m\u001b[0mpyplot\u001b[0m \u001b[0;32mas\u001b[0m \u001b[0mplt\u001b[0m\u001b[0;34m\u001b[0m\u001b[0;34m\u001b[0m\u001b[0m\n\u001b[1;32m      4\u001b[0m \u001b[0;32mimport\u001b[0m \u001b[0mpathlib\u001b[0m\u001b[0;34m\u001b[0m\u001b[0;34m\u001b[0m\u001b[0m\n\u001b[1;32m      5\u001b[0m \u001b[0;34m\u001b[0m\u001b[0m\n",
      "\u001b[0;31mModuleNotFoundError\u001b[0m: No module named 'numpy'"
     ]
    }
   ],
   "source": [
    "import numpy as np\n",
    "import re\n",
    "import matplotlib.pyplot as plt\n",
    "import pathlib\n",
    "\n",
    "# ---------- read log file ----------------------------------------------------\n",
    "log_lines = pathlib.Path(\"log.equil\").read_text().splitlines()\n",
    "\n",
    "num_pat = re.compile(r\"[+-]?\\d+(?:\\.\\d+)?(?:[eE][+-]?\\d+)?\")\n",
    "header = None\n",
    "rows = []\n",
    "\n",
    "for line in log_lines:\n",
    "    if header is None:\n",
    "        if line.lstrip().startswith(\"Step\"):\n",
    "            header = line.split()\n",
    "        continue\n",
    "\n",
    "    # pull out ONLY the numeric tokens on this line\n",
    "    nums = num_pat.findall(line)\n",
    "    if len(nums) == len(header):           # make sure it still lines up\n",
    "        rows.append([float(x) for x in nums])\n",
    "\n",
    "# convert to a NumPy array\n",
    "data = np.array(rows)  # shape (n_steps, n_columns)\n",
    "\n",
    "# find column indices\n",
    "step_idx    = header.index(\"Step\")\n",
    "density_idx = header.index(\"Density\")\n",
    "\n",
    "# compute time in ps and extract density\n",
    "time_ps  = data[:, step_idx] * 0.001     # 1 fs → ps\n",
    "density  = data[:, density_idx]\n",
    "\n",
    "# ----- Plot density only -----------------------------------------------------\n",
    "plt.figure(figsize=(6, 4))\n",
    "plt.plot(time_ps, density)\n",
    "plt.title(\"Density vs. Time\")\n",
    "plt.xlabel(\"Time (ps)\")\n",
    "plt.ylabel(r\"Density (g cm$^{-3}$)\")\n",
    "plt.tight_layout()\n",
    "plt.show()\n"
   ]
  },
  {
   "cell_type": "markdown",
   "id": "9c56cab2",
   "metadata": {},
   "source": [
    "<!-- Cell 17 -->\n",
    "### What to expect\n",
    "\n",
    "After ~2 ps the density should plateau near **1 g cm⁻³**; small fluctuations are normal.  \n",
    "We will perform actual equlibration and produciton run using MB-pol potential in the next step.\n"
   ]
  }
 ],
 "metadata": {
  "kernelspec": {
   "display_name": "Python 3 (ipykernel)",
   "language": "python",
   "name": "python3"
  },
  "language_info": {
   "codemirror_mode": {
    "name": "ipython",
    "version": 3
   },
   "file_extension": ".py",
   "mimetype": "text/x-python",
   "name": "python",
   "nbconvert_exporter": "python",
   "pygments_lexer": "ipython3",
   "version": "3.10.10"
  }
 },
 "nbformat": 4,
 "nbformat_minor": 5
}
